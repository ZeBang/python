{
 "cells": [
  {
   "cell_type": "markdown",
   "id": "496e769b",
   "metadata": {},
   "source": [
    "\n",
    "# Getting Started with Python - Session 1\n",
    "\n",
    "## 1. How to Install Python\n",
    "\n",
    "### Windows / macOS\n",
    "1. Go to the official Python website: [https://www.python.org/downloads/](https://www.python.org/downloads/)\n",
    "2. Download the latest stable version of Python (recommended: 3.x).\n",
    "3. Run the installer and check **\"Add Python to PATH\"** before clicking *Install Now*.\n",
    "4. After installation, open your terminal (Command Prompt on Windows, Terminal on macOS) and type:\n",
    "\n",
    "`python --version`\n",
    "\n",
    "to check the installation."
   ]
  },
  {
   "cell_type": "markdown",
   "id": "af0dff61",
   "metadata": {},
   "source": [
    "\n",
    "## 2. How to Install Jupyter Notebook\n",
    "\n",
    "Once Python is installed, open your terminal and install Jupyter with:\n",
    "\n",
    "`pip install notebook`\n",
    "\n",
    "To start Jupyter Notebook, type:\n",
    "\n",
    "`jupyter notebook`\n",
    "\n",
    "or\n",
    "\n",
    "`python -m notebook`\n",
    "\n",
    "This will open a web page where you can create and run Python notebooks.\n"
   ]
  },
  {
   "attachments": {},
   "cell_type": "markdown",
   "id": "8d1d9b43-399d-43df-9566-83ac1cb53de5",
   "metadata": {},
   "source": [
    "\n",
    "## 3. You can also use following to use Jupyter as a temporary solution\n",
    "\n",
    "Online Jupyter\n",
    "\n",
    "https://jupyter.org/try-jupyter/lab/\n",
    "\n",
    "Google Colab\n",
    "\n",
    "https://colab.research.google.com/\n",
    "\n",
    "Anaconda\n",
    "\n",
    "https://www.anaconda.com/download/success"
   ]
  },
  {
   "attachments": {},
   "cell_type": "markdown",
   "id": "8a652d6c",
   "metadata": {},
   "source": [
    "## 3. First Python Program\n",
    "\n",
    "The **print()** function is your tool for displaying information on the screen. It's one of the most important functions you'll use in Python.\n",
    "\n",
    "The string “Hello World” is the input of the function print() \n",
    "\n",
    "You see “Hello World” after you run the code. It is the ouput of the function print()"
   ]
  },
  {
   "cell_type": "code",
   "execution_count": 23,
   "id": "0fa8e58a",
   "metadata": {},
   "outputs": [
    {
     "name": "stdout",
     "output_type": "stream",
     "text": [
      "Hello, World!\n",
      "Welcome to Python programming!\n",
      "Hello, Future Programmer!\n"
     ]
    }
   ],
   "source": [
    "# Your first Python program!\n",
    "print(\"Hello, World!\")\n",
    "print(\"Welcome to Python programming!\")\n",
    "\n",
    "# Make it personal\n",
    "name = \"Future Programmer\"\n",
    "print(f\"Hello, {name}!\")"
   ]
  },
  {
   "cell_type": "markdown",
   "id": "3340932a-82e4-4597-b230-7c647662e59c",
   "metadata": {},
   "source": [
    "**print()** Function Essentials\n",
    "\n",
    "- Purpose: Show text or data on the screen.\n",
    "\n",
    "- Syntax: print(\"your message\")\n",
    "\n",
    "- Quotes: Use single ' ' or double \" \" quotes for text.\n",
    "\n",
    "- Multiple items: print(\"Hello\", \"World\", 123)\n",
    "\n",
    "- Always remember: Parentheses () are required."
   ]
  },
  {
   "cell_type": "code",
   "execution_count": 24,
   "id": "bafe8d32-578c-4498-b89c-e604de119cc0",
   "metadata": {},
   "outputs": [
    {
     "name": "stdout",
     "output_type": "stream",
     "text": [
      "Hello, World!\n",
      "Single quotes work too!\n",
      "42\n",
      "3.14\n",
      "My name is Alice and I am 25 years old\n",
      "2 + 3 = 5\n"
     ]
    }
   ],
   "source": [
    "# Different ways to use print()\n",
    "print(\"Hello, World!\")\n",
    "print('Single quotes work too!')\n",
    "\n",
    "# Print numbers\n",
    "print(42)\n",
    "print(3.14)\n",
    "\n",
    "# Print multiple things at once\n",
    "print(\"My name is\", \"Alice\", \"and I am\", 25, \"years old\")\n",
    "\n",
    "# Print with calculations\n",
    "print(\"2 + 3 =\", 2 + 3)"
   ]
  },
  {
   "attachments": {},
   "cell_type": "markdown",
   "id": "9b956765-bf3d-453d-b41f-8544530ac825",
   "metadata": {},
   "source": [
    "## 4. Simpla Math in Python\n",
    "\n",
    "Python makes math easy! You can use variables and numbers together to create useful calculations.\n",
    "\n",
    "**Basic Math Operators**\n",
    "\n",
    "- Addition (+) → 2 + 3 = 5\n",
    "\n",
    "- Subtraction (-) → 5 - 2 = 3\n",
    "\n",
    "- Multiplication (*) → 3 * 4 = 12\n",
    "\n",
    "- Division (/) → 10 / 2 = 5.0"
   ]
  },
  {
   "cell_type": "code",
   "execution_count": 26,
   "id": "8bf87388-a097-41b0-a788-1d0c3f836731",
   "metadata": {},
   "outputs": [
    {
     "name": "stdout",
     "output_type": "stream",
     "text": [
      "8\n",
      "6\n",
      "42\n",
      "4.0\n",
      "6\n",
      "2\n",
      "32\n"
     ]
    }
   ],
   "source": [
    "# Addition\n",
    "print(5 + 3)\n",
    "\n",
    "# Subtraction\n",
    "print(10 - 4)\n",
    "\n",
    "# Multiplication\n",
    "print(7 * 6)\n",
    "\n",
    "# Division\n",
    "print(20 / 5)\n",
    "\n",
    "# Floor division\n",
    "print(20 // 3)\n",
    "\n",
    "# Modulus (remainder)\n",
    "print(20 % 3)\n",
    "\n",
    "# Power\n",
    "print(2 ** 5)"
   ]
  },
  {
   "attachments": {},
   "cell_type": "markdown",
   "id": "b37a872c-88c3-476f-bcb0-af8724fd0879",
   "metadata": {},
   "source": [
    "## 5. Comparison Operators\n",
    "\n",
    "Similar to actual Mathematics.\n",
    "\n",
    "Order of calculations is the same as in Mathematics.\n",
    "\n",
    "| Symbol | Task Performed  | Example | Result |\n",
    "|--------|----------------|---------|--------|\n",
    "| +      | Addition       | 4 + 3   | 7      |\n",
    "| -      | Subtraction    | 4 - 3   | 1      |\n",
    "| /      | Division       | 7 / 2   | 3.5    |\n",
    "| %      | Mod            | 7 % 2   | 1      |\n",
    "| *      | Multiplication | 4 * 3   | 12     |\n",
    "| //     | Floor division | 7 // 2  | 3      |\n",
    "| **     | Power of       | 7 ** 2  | 49     |\n",
    "\n",
    "\n",
    "We can compare two numbers.\n",
    "\n",
    "Return True of False.\n",
    "\n",
    "| Operator | Output |\n",
    "|----------|------------------------------------------------|\n",
    "| x == y   | True if x and y have the same value            |\n",
    "| x != y   | True if x and y don't have the same value      |\n",
    "| x < y    | True if x is less than y                       |\n",
    "| x > y    | True if x is more than y                       |\n",
    "| x <= y   | True if x is less than or equal to y           |\n",
    "| x >= y   | True if x is more than or equal to y           |\n",
    "\n"
   ]
  },
  {
   "cell_type": "code",
   "execution_count": 32,
   "id": "66abbe71-cf94-48f5-8dfc-1e8781241b74",
   "metadata": {},
   "outputs": [
    {
     "name": "stdout",
     "output_type": "stream",
     "text": [
      "True\n"
     ]
    }
   ],
   "source": [
    "print(2 > 1)"
   ]
  },
  {
   "attachments": {},
   "cell_type": "markdown",
   "id": "b99cbf62-9900-4d28-bb4b-ad20981b6892",
   "metadata": {},
   "source": [
    "## 8. Writting Comments\n",
    "\n",
    "Comments are notes you write in your code to explain what it does and why. They're like leaving helpful messages for yourself and other programmers who might read your code later. \n",
    "\n",
    "Python ignores comments completely when running your program, so you can write as many as you need!\n",
    "\n",
    "Good comments make your programs easier to understand, debug, and maintain. Think of them as documentation that travels with your code.\n",
    "\n"
   ]
  },
  {
   "cell_type": "code",
   "execution_count": 29,
   "id": "9471da59-ed30-460a-9bf3-3880a1ed9485",
   "metadata": {},
   "outputs": [
    {
     "name": "stdout",
     "output_type": "stream",
     "text": [
      "Hello, World!\n"
     ]
    }
   ],
   "source": [
    "# This is a single-line comment\n",
    "print(\"Hello, World!\")"
   ]
  },
  {
   "cell_type": "code",
   "execution_count": 30,
   "id": "34642444-a843-45e5-b474-553fdd9501ca",
   "metadata": {},
   "outputs": [],
   "source": [
    "age = 25  # You can add comments at the end of lines\n",
    "# Comments help explain your code"
   ]
  },
  {
   "cell_type": "code",
   "execution_count": 31,
   "id": "d71133f1-29e5-4b77-9f2b-32881119da22",
   "metadata": {},
   "outputs": [
    {
     "name": "stdout",
     "output_type": "stream",
     "text": [
      "Hello, Python!\n"
     ]
    }
   ],
   "source": [
    "\"\"\"\n",
    "This is a multi-line comment using triple quotes.\n",
    "It can span several lines and is useful for\n",
    "longer explanations or documentation.\n",
    "\"\"\"\n",
    "\n",
    "# You can also use multiple single-line comments\n",
    "# to explain more complex concepts\n",
    "# across several lines\n",
    "\n",
    "name = \"Python\"\n",
    "print(f\"Hello, {name}!\")\n"
   ]
  },
  {
   "cell_type": "markdown",
   "id": "80aa2d14-7f33-4045-8558-d3c00160d5a0",
   "metadata": {},
   "source": [
    "## Exercises"
   ]
  },
  {
   "cell_type": "markdown",
   "id": "57527ef6-5c0a-4136-9336-148683cca090",
   "metadata": {},
   "source": [
    "### Exercise 1.1 print your info"
   ]
  },
  {
   "cell_type": "code",
   "execution_count": 25,
   "id": "1ce0da08-f7b6-4486-859e-a5bce216a967",
   "metadata": {},
   "outputs": [
    {
     "name": "stdout",
     "output_type": "stream",
     "text": [
      "...\n",
      "...\n",
      "...\n"
     ]
    }
   ],
   "source": [
    "## What os your name?\n",
    "print(\"...\")\n",
    "\n",
    "## Which city you coming from?\n",
    "print(\"...\")\n",
    "\n",
    "## What's your favorite hobby?\n",
    "print(\"...\")"
   ]
  },
  {
   "cell_type": "markdown",
   "id": "a118f1c8-d0e1-4860-8aaa-7a1bd010e386",
   "metadata": {},
   "source": [
    "### Exercise 1.2 Calculator"
   ]
  },
  {
   "cell_type": "code",
   "execution_count": 27,
   "id": "ef27572f-9c0a-42dc-b379-7cfa367490ff",
   "metadata": {},
   "outputs": [
    {
     "name": "stdout",
     "output_type": "stream",
     "text": [
      "=== SIMPLE CALCULATOR ===\n",
      "12 + 10 = 1\n"
     ]
    }
   ],
   "source": [
    "# Simple calculator program\n",
    "print(\"=== SIMPLE CALCULATOR ===\")\n",
    "\n",
    "# Get numbers from user\n",
    "num1 = 12\n",
    "num2 = 10\n",
    "\n",
    "# Do the math\n",
    "addition = # TODO: Your code here\n",
    "subtraction = # TODO: Your code here\n",
    "multiplication = # TODO: Your code here\n",
    "division = # TODO: Your code here\n",
    "\n",
    "# Show results\n",
    "print(f\"{num1} + {num2} = {addition}\")\n",
    "print(f\"{num1} - {num2} = {subtraction}\")\n",
    "print(f\"{num1} * {num2} = {multiplication}\")\n",
    "print(f\"{num1} / {num2} = {division:.2f}\")"
   ]
  },
  {
   "cell_type": "markdown",
   "id": "a687bfe6-63f4-4b27-90ab-03e8014c32cf",
   "metadata": {},
   "source": [
    "### Exercise 1.3 How Much"
   ]
  },
  {
   "cell_type": "code",
   "execution_count": null,
   "id": "2cab4919-c107-45c6-915a-3ca3eae3d122",
   "metadata": {},
   "outputs": [],
   "source": [
    "apple = 3.56\n",
    "number = 17\n",
    "\n",
    "print(\"How much in total?\")\n",
    "# TODO: Your code here"
   ]
  },
  {
   "cell_type": "markdown",
   "id": "9a86b170-2837-43c4-bf1c-4c6e87b27b14",
   "metadata": {},
   "source": [
    "### Exercise 1.4 How to comment"
   ]
  },
  {
   "cell_type": "code",
   "execution_count": null,
   "id": "c7963d37-f977-4b2e-9be3-39a5deaeff77",
   "metadata": {},
   "outputs": [],
   "source": []
  },
  {
   "cell_type": "markdown",
   "id": "d4d8d710-5bec-4630-9c2e-a8aa0b835e87",
   "metadata": {},
   "source": [
    "### Exercise 1.5\n",
    "\n",
    "This interactive exercise combines Python basics with a fun quiz game and calculator challenge. Students will practice input/output, variables, math operations, and comments.\n",
    "\n",
    "**Part 1: Python Knowledge Quiz**"
   ]
  },
  {
   "cell_type": "code",
   "execution_count": 11,
   "id": "3cc0970b-9ac5-4068-91ba-0a39c3b711d8",
   "metadata": {},
   "outputs": [
    {
     "name": "stdout",
     "output_type": "stream",
     "text": [
      "Welcome to the Python Basics Quiz!\n",
      "==================================\n",
      "\n",
      "1. What function is used to display output in Python? Just function name, do not include ()\n"
     ]
    },
    {
     "name": "stdin",
     "output_type": "stream",
     "text": [
      "Your answer:  print()\n"
     ]
    },
    {
     "name": "stdout",
     "output_type": "stream",
     "text": [
      "Incorrect. The correct answer is 'print'.\n",
      "\n",
      "2. Which symbol is used for single-line comments in Python?\n"
     ]
    },
    {
     "name": "stdin",
     "output_type": "stream",
     "text": [
      "Your answer:  #\n"
     ]
    },
    {
     "name": "stdout",
     "output_type": "stream",
     "text": [
      "Correct!\n",
      "\n",
      "3. What does the following code output: print(2+3*2)\n"
     ]
    },
    {
     "name": "stdin",
     "output_type": "stream",
     "text": [
      "Your answer:  8\n"
     ]
    },
    {
     "name": "stdout",
     "output_type": "stream",
     "text": [
      "Correct!\n",
      "\n",
      "4. What does the following code output: print((2+3)*2)\n"
     ]
    },
    {
     "name": "stdin",
     "output_type": "stream",
     "text": [
      "Your answer:  10\n"
     ]
    },
    {
     "name": "stdout",
     "output_type": "stream",
     "text": [
      "Correct!\n",
      "\n",
      "5. What does the following code output: print(\"2+3*2\")\n"
     ]
    },
    {
     "name": "stdin",
     "output_type": "stream",
     "text": [
      "Your answer:  \"2+3*2\"\n"
     ]
    },
    {
     "name": "stdout",
     "output_type": "stream",
     "text": [
      "\"2+3*2\"\n",
      "False\n",
      "Incorrect. The correct answer is '2+3*2' (They are string!).\n",
      "\n",
      "Your final score: 3/5\n",
      "Python expert! 🎉\n"
     ]
    }
   ],
   "source": [
    "# Python Basics Quiz\n",
    "# Complete the code to create an interactive quiz\n",
    "\n",
    "print(\"Welcome to the Python Basics Quiz!\")\n",
    "print(\"==================================\")\n",
    "\n",
    "# Initialize score\n",
    "score = 0\n",
    "\n",
    "# Question 1\n",
    "print(\"\\n1. What function is used to display output in Python? Just function name, do not include ()\")\n",
    "answer1 = input(\"Your answer: \")\n",
    "\n",
    "# Check if answer is correct (case-insensitive)\n",
    "if answer1.lower() == \"print\":\n",
    "    print(\"Correct!\")\n",
    "    score += 1\n",
    "else:\n",
    "    print(\"Incorrect. The correct answer is 'print'.\")\n",
    "\n",
    "# Question 2\n",
    "print(\"\\n2. Which symbol is used for single-line comments in Python?\")\n",
    "answer2 = input(\"Your answer: \")\n",
    "\n",
    "if answer2 == \"#\":\n",
    "    print(\"Correct!\")\n",
    "    score += 1\n",
    "else:\n",
    "    print(\"Incorrect. The correct answer is '#'.\")\n",
    "\n",
    "# Question 3\n",
    "print(\"\\n3. What does the following code output: print(2+3*2)\")\n",
    "answer3 = input(\"Your answer: \")\n",
    "\n",
    "if answer3 == \"8\":\n",
    "    print(\"Correct!\")\n",
    "    score += 1\n",
    "else:\n",
    "    print(\"Incorrect. The correct answer is '8' (multiplication happens first).\")\n",
    "\n",
    "# Question 4\n",
    "print(\"\\n4. What does the following code output: print((2+3)*2)\")\n",
    "answer4 = input(\"Your answer: \")\n",
    "if answer4 == \"10\":\n",
    "    print(\"Correct!\")\n",
    "    score += 1\n",
    "else:\n",
    "    print(\"Incorrect. The correct answer is '10' (round brackets happens first).\")\n",
    "\n",
    "\n",
    "# Question 5\n",
    "print(\"\\n5. What does the following code output: print(\\\"2+3*2\\\")\")\n",
    "answer5 = input(\"Your answer: \")\n",
    "print(answer5)\n",
    "print(answer5 == \"2+3*2\")\n",
    "if answer5 == \"2+3*2\":\n",
    "    print(\"Correct!\")\n",
    "    score += 1\n",
    "else:\n",
    "    print(\"Incorrect. The correct answer is '2+3*2' (They are string!).\")\n",
    "\n",
    "# Display final \n",
    "print(f\"\\nYour final score: {score}/5\")\n",
    "\n",
    "if score == 5:\n",
    "    print(\"!!! You are the smartest in the world !!!\")\n",
    "if score >= 3:\n",
    "    print(\"Python expert! 🎉\")\n",
    "elif score == 2:\n",
    "    print(\"Good job! 👍\")\n",
    "else:\n",
    "    print(\"Keep practicing! 💪\")"
   ]
  },
  {
   "cell_type": "code",
   "execution_count": null,
   "id": "601bd295-d88b-46b0-9d9c-fd51804c875e",
   "metadata": {},
   "outputs": [],
   "source": []
  }
 ],
 "metadata": {
  "kernelspec": {
   "display_name": "Python 3 (ipykernel)",
   "language": "python",
   "name": "python3"
  },
  "language_info": {
   "codemirror_mode": {
    "name": "ipython",
    "version": 3
   },
   "file_extension": ".py",
   "mimetype": "text/x-python",
   "name": "python",
   "nbconvert_exporter": "python",
   "pygments_lexer": "ipython3",
   "version": "3.13.7"
  }
 },
 "nbformat": 4,
 "nbformat_minor": 5
}
