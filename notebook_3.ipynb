{
  "cells": [
    {
      "cell_type": "markdown",
      "source": [
        "[![Open in Colab](https://colab.research.google.com/assets/colab-badge.svg)](https://colab.research.google.com/github/ZeBang/python/blob/main/notebook_3.ipynb)"
      ],
      "metadata": {
        "id": "LNZ2auIjJDCd"
      },
      "id": "LNZ2auIjJDCd"
    },
    {
      "cell_type": "markdown",
      "source": [
        "# Data Structure - Session 3"
      ],
      "metadata": {
        "id": "nXAO1Jaw_KVL"
      },
      "id": "nXAO1Jaw_KVL"
    },
    {
      "cell_type": "markdown",
      "id": "496e769b",
      "metadata": {
        "id": "496e769b"
      },
      "source": [
        "## Lists []\n",
        "\n",
        "Python lists are one of the most fundamental and powerful data structures in the language. They allow you to store multiple items in a single variable, organize data in a specific order, and perform various operations on collections of information. Lists are essential for almost every Python program that deals with multiple pieces of data.\n",
        "\n",
        "Think of lists as containers that can hold any type of data - numbers, strings, or even other lists. They're like digital filing cabinets where you can store, organize, retrieve, and modify your data efficiently."
      ]
    },
    {
      "cell_type": "code",
      "execution_count": 1,
      "id": "c9aae8c1",
      "metadata": {
        "id": "c9aae8c1",
        "outputId": "cf90ee1a-1391-4956-f3c9-fff03db1b885",
        "colab": {
          "base_uri": "https://localhost:8080/",
          "height": 0
        }
      },
      "outputs": [
        {
          "output_type": "stream",
          "name": "stdout",
          "text": [
            "Fruits: ['apple', 'banana', 'cherry']\n",
            "Numbers: [1, 2, 3, 4, 5]\n",
            "Mixed data: ['hello', 42, True, 3.14]\n"
          ]
        }
      ],
      "source": [
        "# Basic list examples\n",
        "fruits = [\"apple\", \"banana\", \"cherry\"]\n",
        "numbers = [1, 2, 3, 4, 5]\n",
        "mixed_data = [\"hello\", 42, True, 3.14]\n",
        "\n",
        "print(\"Fruits:\", fruits)\n",
        "print(\"Numbers:\", numbers)\n",
        "print(\"Mixed data:\", mixed_data)"
      ]
    },
    {
      "cell_type": "markdown",
      "id": "1c7d430a",
      "metadata": {
        "id": "1c7d430a"
      },
      "source": [
        "### Creating Lists\n",
        "\n",
        "Creating lists is the foundation of working with collections in Python. There are multiple ways to create lists, each suited for different scenarios - from simple manual creation to dynamic generation based on patterns or conditions. Understanding these different approaches gives you flexibility in how you initialize and populate your data structures.\n",
        "\n",
        "Whether you're starting with known values, generating sequences, or creating empty lists to fill later, Python provides intuitive and powerful methods for list creation."
      ]
    },
    {
      "cell_type": "code",
      "source": [
        "# Different ways to create lists\n",
        "# Simple list with known values\n",
        "fruits = [\"apple\", \"banana\", \"cherry\"]\n",
        "print(\"Fruits:\", fruits)"
      ],
      "metadata": {
        "colab": {
          "base_uri": "https://localhost:8080/",
          "height": 0
        },
        "id": "v6G7e9isCyhD",
        "outputId": "3a0e832c-af22-4944-eb99-846d2d2848e2"
      },
      "id": "v6G7e9isCyhD",
      "execution_count": 2,
      "outputs": [
        {
          "output_type": "stream",
          "name": "stdout",
          "text": [
            "Fruits: ['apple', 'banana', 'cherry']\n"
          ]
        }
      ]
    },
    {
      "cell_type": "code",
      "source": [
        "# List with mixed data types\n",
        "student_record = [\"Alice\", 20, 3.8, True]\n",
        "print(\"Student:\", student_record)"
      ],
      "metadata": {
        "colab": {
          "base_uri": "https://localhost:8080/",
          "height": 0
        },
        "id": "_oiV1wXXFmcI",
        "outputId": "5ddc2e54-c992-4306-9fdb-daed50786799"
      },
      "id": "_oiV1wXXFmcI",
      "execution_count": 3,
      "outputs": [
        {
          "output_type": "stream",
          "name": "stdout",
          "text": [
            "Student: ['Alice', 20, 3.8, True]\n"
          ]
        }
      ]
    },
    {
      "cell_type": "code",
      "source": [
        "# List with repeated values\n",
        "zeros = [0] * 5\n",
        "print(\"Zeros:\", zeros)"
      ],
      "metadata": {
        "colab": {
          "base_uri": "https://localhost:8080/",
          "height": 0
        },
        "id": "x0wTDb8JFouy",
        "outputId": "f16e889a-6af2-456d-897a-be3f1955d1b5"
      },
      "id": "x0wTDb8JFouy",
      "execution_count": 4,
      "outputs": [
        {
          "output_type": "stream",
          "name": "stdout",
          "text": [
            "Zeros: [0, 0, 0, 0, 0]\n"
          ]
        }
      ]
    },
    {
      "cell_type": "markdown",
      "source": [
        "**List Literal Syntax**\n",
        "\n",
        "*Basic Syntax*: `[item1, item2, item3, ...]`\n",
        "\n",
        "**Key Rules:**\n",
        "\n",
        "- Items separated by commas\n",
        "- Can contain any data type\n",
        "- Can mix different data types\n",
        "- Empty lists: `[]`\n",
        "- Single item lists: `[item]` (comma optional)\n",
        "\n",
        "**Best Practices:**\n",
        "\n",
        "- Use for known, fixed data\n",
        "- Keep reasonable length for readability\n",
        "- Group related items logically"
      ],
      "metadata": {
        "id": "3sS3LSpNDqmP"
      },
      "id": "3sS3LSpNDqmP"
    },
    {
      "cell_type": "markdown",
      "source": [
        "**Different Data Type Examples**\n",
        "\n",
        "Working with various types of data in list literals:"
      ],
      "metadata": {
        "id": "OnN2eBS-D8Yl"
      },
      "id": "OnN2eBS-D8Yl"
    },
    {
      "cell_type": "code",
      "source": [
        "# String list\n",
        "colors = [\"red\", \"green\", \"blue\", \"yellow\"]\n",
        "print(\"Colors:\", colors)"
      ],
      "metadata": {
        "colab": {
          "base_uri": "https://localhost:8080/",
          "height": 0
        },
        "id": "yoXtWwNbEKve",
        "outputId": "b0802ae4-0750-4fa4-fca4-5eb2a945f246"
      },
      "id": "yoXtWwNbEKve",
      "execution_count": 5,
      "outputs": [
        {
          "output_type": "stream",
          "name": "stdout",
          "text": [
            "Colors: ['red', 'green', 'blue', 'yellow']\n"
          ]
        }
      ]
    },
    {
      "cell_type": "code",
      "source": [
        "# Number list\n",
        "scores = [85, 92, 78, 96, 88]\n",
        "print(\"Scores:\", scores)"
      ],
      "metadata": {
        "colab": {
          "base_uri": "https://localhost:8080/",
          "height": 0
        },
        "id": "F4y4HSrdFsFJ",
        "outputId": "26170eda-7727-4f8f-ef19-e1bf36907232"
      },
      "id": "F4y4HSrdFsFJ",
      "execution_count": 6,
      "outputs": [
        {
          "output_type": "stream",
          "name": "stdout",
          "text": [
            "Scores: [85, 92, 78, 96, 88]\n"
          ]
        }
      ]
    },
    {
      "cell_type": "code",
      "source": [
        "# Boolean list\n",
        "flags = [True, False, True, True]\n",
        "print(\"Flags:\", flags)"
      ],
      "metadata": {
        "colab": {
          "base_uri": "https://localhost:8080/",
          "height": 0
        },
        "id": "t-mN7HFjFtqb",
        "outputId": "768a33f2-005e-4385-9436-a1884d601f8b"
      },
      "id": "t-mN7HFjFtqb",
      "execution_count": 7,
      "outputs": [
        {
          "output_type": "stream",
          "name": "stdout",
          "text": [
            "Flags: [True, False, True, True]\n"
          ]
        }
      ]
    },
    {
      "cell_type": "code",
      "source": [
        "# Mixed data types\n",
        "profile = [\"John\", 25, \"Engineer\", True, 75000.50]\n",
        "print(\"Profile:\", profile)"
      ],
      "metadata": {
        "colab": {
          "base_uri": "https://localhost:8080/",
          "height": 0
        },
        "id": "1eCvRJXgFvDh",
        "outputId": "27ecc882-8d24-49ef-c375-706d0ae15804"
      },
      "id": "1eCvRJXgFvDh",
      "execution_count": 8,
      "outputs": [
        {
          "output_type": "stream",
          "name": "stdout",
          "text": [
            "Profile: ['John', 25, 'Engineer', True, 75000.5]\n"
          ]
        }
      ]
    },
    {
      "cell_type": "code",
      "source": [
        "# Nested lists\n",
        "matrix = [[1, 2, 3], [4, 5, 6], [7, 8, 9]]\n",
        "print(\"Matrix:\", matrix)"
      ],
      "metadata": {
        "colab": {
          "base_uri": "https://localhost:8080/",
          "height": 0
        },
        "id": "Pz2UfiZ8FwOp",
        "outputId": "92900354-51a2-424e-c27a-70b2448bb7c6"
      },
      "id": "Pz2UfiZ8FwOp",
      "execution_count": 9,
      "outputs": [
        {
          "output_type": "stream",
          "name": "stdout",
          "text": [
            "Matrix: [[1, 2, 3], [4, 5, 6], [7, 8, 9]]\n"
          ]
        }
      ]
    },
    {
      "cell_type": "markdown",
      "source": [
        "**Creating Empty Lists**\n",
        "\n",
        "Empty lists are essential when you need to build collections dynamically during program execution. You can create empty lists and populate them using loops, user input, or conditional logic.\n",
        "\n",
        "Starting with empty lists is common in data collection, filtering operations, and accumulation patterns.\n",
        "\n",
        "Two Methods:\n",
        "\n",
        "- Square brackets: `[]`\n",
        "- Constructor: `list()`"
      ],
      "metadata": {
        "id": "hTDEOLlHD8RQ"
      },
      "id": "hTDEOLlHD8RQ"
    },
    {
      "cell_type": "code",
      "source": [
        "# Empty list to fill later\n",
        "shopping_cart = []\n",
        "print(\"Empty cart:\", shopping_cart)"
      ],
      "metadata": {
        "colab": {
          "base_uri": "https://localhost:8080/",
          "height": 0
        },
        "id": "9trlukOJFyNq",
        "outputId": "a9d48797-04ce-4df6-bf62-01a13ee0a674"
      },
      "id": "9trlukOJFyNq",
      "execution_count": 10,
      "outputs": [
        {
          "output_type": "stream",
          "name": "stdout",
          "text": [
            "Empty cart: []\n"
          ]
        }
      ]
    },
    {
      "cell_type": "code",
      "source": [
        "# Empty list to fill later\n",
        "shopping_cart = list()\n",
        "print(\"Empty cart:\", shopping_cart)"
      ],
      "metadata": {
        "colab": {
          "base_uri": "https://localhost:8080/",
          "height": 0
        },
        "id": "LRWwbf8lF3sR",
        "outputId": "faf8cda9-90fa-47b9-bbd7-a98cffe68b29"
      },
      "id": "LRWwbf8lF3sR",
      "execution_count": 11,
      "outputs": [
        {
          "output_type": "stream",
          "name": "stdout",
          "text": [
            "Empty cart: []\n"
          ]
        }
      ]
    },
    {
      "cell_type": "markdown",
      "source": [
        "**Using the `range()` Function**\n",
        "\n",
        "The `range()` function combined with `list()` creates sequences of numbers efficiently. This approach is perfect for generating numeric sequences, indices, or patterns without manually typing each value.\n",
        "\n",
        "Range-based list creation is essential for mathematical operations, iterations, and data generation.\n",
        "\n",
        "Range Function Syntax\n",
        "Syntax Options:\n",
        "\n",
        "- `range(stop)`: 0 to stop-1\n",
        "- `range(start, stop)`: start to stop-1\n",
        "- `range(start, stop, step)`: start to stop-1 with step\n",
        "\n",
        "Important Notes:\n",
        "\n",
        "- Stop value is exclusive (not included)\n",
        "- Default start is 0\n",
        "- Default step is 1\n",
        "- Use `list(range(...))` to create actual list\n",
        "- Negative steps create descending sequences"
      ],
      "metadata": {
        "id": "QVOb7w7PD8Tt"
      },
      "id": "QVOb7w7PD8Tt"
    },
    {
      "cell_type": "markdown",
      "source": [
        "**Number Sequence Examples**\n",
        "\n",
        "Creating various number patterns with `range()`:"
      ],
      "metadata": {
        "id": "rsX3J6kpFM-C"
      },
      "id": "rsX3J6kpFM-C"
    },
    {
      "cell_type": "code",
      "source": [
        "# Basic sequence\n",
        "numbers = list(range(10))\n",
        "print(\"0 to 9:\", numbers)"
      ],
      "metadata": {
        "colab": {
          "base_uri": "https://localhost:8080/",
          "height": 0
        },
        "id": "u4cuFKv1EEkr",
        "outputId": "cabe88a8-ae96-4888-8a8e-084611e181bc"
      },
      "id": "u4cuFKv1EEkr",
      "execution_count": 12,
      "outputs": [
        {
          "output_type": "stream",
          "name": "stdout",
          "text": [
            "0 to 9: [0, 1, 2, 3, 4, 5, 6, 7, 8, 9]\n"
          ]
        }
      ]
    },
    {
      "cell_type": "code",
      "source": [
        "# Custom start and stop\n",
        "teens = list(range(13, 20))\n",
        "print(\"Teen numbers:\", teens)"
      ],
      "metadata": {
        "colab": {
          "base_uri": "https://localhost:8080/",
          "height": 0
        },
        "id": "8dTnnXNwFU-x",
        "outputId": "45848279-b7ae-4cc4-f7e8-0c04df57aa2d"
      },
      "id": "8dTnnXNwFU-x",
      "execution_count": 13,
      "outputs": [
        {
          "output_type": "stream",
          "name": "stdout",
          "text": [
            "Teen numbers: [13, 14, 15, 16, 17, 18, 19]\n"
          ]
        }
      ]
    },
    {
      "cell_type": "code",
      "source": [
        "# With step values\n",
        "evens = list(range(0, 21, 2))\n",
        "print(\"Even numbers:\", evens)"
      ],
      "metadata": {
        "colab": {
          "base_uri": "https://localhost:8080/",
          "height": 0
        },
        "id": "Qj7jUTCdFXjl",
        "outputId": "48d5600e-0dd4-4bfc-cf4c-c0cb8eee779a"
      },
      "id": "Qj7jUTCdFXjl",
      "execution_count": 14,
      "outputs": [
        {
          "output_type": "stream",
          "name": "stdout",
          "text": [
            "Even numbers: [0, 2, 4, 6, 8, 10, 12, 14, 16, 18, 20]\n"
          ]
        }
      ]
    },
    {
      "cell_type": "code",
      "source": [
        "# Countdown sequence\n",
        "countdown = list(range(10, 0, -1))\n",
        "print(\"Countdown:\", countdown)"
      ],
      "metadata": {
        "colab": {
          "base_uri": "https://localhost:8080/",
          "height": 0
        },
        "id": "opo77DfjFZ_i",
        "outputId": "151bb2c5-c624-4e72-b269-1f7da83abd91"
      },
      "id": "opo77DfjFZ_i",
      "execution_count": 15,
      "outputs": [
        {
          "output_type": "stream",
          "name": "stdout",
          "text": [
            "Countdown: [10, 9, 8, 7, 6, 5, 4, 3, 2, 1]\n"
          ]
        }
      ]
    },
    {
      "cell_type": "code",
      "source": [
        "# Creating indices for another list\n",
        "fruits = [\"apple\", \"banana\", \"cherry\", \"date\"]\n",
        "indices = list(range(len(fruits)))\n",
        "print(\"Indices:\", indices)"
      ],
      "metadata": {
        "colab": {
          "base_uri": "https://localhost:8080/",
          "height": 0
        },
        "id": "E0OH_KNtFb5P",
        "outputId": "cbaa81ec-5e43-465d-e6c1-66a48bc631b0"
      },
      "id": "E0OH_KNtFb5P",
      "execution_count": 16,
      "outputs": [
        {
          "output_type": "stream",
          "name": "stdout",
          "text": [
            "Indices: [0, 1, 2, 3]\n"
          ]
        }
      ]
    },
    {
      "cell_type": "markdown",
      "source": [
        "### List Repetition and Multiplication\n",
        "\n",
        "Python allows you to create lists by repeating elements using the multiplication operator. This technique is useful for initializing lists with default values or creating patterns.\n",
        "\n",
        "List repetition is particularly helpful for creating grids, initializing counters, or setting up data structures with default values.\n",
        "\n",
        "**Repetition Examples**\n",
        "\n",
        "Creating lists with repeated elements safely:"
      ],
      "metadata": {
        "id": "NP9hWZVrD8WE"
      },
      "id": "NP9hWZVrD8WE"
    },
    {
      "cell_type": "code",
      "source": [
        "# Repeating single values\n",
        "zeros = [0] * 5\n",
        "print(\"Five zeros:\", zeros)"
      ],
      "metadata": {
        "colab": {
          "base_uri": "https://localhost:8080/",
          "height": 0
        },
        "id": "yKdXlJjgGTcc",
        "outputId": "0686e585-fd5f-41c1-ff57-740bb2b39627"
      },
      "id": "yKdXlJjgGTcc",
      "execution_count": 17,
      "outputs": [
        {
          "output_type": "stream",
          "name": "stdout",
          "text": [
            "Five zeros: [0, 0, 0, 0, 0]\n"
          ]
        }
      ]
    },
    {
      "cell_type": "code",
      "source": [
        "ones = [1] * 8\n",
        "print(\"Eight ones:\", ones)"
      ],
      "metadata": {
        "colab": {
          "base_uri": "https://localhost:8080/",
          "height": 0
        },
        "id": "YP2OUVR4GVM0",
        "outputId": "049b86b0-23c7-48a4-aa7a-8b6ca5f7b06c"
      },
      "id": "YP2OUVR4GVM0",
      "execution_count": 18,
      "outputs": [
        {
          "output_type": "stream",
          "name": "stdout",
          "text": [
            "Eight ones: [1, 1, 1, 1, 1, 1, 1, 1]\n"
          ]
        }
      ]
    },
    {
      "cell_type": "code",
      "source": [
        "# Repeating strings\n",
        "greetings = [\"Hello\"] * 3\n",
        "print(\"Greetings:\", greetings)"
      ],
      "metadata": {
        "colab": {
          "base_uri": "https://localhost:8080/",
          "height": 0
        },
        "id": "Plx7et-TGX3j",
        "outputId": "8f686099-7eff-477e-f6b9-82ba3b68c0e0"
      },
      "id": "Plx7et-TGX3j",
      "execution_count": 19,
      "outputs": [
        {
          "output_type": "stream",
          "name": "stdout",
          "text": [
            "Greetings: ['Hello', 'Hello', 'Hello']\n"
          ]
        }
      ]
    },
    {
      "cell_type": "code",
      "source": [
        "# Creating patterns\n",
        "pattern = [\"A\", \"B\"] * 4\n",
        "print(\"Pattern:\", pattern)"
      ],
      "metadata": {
        "colab": {
          "base_uri": "https://localhost:8080/",
          "height": 0
        },
        "id": "giXBSKr_GZ3j",
        "outputId": "b161c64e-bd1f-46ba-b3a6-946805d91c04"
      },
      "id": "giXBSKr_GZ3j",
      "execution_count": 20,
      "outputs": [
        {
          "output_type": "stream",
          "name": "stdout",
          "text": [
            "Pattern: ['A', 'B', 'A', 'B', 'A', 'B', 'A', 'B']\n"
          ]
        }
      ]
    },
    {
      "cell_type": "code",
      "source": [
        "# Initializing with default values\n",
        "scores = [0] * 10\n",
        "print(\"Initial scores:\", scores)"
      ],
      "metadata": {
        "colab": {
          "base_uri": "https://localhost:8080/",
          "height": 0
        },
        "id": "CREokaNHGX8O",
        "outputId": "2e720430-8411-4eb7-df9d-4edc8df1a921"
      },
      "id": "CREokaNHGX8O",
      "execution_count": 21,
      "outputs": [
        {
          "output_type": "stream",
          "name": "stdout",
          "text": [
            "Initial scores: [0, 0, 0, 0, 0, 0, 0, 0, 0, 0]\n"
          ]
        }
      ]
    },
    {
      "cell_type": "markdown",
      "source": [
        "### List Comprehensions for Creation\n",
        "\n",
        "List comprehensions provide a concise way to create lists based on existing sequences or mathematical expressions. They combine creation and transformation in a single, readable expression.\n",
        "\n",
        "List comprehensions are powerful for generating lists with patterns, filtering data, or transforming existing collections.\n",
        "\n",
        "**Comprehension Examples**\n",
        "\n",
        "Creating lists with comprehensions for various patterns:\n"
      ],
      "metadata": {
        "id": "e7sfxIjZHA3T"
      },
      "id": "e7sfxIjZHA3T"
    },
    {
      "cell_type": "code",
      "source": [
        "# Basic number generation\n",
        "squares = [x**2 for x in range(1, 6)]\n",
        "print(\"Squares:\", squares)"
      ],
      "metadata": {
        "colab": {
          "base_uri": "https://localhost:8080/",
          "height": 0
        },
        "id": "hhYfk47aHRJf",
        "outputId": "bde5d3af-8c0a-4797-a7f2-aa55fe090fef"
      },
      "id": "hhYfk47aHRJf",
      "execution_count": 22,
      "outputs": [
        {
          "output_type": "stream",
          "name": "stdout",
          "text": [
            "Squares: [1, 4, 9, 16, 25]\n"
          ]
        }
      ]
    },
    {
      "cell_type": "code",
      "source": [
        "# Creating from existing list\n",
        "fruits = [\"apple\", \"banana\", \"cherry\"]\n",
        "lengths = [len(fruit) for fruit in fruits]\n",
        "print(\"Fruit lengths:\", lengths)"
      ],
      "metadata": {
        "colab": {
          "base_uri": "https://localhost:8080/",
          "height": 0
        },
        "id": "xnOS3DhpHSI3",
        "outputId": "1c362d18-ecc4-4582-ae65-5af2a8d2b726"
      },
      "id": "xnOS3DhpHSI3",
      "execution_count": 23,
      "outputs": [
        {
          "output_type": "stream",
          "name": "stdout",
          "text": [
            "Fruit lengths: [5, 6, 6]\n"
          ]
        }
      ]
    },
    {
      "cell_type": "code",
      "source": [
        "# With conditions\n",
        "numbers = range(1, 11)\n",
        "evens = [x for x in numbers if x % 2 == 0]\n",
        "print(\"Even numbers:\", evens)"
      ],
      "metadata": {
        "colab": {
          "base_uri": "https://localhost:8080/",
          "height": 0
        },
        "id": "2oOsxxp4HT6N",
        "outputId": "c4ce0b61-ff8b-4a61-a7b1-cbc796ce9987"
      },
      "id": "2oOsxxp4HT6N",
      "execution_count": 24,
      "outputs": [
        {
          "output_type": "stream",
          "name": "stdout",
          "text": [
            "Even numbers: [2, 4, 6, 8, 10]\n"
          ]
        }
      ]
    },
    {
      "cell_type": "code",
      "source": [
        "# String manipulation\n",
        "words = [\"hello\", \"world\", \"python\"]\n",
        "uppercase = [word.upper() for word in words]\n",
        "print(\"Uppercase:\", uppercase)"
      ],
      "metadata": {
        "colab": {
          "base_uri": "https://localhost:8080/",
          "height": 0
        },
        "id": "h2rVXg6eGX_m",
        "outputId": "8e089749-fac4-4e5e-f8e1-90683982f5d9"
      },
      "id": "h2rVXg6eGX_m",
      "execution_count": 25,
      "outputs": [
        {
          "output_type": "stream",
          "name": "stdout",
          "text": [
            "Uppercase: ['HELLO', 'WORLD', 'PYTHON']\n"
          ]
        }
      ]
    },
    {
      "cell_type": "markdown",
      "source": [
        "### Common Creation Patterns\n",
        "\n",
        "Several patterns appear frequently when creating lists in real-world programming. Understanding these patterns helps you recognize common scenarios and apply appropriate solutions.\n",
        "\n",
        "**Practical Creation Patterns**\n",
        "\n",
        "Real-world examples of list creation for different purposes:"
      ],
      "metadata": {
        "id": "QJJ9vDVVHrBP"
      },
      "id": "QJJ9vDVVHrBP"
    },
    {
      "cell_type": "code",
      "source": [
        "# Initialization with default values\n",
        "scores = [0] * 10  # Ten scores initialized to zero\n",
        "print(\"Initial scores:\", scores)"
      ],
      "metadata": {
        "colab": {
          "base_uri": "https://localhost:8080/",
          "height": 0
        },
        "id": "oglCpWIBGYC2",
        "outputId": "76e05955-4d99-47bd-a254-a81eb1c19e69"
      },
      "id": "oglCpWIBGYC2",
      "execution_count": 26,
      "outputs": [
        {
          "output_type": "stream",
          "name": "stdout",
          "text": [
            "Initial scores: [0, 0, 0, 0, 0, 0, 0, 0, 0, 0]\n"
          ]
        }
      ]
    },
    {
      "cell_type": "code",
      "source": [
        "# Creating lookup tables\n",
        "alphabet = list(\"ABCDEFGHIJKLMNOPQRSTUVWXYZ\")\n",
        "print(\"Alphabet:\", alphabet[:5])  # Show first 5"
      ],
      "metadata": {
        "colab": {
          "base_uri": "https://localhost:8080/",
          "height": 0
        },
        "id": "eUetj5eCGYFs",
        "outputId": "7c5fafe3-c94f-45fd-9a75-0993cdbaf16f"
      },
      "id": "eUetj5eCGYFs",
      "execution_count": 27,
      "outputs": [
        {
          "output_type": "stream",
          "name": "stdout",
          "text": [
            "Alphabet: ['A', 'B', 'C', 'D', 'E']\n"
          ]
        }
      ]
    },
    {
      "cell_type": "code",
      "source": [
        "# Building from user input (simulated)\n",
        "user_inputs = [\"apple\", \"banana\", \"cherry\"]\n",
        "shopping_list = []\n",
        "for item in user_inputs:\n",
        "    shopping_list.append(item.lower())\n",
        "print(\"Shopping list:\", shopping_list)"
      ],
      "metadata": {
        "colab": {
          "base_uri": "https://localhost:8080/",
          "height": 0
        },
        "id": "75PoDjFQHyu6",
        "outputId": "c62553e3-bc36-497c-9038-d8c5f6870bcf"
      },
      "id": "75PoDjFQHyu6",
      "execution_count": 28,
      "outputs": [
        {
          "output_type": "stream",
          "name": "stdout",
          "text": [
            "Shopping list: ['apple', 'banana', 'cherry']\n"
          ]
        }
      ]
    },
    {
      "cell_type": "code",
      "source": [
        "# Creating test data\n",
        "test_scores = [85 + i*2 for i in range(10)]\n",
        "print(\"Test scores:\", test_scores)"
      ],
      "metadata": {
        "colab": {
          "base_uri": "https://localhost:8080/",
          "height": 0
        },
        "id": "P2HBUpDrHyxW",
        "outputId": "20a9e58d-1062-4b84-c817-062c91b351cb"
      },
      "id": "P2HBUpDrHyxW",
      "execution_count": 29,
      "outputs": [
        {
          "output_type": "stream",
          "name": "stdout",
          "text": [
            "Test scores: [85, 87, 89, 91, 93, 95, 97, 99, 101, 103]\n"
          ]
        }
      ]
    },
    {
      "cell_type": "code",
      "source": [
        "# Filtering and collecting\n",
        "all_numbers = range(-5, 6)\n",
        "positive_only = [x for x in all_numbers if x > 0]\n",
        "print(\"Positive numbers:\", positive_only)"
      ],
      "metadata": {
        "colab": {
          "base_uri": "https://localhost:8080/",
          "height": 0
        },
        "id": "1AogwW4VHyzv",
        "outputId": "57dbecdc-e875-41f4-92d5-3c0a5ce858f7"
      },
      "id": "1AogwW4VHyzv",
      "execution_count": 30,
      "outputs": [
        {
          "output_type": "stream",
          "name": "stdout",
          "text": [
            "Positive numbers: [1, 2, 3, 4, 5]\n"
          ]
        }
      ]
    },
    {
      "cell_type": "markdown",
      "source": [
        "### List Creation Reference\n",
        "\n",
        "Python provides various methods for creating lists, each suited for different scenarios:\n",
        "\n",
        "| Method        | Syntax                                | Use Case          | Example                        |\n",
        "|---------------|---------------------------------------|-------------------|--------------------------------|\n",
        "| Literal       | `[item1, item2, ...]`                | Known values      | `[1, 2, 3]`                   |\n",
        "| Empty         | `[]` or `list()`                      | Dynamic building  | `[]`                          |\n",
        "| Range         | `list(range(start, stop, step))`      | Numeric sequences | `list(range(1, 6))`           |\n",
        "| Repetition    | `[item] * count`                      | Repeated values   | `[0] * 5`                     |\n",
        "| Comprehension | `[expr for item in iterable]`         | Generated/filtered| `[x**2 for x in range(5)]`    |\n",
        "| Conversion    | `list(iterable)`                      | From other types  | `list(\"hello\")`               |\n"
      ],
      "metadata": {
        "id": "1Y3a7GjhPJ0V"
      },
      "id": "1Y3a7GjhPJ0V"
    },
    {
      "cell_type": "markdown",
      "source": [
        "### Reading List Data\n",
        "\n",
        "Reading data from lists is a fundamental skill that allows you to access, retrieve, and work with individual items or groups of items in your collections. Python provides powerful and flexible methods for reading list data, from simple indexing to advanced slicing techniques that let you extract exactly the data you need.\n",
        "\n",
        "Understanding how to efficiently read list data is essential for data processing, analysis, and manipulation in Python programs.\n",
        "\n",
        "**Index-Based Access**\n",
        "\n",
        "Python uses zero-based indexing, meaning the first item is at index 0, the second at index 1, and so on. You can also use negative indices to access items from the end of the list, where -1 refers to the last item.\n",
        "\n",
        "Index-based access is the most direct way to retrieve specific items when you know their position in the list.\n",
        "\n"
      ],
      "metadata": {
        "id": "EgNzOi-uPt9T"
      },
      "id": "EgNzOi-uPt9T"
    },
    {
      "cell_type": "code",
      "source": [
        "# Positive indexing (from start)\n",
        "colors = [\"red\", \"green\", \"blue\", \"yellow\", \"purple\"]\n",
        "print(\"First color:\", colors[0])    # red\n",
        "print(\"Second color:\", colors[1])   # green\n",
        "print(\"Third color:\", colors[2])    # blue\n"
      ],
      "metadata": {
        "colab": {
          "base_uri": "https://localhost:8080/",
          "height": 0
        },
        "id": "Av-ckToFHy2H",
        "outputId": "f8c6f984-48a1-4f54-c4ef-7c685ab6f965"
      },
      "id": "Av-ckToFHy2H",
      "execution_count": 31,
      "outputs": [
        {
          "output_type": "stream",
          "name": "stdout",
          "text": [
            "First color: red\n",
            "Second color: green\n",
            "Third color: blue\n"
          ]
        }
      ]
    },
    {
      "cell_type": "code",
      "source": [
        "# Negative indexing (from end)\n",
        "print(\"Last color:\", colors[-1])    # purple\n",
        "print(\"Second last:\", colors[-2])   # yellow\n",
        "print(\"Third last:\", colors[-3])    # blue"
      ],
      "metadata": {
        "colab": {
          "base_uri": "https://localhost:8080/",
          "height": 0
        },
        "id": "VUkKAutjQ4T2",
        "outputId": "e2e7ddfa-6817-498d-db88-552925d4afba"
      },
      "id": "VUkKAutjQ4T2",
      "execution_count": 32,
      "outputs": [
        {
          "output_type": "stream",
          "name": "stdout",
          "text": [
            "Last color: purple\n",
            "Second last: yellow\n",
            "Third last: blue\n"
          ]
        }
      ]
    },
    {
      "cell_type": "code",
      "source": [
        "# Using variables as indices\n",
        "index = 2\n",
        "print(f\"Color at index {index}:\", colors[index])"
      ],
      "metadata": {
        "colab": {
          "base_uri": "https://localhost:8080/",
          "height": 0
        },
        "id": "zPv_0LP2Q69_",
        "outputId": "6484a056-ab88-4d75-c1f0-9a0e28928c31"
      },
      "id": "zPv_0LP2Q69_",
      "execution_count": 33,
      "outputs": [
        {
          "output_type": "stream",
          "name": "stdout",
          "text": [
            "Color at index 2: blue\n"
          ]
        }
      ]
    },
    {
      "cell_type": "code",
      "source": [
        "# Getting multiple items by index\n",
        "first_three = [colors[0], colors[1], colors[2]]\n",
        "print(\"First three colors:\", first_three)"
      ],
      "metadata": {
        "colab": {
          "base_uri": "https://localhost:8080/",
          "height": 0
        },
        "id": "gO-vzVriQ8yY",
        "outputId": "b2cdd17e-c2fe-465a-a700-287767875e5d"
      },
      "id": "gO-vzVriQ8yY",
      "execution_count": 34,
      "outputs": [
        {
          "output_type": "stream",
          "name": "stdout",
          "text": [
            "First three colors: ['red', 'green', 'blue']\n"
          ]
        }
      ]
    },
    {
      "cell_type": "markdown",
      "source": [
        "**List Indexing Rules**\n",
        "\n",
        "Index System:\n",
        "\n",
        "- First item: index 0 (not 1!)\n",
        "- Second item: index 1\n",
        "- Last item: index -1\n",
        "- Second to last: index -2\n",
        "\n",
        "Important Rules:\n",
        "\n",
        "- Indices must be integers\n",
        "- Index out of range causes IndexError\n",
        "- Negative indices count from the end\n",
        "- Use `len(list)` to get total number of items\n",
        "\n",
        "Valid Range: For list of length n, valid indices are 0 to n-1 (or -n to -1)"
      ],
      "metadata": {
        "id": "PPBsUjgtRq3I"
      },
      "id": "PPBsUjgtRq3I"
    },
    {
      "cell_type": "markdown",
      "source": [
        "**List Slicing**\n",
        "\n",
        "Slicing allows you to extract portions of a list using the syntax `list[start:stop:step]`. This powerful feature lets you get multiple consecutive items, reverse lists, or extract items at regular intervals.\n",
        "\n",
        "Slicing is essential for data processing tasks where you need to work with subsets of your data.\n"
      ],
      "metadata": {
        "id": "ZHPSWHIlS1uo"
      },
      "id": "ZHPSWHIlS1uo"
    },
    {
      "cell_type": "markdown",
      "source": [
        "Slicing Syntax Guide\n",
        "\n",
        "Syntax: `list[start:stop:step]`\n",
        "\n",
        "Parameters:\n",
        "\n",
        "start: Starting index (inclusive, default 0)\n",
        "stop: Ending index (exclusive, default length)\n",
        "step: Interval between items (default 1)\n",
        "Common Patterns:\n",
        "\n",
        "- `list[:5]`: First 5 items\n",
        "- `list[2:]`: From index 2 to end\n",
        "- `list[1:4]`: Items at indices 1, 2, 3\n",
        "- `list[::-1]`: Reverse entire list\n",
        "- `list[::2]`: Every 2nd item\n",
        "\n",
        "Remember: Stop index is exclusive (not included in result)"
      ],
      "metadata": {
        "id": "MKMjf-dBTYEd"
      },
      "id": "MKMjf-dBTYEd"
    },
    {
      "cell_type": "code",
      "source": [
        "# Basic slicing [start:stop]\n",
        "numbers = [0, 1, 2, 3, 4, 5, 6, 7, 8, 9]\n",
        "print(\"First 5 numbers:\", numbers[0:5])    # [0, 1, 2, 3, 4]\n",
        "print(\"Numbers 3-6:\", numbers[3:7])        # [3, 4, 5, 6]\n",
        "print(\"Last 3 numbers:\", numbers[-3:])     # [7, 8, 9]"
      ],
      "metadata": {
        "colab": {
          "base_uri": "https://localhost:8080/",
          "height": 0
        },
        "id": "gs3mUJLAS55y",
        "outputId": "ae5daf45-0b6f-4e3d-8b6d-3c11c56b534d"
      },
      "id": "gs3mUJLAS55y",
      "execution_count": 35,
      "outputs": [
        {
          "output_type": "stream",
          "name": "stdout",
          "text": [
            "First 5 numbers: [0, 1, 2, 3, 4]\n",
            "Numbers 3-6: [3, 4, 5, 6]\n",
            "Last 3 numbers: [7, 8, 9]\n"
          ]
        }
      ]
    },
    {
      "cell_type": "code",
      "source": [
        "# Omitting start or stop\n",
        "print(\"From index 5:\", numbers[5:])        # [5, 6, 7, 8, 9]\n",
        "print(\"Up to index 4:\", numbers[:4])       # [0, 1, 2, 3]\n",
        "print(\"Entire list:\", numbers[:])          # [0, 1, 2, 3, 4, 5, 6, 7, 8, 9]\n"
      ],
      "metadata": {
        "colab": {
          "base_uri": "https://localhost:8080/",
          "height": 0
        },
        "id": "VBOnP_MVS8B9",
        "outputId": "deda7351-fd95-48b4-c315-2191c294ac66"
      },
      "id": "VBOnP_MVS8B9",
      "execution_count": 36,
      "outputs": [
        {
          "output_type": "stream",
          "name": "stdout",
          "text": [
            "From index 5: [5, 6, 7, 8, 9]\n",
            "Up to index 4: [0, 1, 2, 3]\n",
            "Entire list: [0, 1, 2, 3, 4, 5, 6, 7, 8, 9]\n"
          ]
        }
      ]
    },
    {
      "cell_type": "code",
      "source": [
        "# Using step values\n",
        "print(\"Every 2nd number:\", numbers[::2])   # [0, 2, 4, 6, 8]\n",
        "print(\"Every 3rd from index 1:\", numbers[1::3])  # [1, 4, 7]"
      ],
      "metadata": {
        "colab": {
          "base_uri": "https://localhost:8080/",
          "height": 0
        },
        "id": "9bTXyaSQS-Jk",
        "outputId": "aefc3adb-f014-4ce5-c46f-1195f8d35347"
      },
      "id": "9bTXyaSQS-Jk",
      "execution_count": 43,
      "outputs": [
        {
          "output_type": "stream",
          "name": "stdout",
          "text": [
            "Every 2nd number: [0, 2, 4, 6, 8]\n",
            "Every 3rd from index 1: [1, 4, 7]\n"
          ]
        }
      ]
    },
    {
      "cell_type": "code",
      "source": [
        "# Reversing with negative step\n",
        "print(\"Reversed list:\", numbers[::-1])     # [9, 8, 7, 6, 5, 4, 3, 2, 1, 0]\n",
        "print(\"Every 2nd reversed:\", numbers[::-2]) # [9, 7, 5, 3, 1]"
      ],
      "metadata": {
        "colab": {
          "base_uri": "https://localhost:8080/",
          "height": 0
        },
        "id": "m7gUTPc0S_k9",
        "outputId": "34e8be37-f448-4247-afdb-8ba0dda93cbe"
      },
      "id": "m7gUTPc0S_k9",
      "execution_count": 37,
      "outputs": [
        {
          "output_type": "stream",
          "name": "stdout",
          "text": [
            "Reversed list: [9, 8, 7, 6, 5, 4, 3, 2, 1, 0]\n",
            "Every 2nd reversed: [9, 7, 5, 3, 1]\n"
          ]
        }
      ]
    },
    {
      "cell_type": "markdown",
      "source": [
        "### List Information Methods\n",
        "\n",
        "Python provides built-in functions and methods to get information about lists, such as length, minimum and maximum values, and sum of numeric lists.\n",
        "\n",
        "These information methods are essential for data analysis and validation tasks.\n",
        "\n",
        "\n",
        "**Information Methods**\n",
        "\n",
        "Numeric Operations:\n",
        "\n",
        "- `len(list)`: Number of items\n",
        "- `min(list)`: Smallest value\n",
        "- `max(list)`: Largest value\n",
        "- `sum(list)`: Total of numeric values\n",
        "\n",
        "Boolean Operations:\n",
        "\n",
        "- `any(list)`: True if any item is truthy\n",
        "- `all(list)`: True if all items are truthy\n",
        "\n",
        "Note: min/max work with strings (alphabetical) and numbers\n"
      ],
      "metadata": {
        "id": "XkHJ2gudag1m"
      },
      "id": "XkHJ2gudag1m"
    },
    {
      "cell_type": "code",
      "source": [
        "# Basic information\n",
        "numbers = [15, 8, 23, 42, 4, 16, 35]\n",
        "print(\"Numbers:\", numbers)\n",
        "print(\"Length:\", len(numbers))\n",
        "print(\"Minimum:\", min(numbers))\n",
        "print(\"Maximum:\", max(numbers))\n",
        "print(\"Sum:\", sum(numbers))\n",
        "print(\"Average:\", sum(numbers) / len(numbers))\n"
      ],
      "metadata": {
        "colab": {
          "base_uri": "https://localhost:8080/",
          "height": 0
        },
        "id": "3opdpxHAS8LE",
        "outputId": "a34acf37-13e7-4c68-d2bc-354ac5b70cd3"
      },
      "id": "3opdpxHAS8LE",
      "execution_count": 38,
      "outputs": [
        {
          "output_type": "stream",
          "name": "stdout",
          "text": [
            "Numbers: [15, 8, 23, 42, 4, 16, 35]\n",
            "Length: 7\n",
            "Minimum: 4\n",
            "Maximum: 42\n",
            "Sum: 143\n",
            "Average: 20.428571428571427\n"
          ]
        }
      ]
    },
    {
      "cell_type": "code",
      "source": [
        "# String list information\n",
        "names = [\"Alice\", \"Bob\", \"Charlie\", \"Diana\"]\n",
        "print(\"\\nNames:\", names)\n",
        "print(\"Length:\", len(names))\n",
        "print(\"First alphabetically:\", min(names))\n",
        "print(\"Last alphabetically:\", max(names))"
      ],
      "metadata": {
        "colab": {
          "base_uri": "https://localhost:8080/",
          "height": 0
        },
        "id": "a078PLxva9Oh",
        "outputId": "73e6341a-01bb-4c2c-f264-490e29ed7a12"
      },
      "id": "a078PLxva9Oh",
      "execution_count": 39,
      "outputs": [
        {
          "output_type": "stream",
          "name": "stdout",
          "text": [
            "\n",
            "Names: ['Alice', 'Bob', 'Charlie', 'Diana']\n",
            "Length: 4\n",
            "First alphabetically: Alice\n",
            "Last alphabetically: Diana\n"
          ]
        }
      ]
    },
    {
      "cell_type": "code",
      "source": [
        "# Checking list properties\n",
        "print(\"\\nList properties:\")\n",
        "print(\"Is numbers list empty?\", len(numbers) == 0)\n",
        "print(\"Are all numbers positive?\", all(n > 0 for n in numbers))\n",
        "print(\"Are any numbers > 30?\", any(n > 30 for n in numbers))"
      ],
      "metadata": {
        "colab": {
          "base_uri": "https://localhost:8080/",
          "height": 0
        },
        "id": "yu_koOdNa9Ra",
        "outputId": "b98a31ce-bf1c-49b3-cda1-0fefcfa1bf4b"
      },
      "id": "yu_koOdNa9Ra",
      "execution_count": 40,
      "outputs": [
        {
          "output_type": "stream",
          "name": "stdout",
          "text": [
            "\n",
            "List properties:\n",
            "Is numbers list empty? False\n",
            "Are all numbers positive? True\n",
            "Are any numbers > 30? True\n"
          ]
        }
      ]
    },
    {
      "cell_type": "code",
      "source": [
        "# Getting unique values (using set)\n",
        "repeated_numbers = [1, 2, 2, 3, 3, 3, 4]\n",
        "unique_values = list(set(repeated_numbers))\n",
        "print(\"\\nOriginal:\", repeated_numbers)\n",
        "print(\"Unique values:\", unique_values)"
      ],
      "metadata": {
        "colab": {
          "base_uri": "https://localhost:8080/",
          "height": 0
        },
        "id": "d0ZefPS1a9UK",
        "outputId": "93ee2607-9619-4df7-ae1a-1837ecc5e7e5"
      },
      "id": "d0ZefPS1a9UK",
      "execution_count": 41,
      "outputs": [
        {
          "output_type": "stream",
          "name": "stdout",
          "text": [
            "\n",
            "Original: [1, 2, 2, 3, 3, 3, 4]\n",
            "Unique values: [1, 2, 3, 4]\n"
          ]
        }
      ]
    },
    {
      "cell_type": "markdown",
      "source": [
        "### Modifying Lists\n",
        "\n",
        "Modifying lists is one of the most fundamental operations in Python programming. Unlike immutable data types, lists allow you to change their contents after creation - you can update individual elements, replace multiple items, or transform entire sections of your list.\n",
        "\n",
        "Understanding how to modify lists effectively is essential for data manipulation, updating records, and maintaining dynamic collections that change based on user input or program logic."
      ],
      "metadata": {
        "id": "SWddzGf_bR4D"
      },
      "id": "SWddzGf_bR4D"
    },
    {
      "cell_type": "code",
      "source": [
        "# Basic list modification examples\n",
        "fruits = [\"apple\", \"banana\", \"cherry\"]\n",
        "print(\"Original:\", fruits)\n"
      ],
      "metadata": {
        "colab": {
          "base_uri": "https://localhost:8080/",
          "height": 0
        },
        "id": "rRmDYtIpa0l-",
        "outputId": "613c1e2d-6073-4383-e2f5-f8755782e711"
      },
      "id": "rRmDYtIpa0l-",
      "execution_count": 42,
      "outputs": [
        {
          "output_type": "stream",
          "name": "stdout",
          "text": [
            "Original: ['apple', 'banana', 'cherry']\n"
          ]
        }
      ]
    },
    {
      "cell_type": "code",
      "source": [
        "# Modify single element\n",
        "fruits[1] = \"blueberry\"\n",
        "print(\"After change:\", fruits)"
      ],
      "metadata": {
        "colab": {
          "base_uri": "https://localhost:8080/",
          "height": 0
        },
        "id": "jGkiT2sca2C9",
        "outputId": "6594a65e-6663-4627-95c8-6c99ebe7454d"
      },
      "id": "jGkiT2sca2C9",
      "execution_count": 43,
      "outputs": [
        {
          "output_type": "stream",
          "name": "stdout",
          "text": [
            "After change: ['apple', 'blueberry', 'cherry']\n"
          ]
        }
      ]
    },
    {
      "cell_type": "code",
      "source": [
        "# Modify multiple elements\n",
        "fruits[0:2] = [\"orange\", \"grape\"]\n",
        "print(\"After slice change:\", fruits)"
      ],
      "metadata": {
        "colab": {
          "base_uri": "https://localhost:8080/",
          "height": 0
        },
        "id": "13O-aBxca3Um",
        "outputId": "fa3143de-d82d-4044-c33c-d6a11a90f741"
      },
      "id": "13O-aBxca3Um",
      "execution_count": 44,
      "outputs": [
        {
          "output_type": "stream",
          "name": "stdout",
          "text": [
            "After slice change: ['orange', 'grape', 'cherry']\n"
          ]
        }
      ]
    },
    {
      "cell_type": "markdown",
      "source": [
        " #### Modifying Individual Elements\n",
        "\n",
        " The most direct way to modify a list is by accessing an element through its index and assigning a new value. This approach is perfect when you know exactly which position needs to be updated.\n",
        "\n",
        "Index-based modification provides precise control over individual list elements and is commonly used in data updates and corrections.\n",
        "\n",
        "**Index Modification Rules**\n",
        "\n",
        "Basic Syntax: `list[index] = new_value`\n",
        "\n",
        "Index Requirements:\n",
        "\n",
        "- Must be valid integer within list bounds\n",
        "- Negative indices count from end (-1 = last item)\n",
        "- Index out of range raises IndexError\n",
        "\n",
        "Safety Guidelines:\n",
        "\n",
        "- Check list length before accessing indices\n",
        "- Use len(list) to verify bounds\n",
        "- Consider using try/except for dynamic indices"
      ],
      "metadata": {
        "id": "OkGtXToncCyw"
      },
      "id": "OkGtXToncCyw"
    },
    {
      "cell_type": "code",
      "source": [
        "# Modifying individual elements by index\n",
        "scores = [85, 92, 78, 96, 88]\n",
        "print(\"Original scores:\", scores)"
      ],
      "metadata": {
        "colab": {
          "base_uri": "https://localhost:8080/",
          "height": 0
        },
        "id": "0xqN79yIctHq",
        "outputId": "57f72ab1-0d83-4dbb-c2a7-a4b98a312db2"
      },
      "id": "0xqN79yIctHq",
      "execution_count": 45,
      "outputs": [
        {
          "output_type": "stream",
          "name": "stdout",
          "text": [
            "Original scores: [85, 92, 78, 96, 88]\n"
          ]
        }
      ]
    },
    {
      "cell_type": "code",
      "source": [
        "# Update specific scores\n",
        "scores[2] = 82  # Improve third score\n",
        "scores[-1] = 90  # Update last score\n",
        "print(\"Updated scores:\", scores)"
      ],
      "metadata": {
        "colab": {
          "base_uri": "https://localhost:8080/",
          "height": 0
        },
        "id": "Bp6wudNGctKC",
        "outputId": "9eda4d9f-235c-4851-e144-0c1c4133c0ee"
      },
      "id": "Bp6wudNGctKC",
      "execution_count": 46,
      "outputs": [
        {
          "output_type": "stream",
          "name": "stdout",
          "text": [
            "Updated scores: [85, 92, 82, 96, 90]\n"
          ]
        }
      ]
    },
    {
      "cell_type": "code",
      "source": [
        "# Modifying with conditions\n",
        "print(\"Original scores:\", scores)\n",
        "grades = [\"A\" if score > 90 else \"B\" for score in scores]\n",
        "print(\"Grades by scores:\", grades)"
      ],
      "metadata": {
        "colab": {
          "base_uri": "https://localhost:8080/",
          "height": 0
        },
        "id": "7AidXnhkctMq",
        "outputId": "d511378a-a890-42cb-d67a-345adaf73fa3"
      },
      "id": "7AidXnhkctMq",
      "execution_count": 47,
      "outputs": [
        {
          "output_type": "stream",
          "name": "stdout",
          "text": [
            "Original scores: [85, 92, 82, 96, 90]\n",
            "Grades by scores: ['B', 'A', 'B', 'A', 'B']\n"
          ]
        }
      ]
    },
    {
      "cell_type": "markdown",
      "source": [
        "#### Using Slice Assignment\n",
        "\n",
        "Slice assignment allows you to modify multiple elements at once by replacing a section of the list with new values. This technique is powerful for updating ranges of data or restructuring portions of your list.\n",
        "\n",
        "**Slice Assignment Capabilities**\n",
        "\n",
        "Syntax: `list[start:end] = new_values`\n",
        "\n",
        "Flexible Replacement:\n",
        "\n",
        "- Replace with same number of elements\n",
        "- Replace with more elements (list grows)\n",
        "- Replace with fewer elements (list shrinks)\n",
        "- Replace with empty list (deletes section)\n",
        "\n",
        "Advantages:\n",
        "\n",
        "- Efficient for bulk updates\n",
        "- Maintains list object identity\n",
        "- More readable than multiple assignments\n",
        "\n",
        "Use Cases: Data restructuring, bulk updates, section replacement\n",
        "\n",
        "Slice assignment can replace any number of elements with any number of new elements, making it flexible for various modification scenarios."
      ],
      "metadata": {
        "id": "8xfTjlc4ePEX"
      },
      "id": "8xfTjlc4ePEX"
    },
    {
      "cell_type": "code",
      "source": [
        "# Replace middle section\n",
        "numbers = [1, 2, 3, 4, 5, 6, 7, 8]\n",
        "print(\"Original:\", numbers)"
      ],
      "metadata": {
        "colab": {
          "base_uri": "https://localhost:8080/",
          "height": 0
        },
        "id": "Cyiiqhg3cyPC",
        "outputId": "50e818e7-d6cc-4cc6-bf72-41ac60ce1d89"
      },
      "id": "Cyiiqhg3cyPC",
      "execution_count": 48,
      "outputs": [
        {
          "output_type": "stream",
          "name": "stdout",
          "text": [
            "Original: [1, 2, 3, 4, 5, 6, 7, 8]\n"
          ]
        }
      ]
    },
    {
      "cell_type": "code",
      "source": [
        "numbers[2:5] = [30, 40, 50]\n",
        "print(\"After slice replacement:\", numbers)"
      ],
      "metadata": {
        "colab": {
          "base_uri": "https://localhost:8080/",
          "height": 0
        },
        "id": "SbYCc-qZcySL",
        "outputId": "20044204-ed6d-4975-cf94-b9d9d8bf6210"
      },
      "id": "SbYCc-qZcySL",
      "execution_count": 49,
      "outputs": [
        {
          "output_type": "stream",
          "name": "stdout",
          "text": [
            "After slice replacement: [1, 2, 30, 40, 50, 6, 7, 8]\n"
          ]
        }
      ]
    },
    {
      "cell_type": "code",
      "source": [
        "# Replace with different number of elements\n",
        "colors = [\"red\", \"green\", \"blue\", \"yellow\"]\n",
        "print(\"Original colors:\", colors)"
      ],
      "metadata": {
        "colab": {
          "base_uri": "https://localhost:8080/",
          "height": 0
        },
        "id": "mpejaHzxcyUq",
        "outputId": "27ba89fb-4449-4d6b-b920-07a00259f6dd"
      },
      "id": "mpejaHzxcyUq",
      "execution_count": 50,
      "outputs": [
        {
          "output_type": "stream",
          "name": "stdout",
          "text": [
            "Original colors: ['red', 'green', 'blue', 'yellow']\n"
          ]
        }
      ]
    },
    {
      "cell_type": "code",
      "source": [
        "colors[1:3] = [\"orange\", \"purple\", \"pink\", \"black\"]\n",
        "print(\"After expansion:\", colors)"
      ],
      "metadata": {
        "colab": {
          "base_uri": "https://localhost:8080/",
          "height": 0
        },
        "id": "82tluW7NgEcs",
        "outputId": "0cbb9033-0cd4-495a-f841-d82533fc55dd"
      },
      "id": "82tluW7NgEcs",
      "execution_count": 51,
      "outputs": [
        {
          "output_type": "stream",
          "name": "stdout",
          "text": [
            "After expansion: ['red', 'orange', 'purple', 'pink', 'black', 'yellow']\n"
          ]
        }
      ]
    },
    {
      "cell_type": "code",
      "source": [
        "# Replace with fewer elements\n",
        "colors = [\"red\", \"orange\", \"purple\", \"pink\", \"black\", \"yellow\"]\n",
        "print(\"Original colors:\", colors)\n",
        "\n",
        "colors[2:6] = [\"white\"]\n",
        "print(\"After contraction:\", colors)"
      ],
      "metadata": {
        "colab": {
          "base_uri": "https://localhost:8080/",
          "height": 0
        },
        "id": "gdZYeIxtgY1M",
        "outputId": "02810f71-a19d-46c8-95cb-27ebb9a6163d"
      },
      "id": "gdZYeIxtgY1M",
      "execution_count": 52,
      "outputs": [
        {
          "output_type": "stream",
          "name": "stdout",
          "text": [
            "Original colors: ['red', 'orange', 'purple', 'pink', 'black', 'yellow']\n",
            "After contraction: ['red', 'orange', 'white']\n"
          ]
        }
      ]
    },
    {
      "cell_type": "markdown",
      "source": [
        "#### Modifying with List Methods\n",
        "\n",
        "Python provides several built-in methods specifically designed for modifying lists. These methods offer convenient ways to update list contents without manual indexing and often provide better performance than manual approaches.\n",
        "\n",
        "**List Modification Methods**\n",
        "\n",
        "Adding Methods:\n",
        "\n",
        "- `append(item)`: Add single item to end\n",
        "- `insert(index, item)`: Insert at specific position\n",
        "- `extend(iterable)`: Add multiple items from iterable\n",
        "\n",
        "Removing Methods:\n",
        "\n",
        "- `remove(item)`: Remove first occurrence of item\n",
        "- `pop(index)`: Remove and return item at index\n",
        "- `clear()`: Remove all elements\n",
        "\n",
        "Organizing Methods:\n",
        "\n",
        "- `reverse()`: Reverse list order in place\n",
        "- `sort()`: Sort list in place"
      ],
      "metadata": {
        "id": "AVs43NCvgowN"
      },
      "id": "AVs43NCvgowN"
    },
    {
      "cell_type": "code",
      "source": [
        "# Using append and insert\n",
        "shopping_list = [\"bread\", \"milk\", \"eggs\"]\n",
        "print(\"Original list:\", shopping_list)"
      ],
      "metadata": {
        "colab": {
          "base_uri": "https://localhost:8080/",
          "height": 0
        },
        "id": "VMq5RJI6hv3Q",
        "outputId": "709f1e87-371a-4fb3-9139-882bdfcae3c9"
      },
      "id": "VMq5RJI6hv3Q",
      "execution_count": 53,
      "outputs": [
        {
          "output_type": "stream",
          "name": "stdout",
          "text": [
            "Original list: ['bread', 'milk', 'eggs']\n"
          ]
        }
      ]
    },
    {
      "cell_type": "code",
      "source": [
        "# Append new items\n",
        "shopping_list.append(\"cheese\")\n",
        "print(\"After appending:\", shopping_list)"
      ],
      "metadata": {
        "colab": {
          "base_uri": "https://localhost:8080/",
          "height": 0
        },
        "id": "a_Ma5eHZhv5z",
        "outputId": "52f7325c-74ba-493f-de8c-6de33b4dc06f"
      },
      "id": "a_Ma5eHZhv5z",
      "execution_count": 54,
      "outputs": [
        {
          "output_type": "stream",
          "name": "stdout",
          "text": [
            "After appending: ['bread', 'milk', 'eggs', 'cheese']\n"
          ]
        }
      ]
    },
    {
      "cell_type": "code",
      "source": [
        "# Insert at specific position\n",
        "shopping_list.insert(1, \"yogurt\")\n",
        "print(\"After inserting:\", shopping_list)"
      ],
      "metadata": {
        "colab": {
          "base_uri": "https://localhost:8080/",
          "height": 0
        },
        "id": "a834mZ2-hv8L",
        "outputId": "90fc26b4-2bc5-4fa5-bdd0-20c28252755c"
      },
      "id": "a834mZ2-hv8L",
      "execution_count": 55,
      "outputs": [
        {
          "output_type": "stream",
          "name": "stdout",
          "text": [
            "After inserting: ['bread', 'yogurt', 'milk', 'eggs', 'cheese']\n"
          ]
        }
      ]
    },
    {
      "cell_type": "code",
      "source": [
        "# Using extend\n",
        "new_items = [\"apples\", \"bananas\"]\n",
        "shopping_list.extend(new_items)\n",
        "print(\"After extending:\", shopping_list)"
      ],
      "metadata": {
        "colab": {
          "base_uri": "https://localhost:8080/",
          "height": 0
        },
        "id": "1EmhOCLMhv-X",
        "outputId": "d5b3e01e-3b2a-46d5-e10c-d1681e2b79d3"
      },
      "id": "1EmhOCLMhv-X",
      "execution_count": 56,
      "outputs": [
        {
          "output_type": "stream",
          "name": "stdout",
          "text": [
            "After extending: ['bread', 'yogurt', 'milk', 'eggs', 'cheese', 'apples', 'bananas']\n"
          ]
        }
      ]
    },
    {
      "cell_type": "code",
      "source": [
        "# Using remove\n",
        "shopping_list.remove(\"milk\")\n",
        "print(\"After removing:\", shopping_list)"
      ],
      "metadata": {
        "colab": {
          "base_uri": "https://localhost:8080/",
          "height": 0
        },
        "id": "Pjyo_tqyj36w",
        "outputId": "af0ee455-02d9-4e40-ae7d-a12607170cf6"
      },
      "id": "Pjyo_tqyj36w",
      "execution_count": 57,
      "outputs": [
        {
          "output_type": "stream",
          "name": "stdout",
          "text": [
            "After removing: ['bread', 'yogurt', 'eggs', 'cheese', 'apples', 'bananas']\n"
          ]
        }
      ]
    },
    {
      "cell_type": "code",
      "source": [
        "# Using pop\n",
        "popped_item = shopping_list.pop(2)\n",
        "print(\"Popped item:\", popped_item)\n",
        "print(\"After popping:\", shopping_list)"
      ],
      "metadata": {
        "colab": {
          "base_uri": "https://localhost:8080/",
          "height": 0
        },
        "id": "tuKCbKUgj39t",
        "outputId": "e506a149-c8c9-42b1-8fa8-4c454c55618a"
      },
      "id": "tuKCbKUgj39t",
      "execution_count": 58,
      "outputs": [
        {
          "output_type": "stream",
          "name": "stdout",
          "text": [
            "Popped item: eggs\n",
            "After popping: ['bread', 'yogurt', 'cheese', 'apples', 'bananas']\n"
          ]
        }
      ]
    },
    {
      "cell_type": "code",
      "source": [
        "# Using clear\n",
        "shopping_list.clear()\n",
        "print(\"After clearing:\", shopping_list)"
      ],
      "metadata": {
        "colab": {
          "base_uri": "https://localhost:8080/",
          "height": 0
        },
        "id": "gkQ0dUiwj4AW",
        "outputId": "bd7570a8-e7d4-46a8-fe75-f6fd85cb9a95"
      },
      "id": "gkQ0dUiwj4AW",
      "execution_count": 59,
      "outputs": [
        {
          "output_type": "stream",
          "name": "stdout",
          "text": [
            "After clearing: []\n"
          ]
        }
      ]
    },
    {
      "cell_type": "code",
      "source": [
        "# Using append and insert\n",
        "shopping_list = [\"bread\", \"milk\", \"eggs\"]\n",
        "print(\"Original list:\", shopping_list)\n",
        "\n",
        "# Using reverse\n",
        "shopping_list.reverse()\n",
        "print(\"Reversed list:\", shopping_list)"
      ],
      "metadata": {
        "colab": {
          "base_uri": "https://localhost:8080/",
          "height": 0
        },
        "id": "PgBunw5Xj4C9",
        "outputId": "a3f37cf5-2cd0-4a0d-cfac-cae94404c28d"
      },
      "id": "PgBunw5Xj4C9",
      "execution_count": 60,
      "outputs": [
        {
          "output_type": "stream",
          "name": "stdout",
          "text": [
            "Original list: ['bread', 'milk', 'eggs']\n",
            "Reversed list: ['eggs', 'milk', 'bread']\n"
          ]
        }
      ]
    },
    {
      "cell_type": "code",
      "source": [
        "# Using sort\n",
        "shopping_list.sort()\n",
        "print(\"Sorted list:\", shopping_list)"
      ],
      "metadata": {
        "colab": {
          "base_uri": "https://localhost:8080/",
          "height": 0
        },
        "id": "CDzZsRs5kz1Y",
        "outputId": "737251f1-2143-47b8-b5eb-b543e92a727b"
      },
      "id": "CDzZsRs5kz1Y",
      "execution_count": 61,
      "outputs": [
        {
          "output_type": "stream",
          "name": "stdout",
          "text": [
            "Sorted list: ['bread', 'eggs', 'milk']\n"
          ]
        }
      ]
    },
    {
      "cell_type": "code",
      "source": [
        "# Using del\n",
        "del shopping_list[1]\n",
        "print(\"After del:\", shopping_list)"
      ],
      "metadata": {
        "colab": {
          "base_uri": "https://localhost:8080/",
          "height": 0
        },
        "id": "_WpLQfuwj4GG",
        "outputId": "3b06be93-af84-4af7-d022-54f04acccd6c"
      },
      "id": "_WpLQfuwj4GG",
      "execution_count": 62,
      "outputs": [
        {
          "output_type": "stream",
          "name": "stdout",
          "text": [
            "After del: ['bread', 'milk']\n"
          ]
        }
      ]
    },
    {
      "cell_type": "markdown",
      "source": [
        "## Tuples ()\n",
        "\n",
        "Tuples are Python's immutable sequence data type, designed for storing collections of related items that shouldn't change after creation. Think of tuples as \"locked boxes\" that keep your data safe from accidental modification while still allowing you to access and work with the contents.\n",
        "\n",
        "Tuples are perfect for coordinates, database records, function return values, and any situation where you need to group related data together permanently. Their immutability makes them reliable, hashable, and memory-efficient."
      ],
      "metadata": {
        "id": "GG_5ydRqH8s_"
      },
      "id": "GG_5ydRqH8s_"
    },
    {
      "cell_type": "code",
      "source": [
        "# Tuple basics\n",
        "coordinates = (10, 20)\n",
        "person = (\"Alice\", 25, \"Engineer\")\n",
        "colors = (\"red\", \"green\", \"blue\")\n",
        "\n",
        "print(f\"Point: {coordinates}\")\n",
        "print(f\"Person: {person}\")\n",
        "print(f\"Colors: {colors}\")\n",
        "\n",
        "# Tuples are immutable\n",
        "print(f\"X coordinate: {coordinates[0]}\")\n",
        "print(f\"Name: {person[0]}\")\n"
      ],
      "metadata": {
        "colab": {
          "base_uri": "https://localhost:8080/",
          "height": 0
        },
        "id": "_3L0viZjIWXQ",
        "outputId": "96373011-5e06-4a0f-ba06-73fe81e19d45"
      },
      "id": "_3L0viZjIWXQ",
      "execution_count": 63,
      "outputs": [
        {
          "output_type": "stream",
          "name": "stdout",
          "text": [
            "Point: (10, 20)\n",
            "Person: ('Alice', 25, 'Engineer')\n",
            "Colors: ('red', 'green', 'blue')\n",
            "X coordinate: 10\n",
            "Name: Alice\n"
          ]
        }
      ]
    },
    {
      "cell_type": "markdown",
      "source": [
        "#### Tuple Creation Fundamentals\n",
        "\n",
        "Basic Syntax:\n",
        "\n",
        "- Parentheses with comma-separated - values: `(item1, item2, item3)`\n",
        "- Empty tuple: `()` or `tuple()`\n",
        "- Single item tuple: `(item,)` - comma is required\n",
        "- Without parentheses: `item1, item2, item3` (tuple packing)\n",
        "\n",
        "Immutability: Once created, tuple contents cannot be changed"
      ],
      "metadata": {
        "id": "l69f0esV9c1t"
      },
      "id": "l69f0esV9c1t"
    },
    {
      "cell_type": "markdown",
      "source": [
        "Implicit Tuple Creation"
      ],
      "metadata": {
        "id": "GmtYnUxd94tx"
      },
      "id": "GmtYnUxd94tx"
    },
    {
      "cell_type": "code",
      "source": [
        "# Tuple packing without parentheses\n",
        "point = 15, 25\n",
        "person = \"Bob\", 30, \"Designer\"\n",
        "dimensions = 100, 200, 50\n",
        "\n",
        "print(f\"Point: {point}\")\n",
        "print(f\"Person: {person}\")\n",
        "print(f\"Dimensions: {dimensions}\")\n",
        "print(f\"Type: {type(point)}\")\n"
      ],
      "metadata": {
        "colab": {
          "base_uri": "https://localhost:8080/",
          "height": 0
        },
        "id": "a75mmwzE934e",
        "outputId": "0fa504b8-e5a7-450f-9ef0-207b82c4828c"
      },
      "id": "a75mmwzE934e",
      "execution_count": 64,
      "outputs": [
        {
          "output_type": "stream",
          "name": "stdout",
          "text": [
            "Point: (15, 25)\n",
            "Person: ('Bob', 30, 'Designer')\n",
            "Dimensions: (100, 200, 50)\n",
            "Type: <class 'tuple'>\n"
          ]
        }
      ]
    },
    {
      "cell_type": "code",
      "source": [
        "# Variable swapping technique\n",
        "a, b = 5, 15\n",
        "print(f\"Before swap: a={a}, b={b}\")\n",
        "\n",
        "a, b = b, a\n",
        "print(f\"After swap: a={a}, b={b}\")"
      ],
      "metadata": {
        "colab": {
          "base_uri": "https://localhost:8080/",
          "height": 0
        },
        "id": "9dO7ELRJ9_dB",
        "outputId": "93e4231c-b191-4f3e-dd17-8e3ff2b326e4"
      },
      "id": "9dO7ELRJ9_dB",
      "execution_count": 65,
      "outputs": [
        {
          "output_type": "stream",
          "name": "stdout",
          "text": [
            "Before swap: a=5, b=15\n",
            "After swap: a=15, b=5\n"
          ]
        }
      ]
    },
    {
      "cell_type": "markdown",
      "source": [
        "#### List to Tuple Conversion\n"
      ],
      "metadata": {
        "id": "rT-Q7UyW-KLQ"
      },
      "id": "rT-Q7UyW-KLQ"
    },
    {
      "cell_type": "code",
      "source": [
        "# Converting lists to tuples\n",
        "numbers_list = [1, 2, 3, 4, 5]\n",
        "numbers_tuple = tuple(numbers_list)\n",
        "\n",
        "print(f\"Original list: {numbers_list}\")\n",
        "print(f\"Converted tuple: {numbers_tuple}\")"
      ],
      "metadata": {
        "colab": {
          "base_uri": "https://localhost:8080/",
          "height": 0
        },
        "id": "PUJznERh-QQp",
        "outputId": "72820c49-6aae-4506-d829-ed3b81419dde"
      },
      "id": "PUJznERh-QQp",
      "execution_count": 66,
      "outputs": [
        {
          "output_type": "stream",
          "name": "stdout",
          "text": [
            "Original list: [1, 2, 3, 4, 5]\n",
            "Converted tuple: (1, 2, 3, 4, 5)\n"
          ]
        }
      ]
    },
    {
      "cell_type": "markdown",
      "source": [
        "#### Reading Tuple Data\n",
        "\n",
        "Reading data from tuples is fundamental to working with Python's immutable sequences. Tuples support the same access patterns as lists - indexing, slicing, and searching - but with the guarantee that the data won't change unexpectedly. Understanding these access patterns allows you to extract exactly the information you need from your structured data.\n",
        "\n",
        "Whether you're working with coordinates, database records, or configuration settings, efficient tuple data access is essential for building robust applications."
      ],
      "metadata": {
        "id": "Ayb8hpDU-vuk"
      },
      "id": "Ayb8hpDU-vuk"
    },
    {
      "cell_type": "code",
      "source": [
        "# Basic tuple data access\n",
        "student = (\"Alice\", 20, \"Computer Science\", 3.8)\n",
        "coordinates = (10, 25, 5)\n",
        "colors = (\"red\", \"green\", \"blue\", \"yellow\")\n",
        "\n",
        "# Accessing individual elements\n",
        "print(f\"Student name: {student[0]}\")\n",
        "print(f\"X coordinate: {coordinates[0]}\")\n",
        "print(f\"First color: {colors[0]}\")\n",
        "\n",
        "# Negative indexing\n",
        "print(f\"Last color: {colors[-1]}\")\n",
        "print(f\"Student GPA: {student[-1]}\")"
      ],
      "metadata": {
        "colab": {
          "base_uri": "https://localhost:8080/",
          "height": 0
        },
        "id": "Q8Afxuk_-2o6",
        "outputId": "a73c6fd3-7f6d-4cee-9bd2-5927345b5233"
      },
      "id": "Q8Afxuk_-2o6",
      "execution_count": 67,
      "outputs": [
        {
          "output_type": "stream",
          "name": "stdout",
          "text": [
            "Student name: Alice\n",
            "X coordinate: 10\n",
            "First color: red\n",
            "Last color: yellow\n",
            "Student GPA: 3.8\n"
          ]
        }
      ]
    },
    {
      "cell_type": "code",
      "source": [],
      "metadata": {
        "id": "ozGyWyaYBl9G"
      },
      "id": "ozGyWyaYBl9G",
      "execution_count": null,
      "outputs": []
    },
    {
      "cell_type": "markdown",
      "source": [
        "### Changing Tuples\n",
        "\n",
        "Tuples are ***immutable***, meaning you cannot change their contents after creation. This fundamental characteristic protects your data from accidental modification but requires different approaches when you need to work with modified versions. Understanding immutability and learning workaround techniques is essential for effective tuple usage.\n",
        "\n",
        "While you can't change tuples directly, Python provides elegant ways to create new tuples with modified data, convert between mutable and immutable types, and work within immutability constraints."
      ],
      "metadata": {
        "id": "eLoT196E_YOH"
      },
      "id": "eLoT196E_YOH"
    },
    {
      "cell_type": "code",
      "source": [
        "# Tuple immutability demonstration\n",
        "original = (1, 2, 3, 4, 5)\n",
        "print(f\"Original tuple: {original}\")\n",
        "\n",
        "# This would cause an error:\n",
        "# original[0] = 10  # TypeError: 'tuple' object does not support item assignment"
      ],
      "metadata": {
        "colab": {
          "base_uri": "https://localhost:8080/",
          "height": 0
        },
        "id": "zL0Et2po-Sai",
        "outputId": "45674d8c-922e-49c7-a973-b3ac7a1f29eb"
      },
      "id": "zL0Et2po-Sai",
      "execution_count": 68,
      "outputs": [
        {
          "output_type": "stream",
          "name": "stdout",
          "text": [
            "Original tuple: (1, 2, 3, 4, 5)\n"
          ]
        }
      ]
    },
    {
      "cell_type": "code",
      "source": [
        "# Instead, create a new tuple\n",
        "modified = (10,) + original[1:]\n",
        "print(f\"Modified tuple: {modified}\")"
      ],
      "metadata": {
        "colab": {
          "base_uri": "https://localhost:8080/",
          "height": 0
        },
        "id": "S4Nt4jfE-lda",
        "outputId": "3126cb0d-727d-476b-ae05-46fea8e3f53e"
      },
      "id": "S4Nt4jfE-lda",
      "execution_count": 69,
      "outputs": [
        {
          "output_type": "stream",
          "name": "stdout",
          "text": [
            "Modified tuple: (10, 2, 3, 4, 5)\n"
          ]
        }
      ]
    },
    {
      "cell_type": "code",
      "source": [
        "# Or use slicing and concatenation\n",
        "updated = original[:2] + (99,) + original[3:]\n",
        "print(f\"Updated tuple: {updated}\")"
      ],
      "metadata": {
        "colab": {
          "base_uri": "https://localhost:8080/",
          "height": 0
        },
        "id": "UN4kLpCb___q",
        "outputId": "6b712225-6fdf-41dd-e6a5-b4c8fd7a7182"
      },
      "id": "UN4kLpCb___q",
      "execution_count": 70,
      "outputs": [
        {
          "output_type": "stream",
          "name": "stdout",
          "text": [
            "Updated tuple: (1, 2, 99, 4, 5)\n"
          ]
        }
      ]
    },
    {
      "cell_type": "markdown",
      "source": [
        "**Understanding Tuple Immutability**\n",
        "\n",
        "Tuple immutability means that once created, you cannot add, remove, or change elements. This design choice provides data integrity, thread safety, and enables tuples to be used as dictionary keys.\n",
        "\n",
        "Immutability Fundamentals\n",
        "\n",
        "Core Concepts:\n",
        "\n",
        "- Elements cannot be modified after creation\n",
        "- No methods for adding or removing elements\n",
        "- Attempting modification raises TypeError\n",
        "- Immutability applies to tuple structure, not necessarily contents\n",
        "\n",
        "Benefits of Immutability:\n",
        "\n",
        "- Data integrity and protection from accidental changes\n",
        "- Thread-safe for concurrent programming\n",
        "- Hashable (can be dictionary keys)\n",
        "- Predictable behavior in function parameters\n",
        "\n",
        "Limitations: Requires creating new tuples for modifications\n",
        "\n",
        "Workarounds: Convert to list, modify, convert back to tuple\n"
      ],
      "metadata": {
        "id": "OhNFGQxJALw9"
      },
      "id": "OhNFGQxJALw9"
    },
    {
      "cell_type": "markdown",
      "source": [
        "## Sets {}\n",
        "\n",
        "Sets are special collections in Python that store unique items only - no duplicates allowed! Think of them like a bag where you can't put two identical things. Sets are perfect for removing duplicates from data, checking membership quickly, and performing mathematical operations like finding common elements between groups.\n",
        "\n",
        "Sets are mutable (you can change them) but can only contain immutable (unchangeable) items like numbers, strings, and tuples.\n",
        "\n"
      ],
      "metadata": {
        "id": "MJUIDWJDA2yq"
      },
      "id": "MJUIDWJDA2yq"
    },
    {
      "cell_type": "code",
      "source": [
        "# Creating and using sets\n",
        "numbers = {1, 2, 3, 4, 5}\n",
        "fruits = {\"apple\", \"banana\", \"orange\"}\n",
        "\n",
        "print(f\"Numbers: {numbers}\")\n",
        "print(f\"Fruits: {fruits}\")\n",
        "\n",
        "# Sets automatically remove duplicates\n",
        "duplicate_numbers = {1, 2, 2, 3, 3, 4}\n",
        "print(f\"With duplicates removed: {duplicate_numbers}\")\n"
      ],
      "metadata": {
        "colab": {
          "base_uri": "https://localhost:8080/",
          "height": 0
        },
        "id": "Y1GFphY1A_j8",
        "outputId": "f31ac784-659a-4c82-9bba-1bf77064763c"
      },
      "id": "Y1GFphY1A_j8",
      "execution_count": 71,
      "outputs": [
        {
          "output_type": "stream",
          "name": "stdout",
          "text": [
            "Numbers: {1, 2, 3, 4, 5}\n",
            "Fruits: {'banana', 'apple', 'orange'}\n",
            "With duplicates removed: {1, 2, 3, 4}\n"
          ]
        }
      ]
    },
    {
      "cell_type": "markdown",
      "source": [
        "### Creating Sets\n",
        "\n",
        "Creating sets in Python is easy and flexible. You can make sets using curly braces `{}`, the `set()` function, or set comprehensions. Each method has its own advantages depending on your situation and data source.\n",
        "\n",
        "Let's explore all the ways to create sets:"
      ],
      "metadata": {
        "id": "EDX8c5SVBHKJ"
      },
      "id": "EDX8c5SVBHKJ"
    },
    {
      "cell_type": "code",
      "source": [
        "# Basic set creation\n",
        "numbers = {1, 2, 3, 4, 5}\n",
        "colors = {\"red\", \"green\", \"blue\"}\n",
        "mixed = {1, \"hello\", 3.14}\n",
        "\n",
        "print(f\"Numbers: {numbers}\")\n",
        "print(f\"Colors: {colors}\")\n",
        "print(f\"Mixed types: {mixed}\")\n"
      ],
      "metadata": {
        "colab": {
          "base_uri": "https://localhost:8080/",
          "height": 0
        },
        "id": "HduQgmsqBV-x",
        "outputId": "d0ac1798-67f3-48d7-c3c3-80e9fb9bef8b"
      },
      "id": "HduQgmsqBV-x",
      "execution_count": 72,
      "outputs": [
        {
          "output_type": "stream",
          "name": "stdout",
          "text": [
            "Numbers: {1, 2, 3, 4, 5}\n",
            "Colors: {'green', 'red', 'blue'}\n",
            "Mixed types: {1, 'hello', 3.14}\n"
          ]
        }
      ]
    },
    {
      "cell_type": "markdown",
      "source": [
        "### Reading Set Data\n",
        "\n",
        "Reading set data is different from reading lists because sets **don't have indexes**. Instead, you check if items exist, count elements, and iterate through the set. Sets are optimized for fast membership testing, making them perfect for checking if something exists in your data.\n",
        "\n",
        "Let's explore how to work with set data:"
      ],
      "metadata": {
        "id": "CIAIqMwEBcW6"
      },
      "id": "CIAIqMwEBcW6"
    },
    {
      "cell_type": "code",
      "source": [
        "# Reading basic set information\n",
        "colors = {\"red\", \"green\", \"blue\", \"yellow\"}\n",
        "\n",
        "# Check set size\n",
        "print(f\"Colors in set: {len(colors)}\")"
      ],
      "metadata": {
        "colab": {
          "base_uri": "https://localhost:8080/",
          "height": 0
        },
        "id": "hgqFH8pgBmOz",
        "outputId": "c3383364-3db0-489b-97f9-631eb3c21dcb"
      },
      "id": "hgqFH8pgBmOz",
      "execution_count": 73,
      "outputs": [
        {
          "output_type": "stream",
          "name": "stdout",
          "text": [
            "Colors in set: 4\n"
          ]
        }
      ]
    },
    {
      "cell_type": "code",
      "source": [
        "# Check if item exists (very fast!)\n",
        "has_red = \"red\" in colors\n",
        "has_purple = \"purple\" in colors\n",
        "\n",
        "print(f\"Has red? {has_red}\")\n",
        "print(f\"Has purple? {has_purple}\")"
      ],
      "metadata": {
        "colab": {
          "base_uri": "https://localhost:8080/",
          "height": 0
        },
        "id": "2Ik2E91yBuu7",
        "outputId": "0c7b4f30-15fe-48df-8540-7a5d87679d6a"
      },
      "id": "2Ik2E91yBuu7",
      "execution_count": 74,
      "outputs": [
        {
          "output_type": "stream",
          "name": "stdout",
          "text": [
            "Has red? True\n",
            "Has purple? False\n"
          ]
        }
      ]
    },
    {
      "cell_type": "code",
      "source": [
        "## TypeError: 'set' object is not subscriptable\n",
        "# colors[0]"
      ],
      "metadata": {
        "id": "rK4fifICByWz"
      },
      "id": "rK4fifICByWz",
      "execution_count": 76,
      "outputs": []
    },
    {
      "cell_type": "markdown",
      "source": [
        "### Adding to Sets\n",
        "\n",
        "Adding elements to sets is straightforward in Python. You can add single items with `add()`, multiple items with `update()`, or combine sets with union operations. Sets automatically prevent duplicates, so adding an existing item won't create duplicates.\n",
        "\n",
        "Let's explore different ways to grow your sets:"
      ],
      "metadata": {
        "id": "EZjTPhHbB935"
      },
      "id": "EZjTPhHbB935"
    },
    {
      "cell_type": "code",
      "source": [
        "# Basic adding to sets\n",
        "fruits = {\"apple\", \"banana\"}\n",
        "print(f\"Original fruits: {fruits}\")\n",
        "\n",
        "# Add a single fruit\n",
        "fruits.add(\"orange\")\n",
        "print(f\"After adding orange: {fruits}\")"
      ],
      "metadata": {
        "colab": {
          "base_uri": "https://localhost:8080/",
          "height": 0
        },
        "id": "H6fS1B0jCDPr",
        "outputId": "5b7c9a5f-a91b-4be7-a494-09604c8106e1"
      },
      "id": "H6fS1B0jCDPr",
      "execution_count": 77,
      "outputs": [
        {
          "output_type": "stream",
          "name": "stdout",
          "text": [
            "Original fruits: {'banana', 'apple'}\n",
            "After adding orange: {'banana', 'apple', 'orange'}\n"
          ]
        }
      ]
    },
    {
      "cell_type": "code",
      "source": [
        "# Try to add a duplicate (won't change the set)\n",
        "fruits.add(\"apple\")\n",
        "print(f\"After adding apple again: {fruits}\")"
      ],
      "metadata": {
        "colab": {
          "base_uri": "https://localhost:8080/",
          "height": 0
        },
        "id": "vu4gZHjSCIIz",
        "outputId": "9bb9abb0-47f9-42fd-c060-3796e5737a8d"
      },
      "id": "vu4gZHjSCIIz",
      "execution_count": 78,
      "outputs": [
        {
          "output_type": "stream",
          "name": "stdout",
          "text": [
            "After adding apple again: {'banana', 'apple', 'orange'}\n"
          ]
        }
      ]
    },
    {
      "cell_type": "markdown",
      "source": [
        "### Practical Examples\n",
        "\n",
        "`set()` has to be unique. So we can use this property to check elements in common for multiple sets."
      ],
      "metadata": {
        "id": "ci94GPrVCXgQ"
      },
      "id": "ci94GPrVCXgQ"
    },
    {
      "cell_type": "code",
      "source": [
        "first_session = {'alice', 'bob', 'jack', 'kevin'}\n",
        "second_session = {'kevin', 'jack', 'lee'}\n",
        "\n",
        "print(\"students in both sessions:\", first_session & second_session)"
      ],
      "metadata": {
        "colab": {
          "base_uri": "https://localhost:8080/",
          "height": 0
        },
        "id": "uO2dB9dCCmOl",
        "outputId": "5d3e54c0-5e1c-4b53-d0c9-90efc0f779d5"
      },
      "id": "uO2dB9dCCmOl",
      "execution_count": 79,
      "outputs": [
        {
          "output_type": "stream",
          "name": "stdout",
          "text": [
            "students in both sessions: {'kevin', 'jack'}\n"
          ]
        }
      ]
    },
    {
      "cell_type": "markdown",
      "source": [
        "We can use `set()` to check unique elements."
      ],
      "metadata": {
        "id": "mdrYHixUDJBO"
      },
      "id": "mdrYHixUDJBO"
    },
    {
      "cell_type": "code",
      "source": [
        "# Shopping cart with some duplicates\n",
        "cart = [\"apple\", \"banana\", \"milk\", \"apple\", \"bread\", \"milk\"]\n",
        "\n",
        "print(\"Unique items:\", set(cart))"
      ],
      "metadata": {
        "colab": {
          "base_uri": "https://localhost:8080/",
          "height": 0
        },
        "id": "MqMD0USgDO6u",
        "outputId": "52831e9e-7d98-42e6-e69f-aa6d4c415ab7"
      },
      "id": "MqMD0USgDO6u",
      "execution_count": 80,
      "outputs": [
        {
          "output_type": "stream",
          "name": "stdout",
          "text": [
            "Unique items: {'milk', 'bread', 'banana', 'apple'}\n"
          ]
        }
      ]
    },
    {
      "cell_type": "markdown",
      "source": [
        "## Dict\n",
        "\n",
        "Dictionaries are Python's most versatile data structure for storing key-value pairs. They provide fast, efficient access to data through unique keys, making them essential for organizing related information and building complex applications."
      ],
      "metadata": {
        "id": "R64M0WwJENTe"
      },
      "id": "R64M0WwJENTe"
    },
    {
      "cell_type": "code",
      "source": [
        "# Basic dictionary example\n",
        "student = {\n",
        "    'name': 'Alice',\n",
        "    'age': 20,\n",
        "    'grade': 'A',\n",
        "    'courses': ['Math', 'Science']\n",
        "}\n",
        "\n",
        "print(\"Student info:\", student)\n",
        "print(\"Student name:\", student['name'])\n"
      ],
      "metadata": {
        "colab": {
          "base_uri": "https://localhost:8080/",
          "height": 0
        },
        "id": "M0Khiwc2J-35",
        "outputId": "af8be07a-9fe0-4b3b-d968-d68332730fe4"
      },
      "id": "M0Khiwc2J-35",
      "execution_count": 81,
      "outputs": [
        {
          "output_type": "stream",
          "name": "stdout",
          "text": [
            "Student info: {'name': 'Alice', 'age': 20, 'grade': 'A', 'courses': ['Math', 'Science']}\n",
            "Student name: Alice\n"
          ]
        }
      ]
    },
    {
      "cell_type": "markdown",
      "source": [
        "### Creating Dictionaries\n",
        "\n",
        "Python provides multiple ways to create dictionaries, each suited for different scenarios and data sources. Understanding these methods helps you choose the most efficient approach for your specific needs."
      ],
      "metadata": {
        "id": "t9NKSLtvKKDa"
      },
      "id": "t9NKSLtvKKDa"
    },
    {
      "cell_type": "code",
      "source": [
        "# Basic dictionary creation\n",
        "person = {'name': 'John', 'age': 25, 'city': 'New York'}\n",
        "print(\"Person info:\", person)\n",
        "\n",
        "# Empty dictionary\n",
        "empty_dict = {}\n",
        "print(\"Empty dictionary:\", empty_dict)\n"
      ],
      "metadata": {
        "colab": {
          "base_uri": "https://localhost:8080/",
          "height": 0
        },
        "id": "OI1UHP0YKWHB",
        "outputId": "61562f65-f1d8-4ce7-bb10-04e24f238633"
      },
      "id": "OI1UHP0YKWHB",
      "execution_count": 82,
      "outputs": [
        {
          "output_type": "stream",
          "name": "stdout",
          "text": [
            "Person info: {'name': 'John', 'age': 25, 'city': 'New York'}\n",
            "Empty dictionary: {}\n"
          ]
        }
      ]
    },
    {
      "cell_type": "markdown",
      "source": [
        "### Reading Dictionary Values\n",
        "\n",
        "Retrieving data from dictionaries efficiently and safely is fundamental to Python programming. Understanding different access methods helps you handle missing keys gracefully and build robust applications."
      ],
      "metadata": {
        "id": "Q_gzFLJgKhEf"
      },
      "id": "Q_gzFLJgKhEf"
    },
    {
      "cell_type": "code",
      "source": [
        "# Basic dictionary access\n",
        "student = {'name': 'Alice', 'age': 20, 'grade': 'A'}\n",
        "\n",
        "# Direct access\n",
        "print(\"Student name:\", student['name'])\n",
        "print(\"Student age:\", student['age'])"
      ],
      "metadata": {
        "colab": {
          "base_uri": "https://localhost:8080/",
          "height": 0
        },
        "id": "Q9H_S_ITKmOD",
        "outputId": "6c39754b-8507-47ed-8744-c52ce964eb28"
      },
      "id": "Q9H_S_ITKmOD",
      "execution_count": 83,
      "outputs": [
        {
          "output_type": "stream",
          "name": "stdout",
          "text": [
            "Student name: Alice\n",
            "Student age: 20\n"
          ]
        }
      ]
    },
    {
      "cell_type": "markdown",
      "source": [
        "### Updating Dictionaries\n",
        "\n",
        "Modifying dictionary data efficiently is essential for dynamic applications. Python provides multiple methods to update, add, and maintain dictionary content, each optimized for different scenarios and use cases.\n"
      ],
      "metadata": {
        "id": "y7PtLFF_KxMF"
      },
      "id": "y7PtLFF_KxMF"
    },
    {
      "cell_type": "code",
      "source": [
        "student_grades = {'math': 85, 'chinese': 92}"
      ],
      "metadata": {
        "id": "T4bDDGyRKJIc"
      },
      "id": "T4bDDGyRKJIc",
      "execution_count": 84,
      "outputs": []
    },
    {
      "cell_type": "code",
      "source": [
        "# Add new subject\n",
        "student_grades['english'] = 88\n",
        "print(\"Added English:\", student_grades)"
      ],
      "metadata": {
        "colab": {
          "base_uri": "https://localhost:8080/",
          "height": 0
        },
        "id": "szZLTFmEK-ij",
        "outputId": "d8e42e3c-e598-4cab-8620-4c36f1c26e24"
      },
      "id": "szZLTFmEK-ij",
      "execution_count": 85,
      "outputs": [
        {
          "output_type": "stream",
          "name": "stdout",
          "text": [
            "Added English: {'math': 85, 'chinese': 92, 'english': 88}\n"
          ]
        }
      ]
    },
    {
      "cell_type": "code",
      "source": [
        "# Update existing grade\n",
        "student_grades['math'] = 90\n",
        "print(\"Updated math grade:\", student_grades)"
      ],
      "metadata": {
        "colab": {
          "base_uri": "https://localhost:8080/",
          "height": 0
        },
        "id": "nAkoySRHK_uD",
        "outputId": "25cb45b5-7387-4d1a-a811-3a033833295c"
      },
      "id": "nAkoySRHK_uD",
      "execution_count": 86,
      "outputs": [
        {
          "output_type": "stream",
          "name": "stdout",
          "text": [
            "Updated math grade: {'math': 90, 'chinese': 92, 'english': 88}\n"
          ]
        }
      ]
    },
    {
      "cell_type": "code",
      "source": [
        "# Overwrite completely\n",
        "student_grades['chinese'] = 95\n",
        "print(\"Final grades:\", student_grades)"
      ],
      "metadata": {
        "colab": {
          "base_uri": "https://localhost:8080/",
          "height": 0
        },
        "id": "8lfo3s3DLA0Q",
        "outputId": "189564af-e721-41e6-81bc-0b5297f47995"
      },
      "id": "8lfo3s3DLA0Q",
      "execution_count": 87,
      "outputs": [
        {
          "output_type": "stream",
          "name": "stdout",
          "text": [
            "Final grades: {'math': 90, 'chinese': 95, 'english': 88}\n"
          ]
        }
      ]
    },
    {
      "cell_type": "markdown",
      "source": [
        "### Dictionary Tools\n",
        "\n",
        "`values()` would return values of each dictionary item.\n",
        "\n",
        "`keys()` would return keys of each dictionary item.\n",
        "\n",
        "`items()` would return key, values pairs.\n",
        "\n",
        "We can calculate statistical measures using `max()` or `min()` or other fucntions."
      ],
      "metadata": {
        "id": "3s0rTMWVLTNt"
      },
      "id": "3s0rTMWVLTNt"
    },
    {
      "cell_type": "code",
      "source": [
        "scores = {'Math': 85, 'Science': 92, 'English': 78, 'History': 88, 'Art': 95}"
      ],
      "metadata": {
        "id": "OGCr7VNLMycd"
      },
      "id": "OGCr7VNLMycd",
      "execution_count": 88,
      "outputs": []
    },
    {
      "cell_type": "code",
      "source": [
        "scores.keys()"
      ],
      "metadata": {
        "colab": {
          "base_uri": "https://localhost:8080/",
          "height": 0
        },
        "id": "eTclxxg5NV8h",
        "outputId": "7025128b-bf45-4cab-b533-7a231ca4343f"
      },
      "id": "eTclxxg5NV8h",
      "execution_count": 89,
      "outputs": [
        {
          "output_type": "execute_result",
          "data": {
            "text/plain": [
              "dict_keys(['Math', 'Science', 'English', 'History', 'Art'])"
            ]
          },
          "metadata": {},
          "execution_count": 89
        }
      ]
    },
    {
      "cell_type": "code",
      "source": [
        "scores.values()"
      ],
      "metadata": {
        "colab": {
          "base_uri": "https://localhost:8080/",
          "height": 0
        },
        "id": "CcZScXwuNpAy",
        "outputId": "a3fad7d7-c053-4f51-be26-f8c8e6314641"
      },
      "id": "CcZScXwuNpAy",
      "execution_count": 90,
      "outputs": [
        {
          "output_type": "execute_result",
          "data": {
            "text/plain": [
              "dict_values([85, 92, 78, 88, 95])"
            ]
          },
          "metadata": {},
          "execution_count": 90
        }
      ]
    },
    {
      "cell_type": "code",
      "source": [
        "scores.items()"
      ],
      "metadata": {
        "colab": {
          "base_uri": "https://localhost:8080/",
          "height": 0
        },
        "id": "MjoDvAj1Pxgz",
        "outputId": "70a564f9-1c07-453a-b8e3-c8f7ca121afa"
      },
      "id": "MjoDvAj1Pxgz",
      "execution_count": 91,
      "outputs": [
        {
          "output_type": "execute_result",
          "data": {
            "text/plain": [
              "dict_items([('Math', 85), ('Science', 92), ('English', 78), ('History', 88), ('Art', 95)])"
            ]
          },
          "metadata": {},
          "execution_count": 91
        }
      ]
    },
    {
      "cell_type": "code",
      "source": [
        "\n",
        "# Calculate statistics\n",
        "highest = max(scores.values())\n",
        "lowest = min(scores.values())\n",
        "\n",
        "print(f\"highest: {highest}\")\n",
        "print(f\"lowest: {lowest}\")\n"
      ],
      "metadata": {
        "colab": {
          "base_uri": "https://localhost:8080/",
          "height": 0
        },
        "id": "rYemKypBMcVH",
        "outputId": "adafe32e-3ed1-4e63-e78e-0f81e5104e8f"
      },
      "id": "rYemKypBMcVH",
      "execution_count": 92,
      "outputs": [
        {
          "output_type": "stream",
          "name": "stdout",
          "text": [
            "highest: 95\n",
            "lowest: 78\n"
          ]
        }
      ]
    },
    {
      "cell_type": "markdown",
      "source": [
        "## Getting Started with NumPy\n",
        "\n",
        "Welcome to NumPy - the powerful library that makes Python excellent for scientific computing and data analysis! NumPy (Numerical Python) provides fast, efficient arrays and mathematical operations that form the foundation of the entire scientific Python ecosystem.\n",
        "\n",
        "Think of NumPy as giving Python superpowers for working with numbers - making calculations lightning-fast and operations incredibly efficient."
      ],
      "metadata": {
        "id": "iN3ZRmZ5C-0v"
      },
      "id": "iN3ZRmZ5C-0v"
    },
    {
      "cell_type": "code",
      "source": [
        "import numpy as np\n",
        "\n",
        "# Create your first NumPy array\n",
        "numbers = np.array([1, 2, 3, 4, 5])\n",
        "print(\"Your first NumPy array:\")\n",
        "print(numbers)\n",
        "print(f\"Type: {type(numbers)}\")"
      ],
      "metadata": {
        "colab": {
          "base_uri": "https://localhost:8080/"
        },
        "id": "iD7tHsmbDWkI",
        "outputId": "42493d25-160c-4abe-a306-a30c6ecc238e"
      },
      "id": "iD7tHsmbDWkI",
      "execution_count": 93,
      "outputs": [
        {
          "output_type": "stream",
          "name": "stdout",
          "text": [
            "Your first NumPy array:\n",
            "[1 2 3 4 5]\n",
            "Type: <class 'numpy.ndarray'>\n",
            "Doubled: [ 2  4  6  8 10]\n",
            "Sum of 1 million numbers: 499999500000\n"
          ]
        }
      ]
    },
    {
      "cell_type": "code",
      "source": [
        "# See the power - multiply entire array at once!\n",
        "doubled = numbers * 2\n",
        "print(f\"Doubled: {doubled}\")"
      ],
      "metadata": {
        "colab": {
          "base_uri": "https://localhost:8080/"
        },
        "id": "v182Kp2aDZY6",
        "outputId": "6498f793-1397-449b-ae99-2270a381208b"
      },
      "id": "v182Kp2aDZY6",
      "execution_count": 94,
      "outputs": [
        {
          "output_type": "stream",
          "name": "stdout",
          "text": [
            "Doubled: [ 2  4  6  8 10]\n"
          ]
        }
      ]
    },
    {
      "cell_type": "code",
      "source": [
        "# Mathematical operations are blazing fast\n",
        "large_array = np.arange(1000000)  # 1 million numbers\n",
        "result = np.sum(large_array)      # Sum them instantly\n",
        "print(f\"Sum of 1 million numbers: {result}\")"
      ],
      "metadata": {
        "colab": {
          "base_uri": "https://localhost:8080/"
        },
        "id": "c7uBs8WhDbL3",
        "outputId": "7f0c471d-0a9f-4e16-a66a-99c7b045404f"
      },
      "id": "c7uBs8WhDbL3",
      "execution_count": 95,
      "outputs": [
        {
          "output_type": "stream",
          "name": "stdout",
          "text": [
            "Sum of 1 million numbers: 499999500000\n"
          ]
        }
      ]
    },
    {
      "cell_type": "markdown",
      "source": [
        "### Simple NumPy Preview\n",
        "\n",
        "Get a taste of NumPy's power.\n",
        "\n",
        "For more numpy tutorial: https://numpy.org/learn/\n"
      ],
      "metadata": {
        "id": "sPeb51UuDrrf"
      },
      "id": "sPeb51UuDrrf"
    },
    {
      "cell_type": "code",
      "source": [
        "import numpy as np\n",
        "\n",
        "# Create arrays in different ways\n",
        "simple_array = np.array([1, 2, 3, 4, 5])\n",
        "zeros_array = np.zeros(5)\n",
        "ones_array = np.ones(3)\n",
        "range_array = np.arange(10)\n",
        "\n",
        "print(\"Simple array:\", simple_array)\n",
        "print(\"Zeros array:\", zeros_array)\n",
        "print(\"Ones array:\", ones_array)\n",
        "print(\"Range array:\", range_array)"
      ],
      "metadata": {
        "colab": {
          "base_uri": "https://localhost:8080/"
        },
        "id": "1X9DOKTlDktg",
        "outputId": "bfb8621e-5760-417d-8d0d-c7d05b9786df"
      },
      "id": "1X9DOKTlDktg",
      "execution_count": 96,
      "outputs": [
        {
          "output_type": "stream",
          "name": "stdout",
          "text": [
            "Simple array: [1 2 3 4 5]\n",
            "Zeros array: [0. 0. 0. 0. 0.]\n",
            "Ones array: [1. 1. 1.]\n",
            "Range array: [0 1 2 3 4 5 6 7 8 9]\n"
          ]
        }
      ]
    },
    {
      "cell_type": "code",
      "source": [
        "# 2D arrays (matrices)\n",
        "matrix = np.array([[1, 2, 3], [4, 5, 6]])\n",
        "print(\"2D array (matrix):\")\n",
        "print(matrix)\n",
        "print(f\"Shape: {matrix.shape}\")"
      ],
      "metadata": {
        "colab": {
          "base_uri": "https://localhost:8080/"
        },
        "id": "P29MlJtJD1Jl",
        "outputId": "41a39837-d7e8-4120-b43e-35509844d1d7"
      },
      "id": "P29MlJtJD1Jl",
      "execution_count": 97,
      "outputs": [
        {
          "output_type": "stream",
          "name": "stdout",
          "text": [
            "2D array (matrix):\n",
            "[[1 2 3]\n",
            " [4 5 6]]\n",
            "Shape: (2, 3)\n"
          ]
        }
      ]
    },
    {
      "cell_type": "code",
      "source": [
        "# Mathematical operations\n",
        "numbers = np.array([1, 4, 9, 16, 25])\n",
        "square_roots = np.sqrt(numbers)\n",
        "print(f\"Numbers: {numbers}\")\n",
        "print(f\"Square roots: {square_roots}\")"
      ],
      "metadata": {
        "colab": {
          "base_uri": "https://localhost:8080/"
        },
        "id": "N3EShQhsD4XB",
        "outputId": "51485576-c5e4-4775-816a-307071ed5d64"
      },
      "id": "N3EShQhsD4XB",
      "execution_count": 98,
      "outputs": [
        {
          "output_type": "stream",
          "name": "stdout",
          "text": [
            "Numbers: [ 1  4  9 16 25]\n",
            "Square roots: [1. 2. 3. 4. 5.]\n"
          ]
        }
      ]
    },
    {
      "cell_type": "markdown",
      "source": [
        "### Real-World NumPy Applications\n",
        "\n"
      ],
      "metadata": {
        "id": "2L9Ihp21DEFf"
      },
      "id": "2L9Ihp21DEFf"
    },
    {
      "cell_type": "markdown",
      "source": [
        "#### Financial data analysis"
      ],
      "metadata": {
        "id": "5JQRE0WdFKxq"
      },
      "id": "5JQRE0WdFKxq"
    },
    {
      "cell_type": "code",
      "source": [
        "import numpy as np\n",
        "import matplotlib.pyplot as plt\n",
        "\n",
        "# Financial data analysis - Simulating a random walk\n",
        "# Generate random daily returns\n",
        "np.random.seed(42) # for reproducibility\n",
        "num_days = 252 # Approximate number of trading days in a year\n",
        "average_daily_return = 0.0005 # Small positive drift\n",
        "volatility = 0.01 # Standard deviation of daily returns\n",
        "\n",
        "# Generate random returns with a slight drift\n",
        "random_returns = np.random.normal(average_daily_return, volatility, num_days)\n",
        "\n",
        "# Start with an initial price\n",
        "initial_price = 100\n",
        "stock_prices = [initial_price]\n",
        "\n",
        "# Calculate stock prices based on random returns\n",
        "for r in random_returns:\n",
        "    next_price = stock_prices[-1] * (1 + r)\n",
        "    stock_prices.append(next_price)\n",
        "\n",
        "stock_prices = np.array(stock_prices)\n",
        "\n",
        "\n",
        "plt.plot(stock_prices)\n",
        "plt.title(\"Simulated Stock Prices (Random Walk)\")\n",
        "plt.xlabel(\"Day\")\n",
        "plt.ylabel(\"Price\")\n",
        "plt.grid(True)\n",
        "plt.show()\n",
        "\n",
        "print(\"Simulated Stock prices (first 10):\", stock_prices[:10].round(2)) # Print only first 10 for brevity\n",
        "print(\"Daily returns (first 10):\", random_returns[:10].round(4)) # Print only first 10 for brevity\n",
        "print(f\"Average simulated return: {np.mean(random_returns):.4f}\")\n",
        "print(f\"Simulated volatility: {np.std(random_returns):.4f}\")"
      ],
      "metadata": {
        "colab": {
          "base_uri": "https://localhost:8080/",
          "height": 559
        },
        "id": "hi-PzCl-EGbk",
        "outputId": "1d3f6d45-7b9c-4f51-c359-07b7a2175fad"
      },
      "id": "hi-PzCl-EGbk",
      "execution_count": 106,
      "outputs": [
        {
          "output_type": "display_data",
          "data": {
            "text/plain": [
              "<Figure size 640x480 with 1 Axes>"
            ],
            "image/png": "[encoded data removed]"
          },
          "metadata": {}
        },
        {
          "output_type": "stream",
          "name": "stdout",
          "text": [
            "Simulated Stock prices (first 10): [100.   100.55 100.46 101.16 102.75 102.56 102.37 104.04 104.89 104.45]\n",
            "Daily returns (first 10): [ 0.0055 -0.0009  0.007   0.0157 -0.0018 -0.0018  0.0163  0.0082 -0.0042\n",
            "  0.0059]\n",
            "Average simulated return: 0.0005\n",
            "Simulated volatility: 0.0097\n"
          ]
        }
      ]
    },
    {
      "cell_type": "markdown",
      "source": [
        "#### Scientific computation"
      ],
      "metadata": {
        "id": "p-3eFpCyE6eY"
      },
      "id": "p-3eFpCyE6eY"
    },
    {
      "cell_type": "code",
      "source": [
        "import numpy as np\n",
        "import matplotlib.pyplot as plt\n",
        "\n",
        "angles = np.linspace(0, 2*np.pi, 100)  # 100 angles from 0 to 2π\n",
        "sin_values = np.sin(angles)\n",
        "cos_values = np.cos(angles)\n",
        "print(\"Angles (first 10):\", angles[:10].round(2)) # Print only first 10 for brevity\n",
        "print(\"Sin values (first 10):\", sin_values[:10].round(2)) # Print only first 10 for brevity\n",
        "print(\"Cos values (first 10):\", cos_values[:10].round(2)) # Print only first 10 for brevity\n",
        "\n",
        "# Plot sin_values and cos_values side by side with subtitles\n",
        "fig, (ax1, ax2) = plt.subplots(1, 2, figsize=(10, 4))\n",
        "\n",
        "ax1.plot(angles, sin_values)\n",
        "ax1.set_title(\"Sine Values\")\n",
        "ax1.set_xlabel(\"Angle (radians)\")\n",
        "ax1.set_ylabel(\"Sine\")\n",
        "ax1.grid(True)\n",
        "\n",
        "ax2.plot(angles, cos_values, color='orange')\n",
        "ax2.set_title(\"Cosine Values\")\n",
        "ax2.set_xlabel(\"Angle (radians)\")\n",
        "ax2.set_ylabel(\"Cosine\")\n",
        "ax2.grid(True)\n",
        "\n",
        "plt.tight_layout()\n",
        "plt.show()"
      ],
      "metadata": {
        "colab": {
          "base_uri": "https://localhost:8080/",
          "height": 437
        },
        "id": "sbDk-ZL9FCKN",
        "outputId": "05e6974e-3560-4382-8e1a-4f7d80766af3"
      },
      "id": "sbDk-ZL9FCKN",
      "execution_count": 109,
      "outputs": [
        {
          "output_type": "stream",
          "name": "stdout",
          "text": [
            "Angles (first 10): [0.   0.06 0.13 0.19 0.25 0.32 0.38 0.44 0.51 0.57]\n",
            "Sin values (first 10): [0.   0.06 0.13 0.19 0.25 0.31 0.37 0.43 0.49 0.54]\n",
            "Cos values (first 10): [1.   1.   0.99 0.98 0.97 0.95 0.93 0.9  0.87 0.84]\n"
          ]
        },
        {
          "output_type": "display_data",
          "data": {
            "text/plain": [
              "<Figure size 1000x400 with 2 Axes>"
            ],
            "image/png": "[encoded data removed]"
          },
          "metadata": {}
        }
      ]
    },
    {
      "cell_type": "markdown",
      "source": [
        "## Exercises"
      ],
      "metadata": {
        "id": "4b2cFCyPaRwy"
      },
      "id": "4b2cFCyPaRwy"
    },
    {
      "cell_type": "markdown",
      "id": "57527ef6-5c0a-4136-9336-148683cca090",
      "metadata": {
        "id": "57527ef6-5c0a-4136-9336-148683cca090"
      },
      "source": [
        "### Exercise 4.1 Personal Info\n",
        "\n",
        "**Description:**\n",
        "\n",
        "Create a list to store the following information:\n",
        "\n",
        "- `Name`\n",
        "- `Gender`\n",
        "- `Student_ID`\n",
        "- `Email`"
      ]
    },
    {
      "cell_type": "code",
      "execution_count": 48,
      "id": "1ce0da08-f7b6-4486-859e-a5bce216a967",
      "metadata": {
        "id": "1ce0da08-f7b6-4486-859e-a5bce216a967"
      },
      "outputs": [],
      "source": [
        "## TODO\n",
        "# info ="
      ]
    },
    {
      "cell_type": "markdown",
      "id": "a118f1c8-d0e1-4860-8aaa-7a1bd010e386",
      "metadata": {
        "id": "a118f1c8-d0e1-4860-8aaa-7a1bd010e386"
      },
      "source": [
        "### Exercise 4.2 Snack Menu List\n",
        "\n",
        "**Description:**\n",
        "\n",
        "A fast food shop has a menu:\n",
        "\n",
        "```{python}\n",
        "\"Burger\", \"Fries\", \"Cola\", \"Cookies\", \"Ice Cream\"\n",
        "```\n",
        "\n",
        "with prices\n",
        "\n",
        "```{python}\n",
        "10, 5, 3, 7, 4\n",
        "```\n",
        "\n",
        "\n",
        "Complete following tasks:\n",
        "\n",
        "1. Print menu and prices.\n",
        "\n",
        "2. Ask the user to choose 1 item. Print the price and snack name.\n",
        "\n",
        "3. Ask the user to choose 3 items. Calcualte the total prices.\n",
        "\n",
        "**Hint:**\n",
        "\n",
        "Create two list, menu and prices.\n",
        "\n",
        "List index by given number, e.g. menu[0]\n",
        "\n",
        "If user choose 3 items, it will be a list of numbers, with length three, e.g.\n",
        "\n",
        "`order = [0, 2, 3]`\n",
        "\n",
        "Then get the price and snack by\n",
        "\n",
        "`[menu[0], menu[2], menu[3]]`\n",
        "\n",
        "`[prices[0], prices[2], prices[3]]`\n",
        "\n"
      ]
    },
    {
      "cell_type": "code",
      "execution_count": 47,
      "id": "ef27572f-9c0a-42dc-b379-7cfa367490ff",
      "metadata": {
        "colab": {
          "base_uri": "https://localhost:8080/",
          "height": 0
        },
        "id": "ef27572f-9c0a-42dc-b379-7cfa367490ff",
        "outputId": "7be33b06-8b71-4fdc-e9de-b5f0615106b8"
      },
      "outputs": [
        {
          "output_type": "stream",
          "name": "stdout",
          "text": [
            "1,2,3\n",
            "<class 'str'>\n"
          ]
        }
      ],
      "source": [
        "# Task: fast food order\n",
        "\n",
        "# menu: \"Burger\", \"Fries\", \"Cola\", \"Cookies\", \"Ice Cream\"\n",
        "# prices: 10, 5, 3, 7, 4\n",
        "\n",
        "\n",
        "\n",
        "# TODO:\n",
        "# 1) Create two list, menu and prices.\n",
        "\n",
        "# 2) Ask user for 1 choices (numbers)\n",
        "# order = int(input())  # this is an int\n",
        "\n",
        "# 3) Ask user for 3 choices (List)\n",
        "# order = input()\n",
        "# order_list = [int(item) for item in order]  # this is a list of numbers\n",
        "# print(\"User ordered food number:\", order_list)"
      ]
    },
    {
      "cell_type": "markdown",
      "source": [
        "\n",
        "### Exercise 4.3 Odd Numbers List\n",
        "\n",
        "**Description:**\n",
        "\n",
        "Make a list of the odd numbers from 1 to 9. Then:\n",
        "\n",
        "1. Print the last number in the list.  \n",
        "2. Replace the middle number with 99.  \n",
        "3. Remove the first number.  \n",
        "4. Print the final list.  \n",
        "\n",
        "**Hint:**\n",
        "\n",
        "- Last element: `mylist[-1]`  \n",
        "- Replace: `mylist[index] = value`  \n",
        "- Remove: `.pop(0)`  "
      ],
      "metadata": {
        "id": "afI2d8J2HVKm"
      },
      "id": "afI2d8J2HVKm"
    },
    {
      "cell_type": "code",
      "source": [
        "# Task: Work with odd numbers\n",
        "\n",
        "odds = [1, 3, 5, 7, 9]\n",
        "\n",
        "# TODO:\n",
        "# 1) Print the last number\n",
        "# 2) Replace the middle number (index 2) with 99\n",
        "# 3) Remove the first number from the list\n",
        "# 4) Print the final list\n"
      ],
      "metadata": {
        "id": "SvXp29jCHeVn"
      },
      "id": "SvXp29jCHeVn",
      "execution_count": 1,
      "outputs": []
    },
    {
      "cell_type": "markdown",
      "source": [
        "### Exercise 4.4 Shopping Cart\n",
        "\n",
        "**Description:**\n",
        "\n",
        "You have a shopping cart stored in a list.  \n",
        "\n",
        "1. Print the second item in the cart.  \n",
        "2. Change the third item to \"milk\".  \n",
        "3. Add \"bread\" at the end of the cart.  \n",
        "4. Print the number of items in the cart.  \n",
        "\n",
        "**Hint:**\n",
        "\n",
        "- Use `len(mylist)` to count items.  "
      ],
      "metadata": {
        "id": "SZB-qDGJHpdn"
      },
      "id": "SZB-qDGJHpdn"
    },
    {
      "cell_type": "code",
      "source": [
        "# Task: Manage a shopping cart\n",
        "\n",
        "cart = [\"eggs\", \"rice\", \"chicken\"]\n",
        "\n",
        "# TODO:\n",
        "# 1) Print the second item\n",
        "\n",
        "# 2) Change the third item to \"milk\"\n",
        "\n",
        "# 3) Add \"bread\" at the end\n",
        "\n",
        "# 4) Print how many items are now in the cart"
      ],
      "metadata": {
        "id": "Y2Li2jfBHyKt"
      },
      "id": "Y2Li2jfBHyKt",
      "execution_count": 2,
      "outputs": []
    },
    {
      "cell_type": "markdown",
      "source": [
        "### Exercise 4.5 Favorite Colors (Tuples)\n",
        "\n",
        "**Description:**\n",
        "\n",
        "You are given a tuple of three people’s favorite colors.\n",
        "\n",
        "The program should directly print out each person’s favorite color.\n",
        "\n",
        "```{python}\n",
        "favorites = (\n",
        "    (\"Alice\", \"Blue\"),\n",
        "    (\"Bob\", \"Green\"),\n",
        "    (\"Charlie\", \"Red\"),\n",
        ")\n",
        "```\n",
        "\n",
        "**Hint:**\n",
        "\n",
        "Use tuple indexing like favorites[0][0] for the name and favorites[0][1] for the color."
      ],
      "metadata": {
        "id": "a6k9hufqFwZm"
      },
      "id": "a6k9hufqFwZm"
    },
    {
      "cell_type": "code",
      "source": [
        "# Task: Print favorite colors using tuple indexing\n",
        "favorites = (\n",
        "    (\"Alice\", \"Blue\"),\n",
        "    (\"Bob\", \"Green\"),\n",
        "    (\"Charlie\", \"Red\"),\n",
        ")\n",
        "\n",
        "# TODO:\n",
        "# 1) Print \"Alice's favorite color is Blue\" using favorites[0]\n",
        "\n",
        "# 2) Print \"Bob's favorite color is Green\" using favorites[1]\n",
        "\n",
        "# 3) Print \"Charlie's favorite color is Red\" using favorites[2]\n"
      ],
      "metadata": {
        "id": "SrEJ5OBZF60t"
      },
      "id": "SrEJ5OBZF60t",
      "execution_count": 25,
      "outputs": []
    },
    {
      "cell_type": "markdown",
      "source": [
        "### Exercise 4.6 Unique Fruits (Sets)\n",
        "\n",
        "**Description:**\n",
        "\n",
        "Create a set of fruits. Notice that a set automatically removes duplicates.\n",
        "\n",
        "Print the set to see only unique fruits.\n",
        "\n",
        "And show the length of unique fruits.\n",
        "\n",
        "```{python}\n",
        "fruits = {\"apple\", \"banana\", \"apple\", \"orange\", \"banana\"}\n",
        "```\n",
        "\n",
        "Sample output:\n",
        "```{python}\n",
        "{'apple', 'banana', 'orange'}\n",
        "3\n",
        "```"
      ],
      "metadata": {
        "id": "0nHWI-zCH0oi"
      },
      "id": "0nHWI-zCH0oi"
    },
    {
      "cell_type": "code",
      "source": [
        "# Task: Show unique fruits using set\n",
        "fruits = {\"apple\", \"banana\", \"apple\", \"orange\", \"banana\"}\n",
        "\n",
        "# TODO:\n",
        "# 1) Print the unique fruits names\n",
        "\n",
        "# 2) Print how many unique fruits (use len)\n"
      ],
      "metadata": {
        "id": "YFICutaHILHU"
      },
      "id": "YFICutaHILHU",
      "execution_count": null,
      "outputs": []
    },
    {
      "cell_type": "markdown",
      "source": [
        "### Exercise 4.7 English–Chinese Dictionary Helper\n",
        "\n",
        "**Description:**\n",
        "\n",
        "Use a dictionary to store and look up information.\n",
        "\n",
        "```{python}\n",
        "dictionary = {\n",
        "    \"apple\": \"苹果\",\n",
        "    \"banana\": \"香蕉\",\n",
        "    \"orange\": \"橙子\"\n",
        "}\n",
        "```\n",
        "\n",
        "1. Print all English words\n",
        "\n",
        "2. Print all Chinese words\n",
        "\n",
        "3. Use dictionary[word] to look up the translation from English to Chinese.\n",
        "\n",
        "4. Add a new word into the dictionary that \"grape\" is for \"葡萄\"."
      ],
      "metadata": {
        "id": "zDiKRixmLhEl"
      },
      "id": "zDiKRixmLhEl"
    },
    {
      "cell_type": "code",
      "source": [
        "# Create a simple English–Chinese dictionary\n",
        "dictionary = {\n",
        "    \"apple\": \"苹果\",\n",
        "    \"banana\": \"香蕉\",\n",
        "    \"orange\": \"橙子\"\n",
        "}\n",
        "\n",
        "# 1. Print all English words in the dictionary\n",
        "\n",
        "# 2. Print all Chinese words in the dictionary\n",
        "\n",
        "# 3. Use dictionary[word] to look up the translation\n",
        "\n",
        "# 4. Add a new word into the dictionary\n",
        "# \"grape\" : \"葡萄\"\n"
      ],
      "metadata": {
        "colab": {
          "base_uri": "https://localhost:8080/",
          "height": 35
        },
        "id": "zXNsFet1MIcH",
        "outputId": "e49604f6-2b9a-4a6e-854b-337f98fe7697"
      },
      "id": "zXNsFet1MIcH",
      "execution_count": 36,
      "outputs": [
        {
          "output_type": "execute_result",
          "data": {
            "text/plain": [
              "'desktop'"
            ],
            "application/vnd.google.colaboratory.intrinsic+json": {
              "type": "string"
            }
          },
          "metadata": {},
          "execution_count": 36
        }
      ]
    }
  ],
  "metadata": {
    "kernelspec": {
      "display_name": ".venv",
      "language": "python",
      "name": ".venv"
    },
    "language_info": {
      "codemirror_mode": {
        "name": "ipython",
        "version": 3
      },
      "file_extension": ".py",
      "mimetype": "text/x-python",
      "name": "python",
      "nbconvert_exporter": "python",
      "pygments_lexer": "ipython3",
      "version": "3.13.7"
    },
    "colab": {
      "provenance": [],
      "toc_visible": true
    }
  },
  "nbformat": 4,
  "nbformat_minor": 5
}
