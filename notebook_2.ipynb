{
  "cells": [
    {
      "cell_type": "markdown",
      "source": [
        "[![Open in Colab](https://colab.research.google.com/assets/colab-badge.svg)](https://colab.research.google.com/github/ZeBang/python)"
      ],
      "metadata": {
        "id": "SHhpqEtnTFO5"
      },
      "id": "SHhpqEtnTFO5"
    },
    {
      "cell_type": "markdown",
      "id": "7dbb9270-23e4-4cc2-b5ff-f32b0ae61193",
      "metadata": {
        "id": "7dbb9270-23e4-4cc2-b5ff-f32b0ae61193"
      },
      "source": [
        "# Working with Data - Session 2"
      ]
    },
    {
      "cell_type": "markdown",
      "id": "a286317a-5824-4908-b3ec-e5eaceee3f87",
      "metadata": {
        "id": "a286317a-5824-4908-b3ec-e5eaceee3f87"
      },
      "source": [
        "## 1. Working with variables\n",
        "\n",
        "Variables are like containers that store information in your programs. They're one of the most fundamental concepts in programming—imagine labeled boxes where you can put different types of data and use them later.\n",
        "\n",
        "With variables, your programs become dynamic and useful. You can store user input, remember calculations, and work with different data each time your program runs!\n",
        "\n",
        "Creating variables in Python is simple! You just give the variable a name and assign it a value using the equals sign (=). This is called the assignment operator—it takes the value on the right and stores it in the variable on the left."
      ]
    },
    {
      "cell_type": "code",
      "execution_count": null,
      "id": "7e035508-5614-43a0-b60f-8f96f7d96c09",
      "metadata": {
        "id": "7e035508-5614-43a0-b60f-8f96f7d96c09",
        "outputId": "aac9a3a7-a060-4804-dedf-01d3654667d2"
      },
      "outputs": [
        {
          "name": "stdout",
          "output_type": "stream",
          "text": [
            "Hello, Alice! You are 25 years old.\n"
          ]
        }
      ],
      "source": [
        "# Creating and using variables\n",
        "name = \"Alice\"\n",
        "age = 25\n",
        "print(f\"Hello, {name}! You are {age} years old.\")"
      ]
    },
    {
      "cell_type": "markdown",
      "id": "42214dc7-e46e-4e2d-aa6f-9ff2000cc8c7",
      "metadata": {
        "id": "42214dc7-e46e-4e2d-aa6f-9ff2000cc8c7"
      },
      "source": [
        "## 2. String Formatting with f-strings\n",
        "\n",
        "f-strings are Python's modern way to insert variable values into text. They make your output clean and readable."
      ]
    },
    {
      "cell_type": "code",
      "execution_count": null,
      "id": "38359e79-ac82-4f8f-aad2-299728b12ee8",
      "metadata": {
        "id": "38359e79-ac82-4f8f-aad2-299728b12ee8",
        "outputId": "d555b578-7dfd-43a6-a4e1-9c6d2bd5e55b"
      },
      "outputs": [
        {
          "name": "stdout",
          "output_type": "stream",
          "text": [
            "Hello, Bob!\n",
            "Bob is 30 years old and 5.8 feet tall\n",
            "In 10 years, Bob will be 40 years old\n",
            "The price is $19.99\n"
          ]
        }
      ],
      "source": [
        "# f-string examples\n",
        "name = \"Bob\"\n",
        "age = 30\n",
        "height = 5.8\n",
        "\n",
        "# Basic f-string\n",
        "print(f\"Hello, {name}!\")\n",
        "\n",
        "# Multiple variables\n",
        "print(f\"{name} is {age} years old and {height} feet tall\")\n",
        "\n",
        "# With calculations\n",
        "print(f\"In 10 years, {name} will be {age + 10} years old\")\n",
        "\n",
        "# With formatting\n",
        "price = 19.99\n",
        "print(f\"The price is ${price:.2f}\")"
      ]
    },
    {
      "cell_type": "markdown",
      "id": "21577d55-1660-48f6-a2e8-1390e93af8e7",
      "metadata": {
        "id": "21577d55-1660-48f6-a2e8-1390e93af8e7"
      },
      "source": [
        "## 3. Variables"
      ]
    },
    {
      "cell_type": "markdown",
      "id": "ea237f77-939c-4243-b5e6-8c57d7f674c4",
      "metadata": {
        "id": "ea237f77-939c-4243-b5e6-8c57d7f674c4"
      },
      "source": [
        "Variables are like containers that store information. They let you save data and use it later in your program.\n",
        "- Create variables to store the values\n",
        "- Can later be used by variable name\n"
      ]
    },
    {
      "cell_type": "code",
      "execution_count": null,
      "id": "37d255b8-1485-4b98-8088-948550832d70",
      "metadata": {
        "id": "37d255b8-1485-4b98-8088-948550832d70",
        "outputId": "f78179f9-c87a-4f25-af1d-d7fc53b7e872"
      },
      "outputs": [
        {
          "name": "stdout",
          "output_type": "stream",
          "text": [
            "Student: Alice\n",
            "Age: 25\n",
            "Course: Python\n"
          ]
        }
      ],
      "source": [
        "# Valid variable names\n",
        "student_name = \"Alice\"      # Letters and underscores ✓\n",
        "age = 25                   # Letters and numbers ✓\n",
        "_private_var = \"hidden\"     # Can start with underscore ✓\n",
        "course_2024 = \"Python\"     # Numbers allowed (not at start) ✓\n",
        "\n",
        "print(f\"Student: {student_name}\")\n",
        "print(f\"Age: {age}\")\n",
        "print(f\"Course: {course_2024}\")\n"
      ]
    },
    {
      "cell_type": "code",
      "execution_count": null,
      "id": "029ee8f4-9b24-44bc-bd9e-3e1e95b5b93c",
      "metadata": {
        "id": "029ee8f4-9b24-44bc-bd9e-3e1e95b5b93c",
        "outputId": "19512131-78b6-4195-cce6-74ebadbe5b13"
      },
      "outputs": [
        {
          "name": "stdout",
          "output_type": "stream",
          "text": [
            "Salary: $5000\n",
            "Tax rate: 15.0%\n",
            "Net income: $4250.0\n"
          ]
        }
      ],
      "source": [
        "# Descriptive names make code self-documenting\n",
        "monthly_salary = 5000\n",
        "tax_rate = 0.15\n",
        "net_income = monthly_salary * (1 - tax_rate)\n",
        "\n",
        "print(f\"Salary: ${monthly_salary}\")\n",
        "print(f\"Tax rate: {tax_rate:.1%}\")\n",
        "print(f\"Net income: ${net_income}\")\n"
      ]
    },
    {
      "cell_type": "code",
      "execution_count": null,
      "id": "5bb028dc-7a40-4e46-bb0b-772ccd479cb0",
      "metadata": {
        "id": "5bb028dc-7a40-4e46-bb0b-772ccd479cb0",
        "outputId": "69462332-fd1e-4524-ebc8-a833d102d5f1"
      },
      "outputs": [
        {
          "name": "stdout",
          "output_type": "stream",
          "text": [
            "My name is Zebang\n",
            "I'm in the classroom 309.\n",
            "Am I happy? True!\n"
          ]
        }
      ],
      "source": [
        "room = 309\n",
        "name = \"Zebang\"\n",
        "are_you_happy = True\n",
        "\n",
        "print(f\"My name is {name}\")\n",
        "print(f\"I'm in the classroom {room}.\")\n",
        "print(f\"Am I happy? {are_you_happy}!\")\n"
      ]
    },
    {
      "cell_type": "markdown",
      "id": "fef5e16d-30c2-4545-9e3e-367d8ae6d9c8",
      "metadata": {
        "id": "fef5e16d-30c2-4545-9e3e-367d8ae6d9c8"
      },
      "source": [
        "## 4. Understanding Data Types\n",
        "\n",
        "In Python, every piece of data has a type that defines how you can use it.\n",
        "\n",
        "Knowing data types helps you predict behavior and avoid errors.\n",
        "\n",
        "think of them as labels like “number for math” or “text for display.”"
      ]
    },
    {
      "cell_type": "code",
      "execution_count": null,
      "id": "2b4c07ac-fc38-486e-9be0-4afa3ecd6ff1",
      "metadata": {
        "id": "2b4c07ac-fc38-486e-9be0-4afa3ecd6ff1",
        "outputId": "453a8fec-791e-492a-dd71-68e15b410f21"
      },
      "outputs": [
        {
          "name": "stdout",
          "output_type": "stream",
          "text": [
            "My name is Zebang\n",
            "I'm in the classroom 309.\n",
            "Am I happy? For sure True!\n",
            "<class 'int'>\n",
            "<class 'str'>\n",
            "<class 'bool'>\n"
          ]
        }
      ],
      "source": [
        "room = 309\n",
        "name = \"Zebang\"\n",
        "happy = True\n",
        "\n",
        "print(f\"My name is {name}\")\n",
        "print(f\"I'm in the classroom {room}.\")\n",
        "print(f\"Am I happy? For sure {happy}!\")\n",
        "\n",
        "\n",
        "print(type(room))\n",
        "print(type(\"Zebang\"))\n",
        "print(type(happy))"
      ]
    },
    {
      "cell_type": "markdown",
      "id": "37e9a293-399c-4e69-9397-72e81969550f",
      "metadata": {
        "id": "37e9a293-399c-4e69-9397-72e81969550f"
      },
      "source": [
        "## 5. Working with numbers\n",
        "\n",
        "**Integers** and **Floats**\n",
        "\n",
        "Data types are the building blocks of programming! They tell Python what kind of information you're working with—whether it's numbers for calculations, text for messages, or True/False values for decisions. Understanding data types helps you write better code and avoid common mistakes.\n",
        "\n",
        "Python automatically figures out what type of data you have, making it beginner-friendly while giving you powerful tools to work with different kinds of information.\n",
        "\n",
        "\n",
        "You can use Type() function to check variable type."
      ]
    },
    {
      "cell_type": "code",
      "execution_count": null,
      "id": "46d014a0-1116-4e7a-be1a-6ae51db3a0c1",
      "metadata": {
        "id": "46d014a0-1116-4e7a-be1a-6ae51db3a0c1"
      },
      "outputs": [],
      "source": [
        "# The difference between 5 and 5.0\n",
        "whole_number = 5       # Integer\n",
        "decimal_number = 5.0   # Float\n",
        "\n",
        "print(f\"5 is type: {type(whole_number)}\")\n",
        "print(f\"5.0 is type: {type(decimal_number)}\")\n",
        "\n",
        "# They're equal in value but different types\n",
        "print(f\"Are they equal? {whole_number == decimal_number}\")\n",
        "print(f\"Same type? {type(whole_number) == type(decimal_number)}\")"
      ]
    },
    {
      "cell_type": "markdown",
      "id": "f32d1ec9-9d9b-463c-ba3f-f066ad481a47",
      "metadata": {
        "id": "f32d1ec9-9d9b-463c-ba3f-f066ad481a47"
      },
      "source": [
        "**⚠️ Integer vs Float Quick Guide**\n",
        "\n",
        "**Integers (`int`)**:\n",
        "- Whole numbers: `42`, `-17`, `0`\n",
        "- No decimal point\n",
        "- Perfect for counting discrete items\n",
        "- Example: `students = 25`\n",
        "\n",
        "**Floats (`float`)**:\n",
        "- Decimal numbers: `3.14`, `19.99`, `-2.5`\n",
        "- Always have a decimal point (even `5.0`)\n",
        "- Perfect for measurements and precise values\n",
        "- Example: `price = 19.99`\n",
        "\n",
        "**Key Point:** `5` is **int**, `5.0` is **float** → syntax matters!\n"
      ]
    },
    {
      "cell_type": "code",
      "execution_count": null,
      "id": "6b4badac-9a31-4bfe-ae70-ee1338e06741",
      "metadata": {
        "id": "6b4badac-9a31-4bfe-ae70-ee1338e06741",
        "outputId": "3fab5cc5-70aa-4d2a-a883-ddbeb81ec0a4"
      },
      "outputs": [
        {
          "name": "stdout",
          "output_type": "stream",
          "text": [
            "Whole: 42 (<class 'int'>)\n",
            "Decimal: 3.14159 (<class 'float'>)\n",
            "Negative: -17 (<class 'int'>)\n",
            "Large: 1000000 (<class 'int'>)\n"
          ]
        }
      ],
      "source": [
        "# Numeric data types\n",
        "whole_number = 42          # int: whole numbers\n",
        "decimal_number = 3.14159   # float: decimal numbers\n",
        "negative_number = -17      # int: can be negative\n",
        "very_large = 1000000       # int: no size limit!\n",
        "\n",
        "print(f\"Whole: {whole_number} ({type(whole_number)})\")\n",
        "print(f\"Decimal: {decimal_number} ({type(decimal_number)})\")\n",
        "print(f\"Negative: {negative_number} ({type(negative_number)})\")\n",
        "print(f\"Large: {very_large} ({type(very_large)})\")"
      ]
    },
    {
      "cell_type": "markdown",
      "id": "33a867c5-836b-4e30-94f4-5539c0a4ac1f",
      "metadata": {
        "id": "33a867c5-836b-4e30-94f4-5539c0a4ac1f"
      },
      "source": [
        "Converting Between Number Types\n",
        "\n",
        "**⚠️ Conversion Rules**\n",
        "\n",
        "**`int()` function**:\n",
        "- **Truncates** (removes) decimal part  \n",
        "- `int(15.7)` → `15` (not 16!)  \n",
        "- `int(-3.9)` → `-3` (not -4!)  \n",
        "\n",
        "**`float()` function**:\n",
        "- Adds `.0` to integers  \n",
        "- `float(42)` → `42.0`  \n",
        "\n",
        "**`round()` function**:\n",
        "- Rounds to nearest integer  \n",
        "- `round(15.7)` → `16`  \n",
        "- `round(15.2)` → `15`  \n",
        "\n",
        "**Remember:** `int()` **truncates**, `round()` **rounds!**\n"
      ]
    },
    {
      "cell_type": "code",
      "execution_count": null,
      "id": "cc734c88-72ed-4839-b3b3-af01d6532e58",
      "metadata": {
        "id": "cc734c88-72ed-4839-b3b3-af01d6532e58",
        "outputId": "88575f05-8f17-4b94-c575-b51831398400"
      },
      "outputs": [
        {
          "name": "stdout",
          "output_type": "stream",
          "text": [
            "int(15.7) = 15\n",
            "float(42) = 42.0\n"
          ]
        }
      ],
      "source": [
        "# Converting between types\n",
        "decimal_number = 15.7\n",
        "whole_number = 42\n",
        "\n",
        "# Convert float to int (truncates!)\n",
        "converted_int = int(decimal_number)\n",
        "print(f\"int(15.7) = {converted_int}\")  # Removes decimal part\n",
        "\n",
        "# Convert int to float\n",
        "converted_float = float(whole_number)\n",
        "print(f\"float(42) = {converted_float}\")  # Adds .0"
      ]
    },
    {
      "cell_type": "markdown",
      "id": "f60cea5f-4083-4ae7-be44-2269cc239455",
      "metadata": {
        "id": "f60cea5f-4083-4ae7-be44-2269cc239455"
      },
      "source": [
        "## 6. Text and Strings\n",
        "\n",
        "**String Creation Rules**\n",
        "\n",
        "**Quote Types**:\n",
        "- Single quotes: `'Hello World'`\n",
        "- Double quotes: `\"Hello World\"`\n",
        "- Triple quotes: `\"\"\"Hello World\"\"\"` (for multi-line)\n",
        "\n",
        "**When to use each**:\n",
        "- **Single quotes:** General text, when text contains double quotes  \n",
        "- **Double quotes:** General text, when text contains apostrophes  \n",
        "- **Triple quotes:** Multi-line text, documentation  \n",
        "\n",
        "**Key Points**:\n",
        "- Opening and closing quotes must match  \n",
        "- Empty strings are valid: `\"\"` or `''`  \n",
        "- Strings are immutable (cannot be changed after creation)  \n"
      ]
    },
    {
      "cell_type": "code",
      "execution_count": null,
      "id": "e4af37fd-4149-46c2-aa03-8c40b6860297",
      "metadata": {
        "id": "e4af37fd-4149-46c2-aa03-8c40b6860297",
        "outputId": "0083b29a-2f32-46da-8694-f38366c580eb"
      },
      "outputs": [
        {
          "name": "stdout",
          "output_type": "stream",
          "text": [
            "Greeting: 'Hello' (<class 'str'>)\n",
            "Name: 'Python' (<class 'str'>)\n",
            "Message: 'Learning is fun!' (<class 'str'>)\n",
            "Number as text: '123' (<class 'str'>)\n"
          ]
        }
      ],
      "source": [
        "# String (text) data type\n",
        "greeting = \"Hello\"\n",
        "name = 'Python'\n",
        "message = \"Learning is fun!\"\n",
        "number_as_text = \"123\"   # Numbers in quotes become text!\n",
        "\n",
        "print(f\"Greeting: '{greeting}' ({type(greeting)})\")\n",
        "print(f\"Name: '{name}' ({type(name)})\")\n",
        "print(f\"Message: '{message}' ({type(message)})\")\n",
        "print(f\"Number as text: '{number_as_text}' ({type(number_as_text)})\")"
      ]
    },
    {
      "cell_type": "markdown",
      "id": "0468b3e1-72c3-47b1-bf23-96c354e47c2d",
      "metadata": {
        "id": "0468b3e1-72c3-47b1-bf23-96c354e47c2d"
      },
      "source": [
        "## 7. Boolean Type (True or False)\n",
        "\n",
        "**Boolean Basics**\n",
        "\n",
        "**The Two Values**:\n",
        "- `True` → represents yes, on, correct, success  \n",
        "- `False` → represents no, off, incorrect, failure  \n",
        "\n",
        "**Important Rules**:\n",
        "- Case-sensitive (must be capitalized exactly)  \n",
        "- Used for logical operations and decision-making  \n",
        "- Result from comparison operations (`5 > 3` returns `True`)  \n",
        "\n",
        "**Common Uses**:\n",
        "- Storing on/off, enabled/disabled states  \n",
        "- Controlling program flow (if statements, loops)  \n",
        "- Flags to track program state  \n"
      ]
    },
    {
      "cell_type": "code",
      "execution_count": null,
      "id": "7b167d45-8c99-4409-b0d0-7ad031e6b18b",
      "metadata": {
        "id": "7b167d45-8c99-4409-b0d0-7ad031e6b18b",
        "outputId": "41875272-19bb-485f-fc89-55963c233473"
      },
      "outputs": [
        {
          "name": "stdout",
          "output_type": "stream",
          "text": [
            "User logged in: True\n",
            "Has permission: False\n",
            "Game over: False\n"
          ]
        }
      ],
      "source": [
        "# Creating boolean variables\n",
        "is_logged_in = True\n",
        "has_permission = False\n",
        "game_over = False\n",
        "\n",
        "print(f\"User logged in: {is_logged_in}\")\n",
        "print(f\"Has permission: {has_permission}\")\n",
        "print(f\"Game over: {game_over}\")"
      ]
    },
    {
      "cell_type": "markdown",
      "id": "59f6ad4c-d5b5-4c0a-ae5c-e93372f8e9b8",
      "metadata": {
        "id": "59f6ad4c-d5b5-4c0a-ae5c-e93372f8e9b8"
      },
      "source": [
        "### Why Data Types Matter\n",
        "\n",
        "**Data Types**\n",
        "\n",
        "Think of data types like different toolboxes—each one is designed for specific tasks:\n",
        "\n",
        "- **Numbers 🔢**: For math, counting, and calculations  \n",
        "- **Text 📝**: For names, messages, and words  \n",
        "- **True/False ✅**: For decisions and yes/no questions  \n",
        "\n",
        "Using the right data type ensures your program works correctly and efficiently.\n",
        "\n",
        "Example: You can add numbers together, but you can't multiply text—Python's data types help prevent these errors!\n",
        "\n",
        "\n",
        "\n",
        "**Python's Core Data Types**\n",
        "\n",
        "**Numeric Types**:\n",
        "- `int` : Whole numbers → `25`, `-10`, `0`\n",
        "- `float` : Decimal numbers → `3.14`, `19.99`, `-2.5`\n",
        "\n",
        "**Text Type**:\n",
        "- `str` : Text/strings → `\"Hello\"`, `'Python'`, `\"123\"`\n",
        "\n",
        "**Boolean Type**:\n",
        "- `bool` : True/False values → `True`, `False`\n",
        "\n",
        "**Special Type**:\n",
        "- `NoneType` : Empty value → `None`\n",
        "\n",
        "**Python's Magic:** Automatically detects and assigns the right type!\n"
      ]
    },
    {
      "cell_type": "markdown",
      "id": "b0a6b27d-697c-4353-8d28-ac134341e337",
      "metadata": {
        "id": "b0a6b27d-697c-4353-8d28-ac134341e337"
      },
      "source": [
        "### Why should we care"
      ]
    },
    {
      "cell_type": "markdown",
      "id": "65476445-40ab-4ddf-bd5d-399b2efde7cb",
      "metadata": {
        "id": "65476445-40ab-4ddf-bd5d-399b2efde7cb"
      },
      "source": [
        "**Prevents Errors. Different types support different operations**"
      ]
    },
    {
      "cell_type": "code",
      "execution_count": null,
      "id": "7317576b-8445-4d80-a555-7d85bf2624c2",
      "metadata": {
        "id": "7317576b-8445-4d80-a555-7d85bf2624c2",
        "outputId": "3b3e8f26-40b7-40a5-b0de-bf6c90c5cb97"
      },
      "outputs": [
        {
          "name": "stdout",
          "output_type": "stream",
          "text": [
            "15\n",
            "Hello World\n"
          ]
        }
      ],
      "source": [
        "# Type-appropriate operations\n",
        "number = 10\n",
        "text = \"Hello\"\n",
        "\n",
        "# These work:\n",
        "print(number + 5)        # Math with numbers\n",
        "print(text + \" World\")   # Combining text\n",
        "\n",
        "# This would cause an error:\n",
        "# print(number + text)   # Can't add number and text!"
      ]
    },
    {
      "cell_type": "markdown",
      "id": "c115eb02-9a38-4aeb-bf4b-1e06f6c8578c",
      "metadata": {
        "id": "c115eb02-9a38-4aeb-bf4b-1e06f6c8578c"
      },
      "source": [
        "**Enables Correct Operations. Each type has specific capabilities:**"
      ]
    },
    {
      "cell_type": "code",
      "execution_count": null,
      "id": "183213fe-cdcf-421b-819c-396e5104ce0b",
      "metadata": {
        "id": "183213fe-cdcf-421b-819c-396e5104ce0b",
        "outputId": "f47c30da-53de-44c9-d1ac-543183423ef0"
      },
      "outputs": [
        {
          "name": "stdout",
          "output_type": "stream",
          "text": [
            "PYTHON\n",
            "Python\n",
            "50\n",
            "35\n",
            "Is adult? True\n"
          ]
        }
      ],
      "source": [
        "# Type-specific operations\n",
        "name = \"python\"\n",
        "age = 25\n",
        "\n",
        "# String operations\n",
        "print(name.upper())      # Make text uppercase\n",
        "print(name.capitalize()) # Capitalize first letter\n",
        "\n",
        "# Numeric operations\n",
        "print(age * 2)          # Double the number\n",
        "print(age + 10)         # Add to the number\n",
        "\n",
        "# Boolean operations\n",
        "is_adult = age >= 18\n",
        "print(f\"Is adult? {is_adult}\")"
      ]
    },
    {
      "cell_type": "markdown",
      "id": "45092773-4bcb-40a5-b354-311a40e38324",
      "metadata": {
        "id": "45092773-4bcb-40a5-b354-311a40e38324"
      },
      "source": [
        "**Make Code predictable. Knowing types helps you understand what your code will do.**"
      ]
    },
    {
      "cell_type": "code",
      "execution_count": null,
      "id": "8850709b-8ffc-42ae-af21-02ddef517cb7",
      "metadata": {
        "id": "8850709b-8ffc-42ae-af21-02ddef517cb7",
        "outputId": "74e0082f-8376-41b2-bcf6-c9959adcf0b9"
      },
      "outputs": [
        {
          "name": "stdout",
          "output_type": "stream",
          "text": [
            "String addition: 53\n",
            "Number addition: 8\n"
          ]
        }
      ],
      "source": [
        "# Predictable behavior based on types\n",
        "value1 = \"5\"\n",
        "value2 = \"3\"\n",
        "value3 = 5\n",
        "value4 = 3\n",
        "\n",
        "print(f\"String addition: {value1 + value2}\")    # \"53\" (concatenation)\n",
        "print(f\"Number addition: {value3 + value4}\")    # 8 (math)\n"
      ]
    },
    {
      "cell_type": "markdown",
      "id": "45da9ff1-368c-4173-9b42-a250a167a1a1",
      "metadata": {
        "id": "45da9ff1-368c-4173-9b42-a250a167a1a1"
      },
      "source": [
        "## 8. Python Operators\n",
        "\n",
        "**Python Operator Categories**\n",
        "\n",
        "**Core Operator Types**:\n",
        "- **Arithmetic**: Mathematical operations (`+`, `-`, `*`, `/`, `%`)  \n",
        "- **Comparison**: Value comparisons (`==`, `!=`, `<`, `>`, `<=`, `>=`)  \n",
        "- **Logical**: Boolean logic (`and`, `or`, `not`)  \n",
        "- **Assignment**: Variable assignment (`=`, `+=`, `-=`, `*=`, `/=`)  \n",
        "- **Membership**: Collection testing (`in`, `not in`)  \n",
        "- **Identity**: Object identity (`is`, `is not`)  \n",
        "\n",
        "\n",
        "**Design Philosophy:** Each operator type serves specific programming needs  \n",
        "**Versatility:** Many operators work with multiple data types  \n"
      ]
    },
    {
      "cell_type": "code",
      "execution_count": null,
      "id": "49f197f7-3553-4bc4-b2ef-b8892781aa88",
      "metadata": {
        "id": "49f197f7-3553-4bc4-b2ef-b8892781aa88",
        "outputId": "e98ed9c1-7fa9-4e82-e005-5ae8f7f70fc6"
      },
      "outputs": [
        {
          "name": "stdout",
          "output_type": "stream",
          "text": [
            "=== OPERATOR TYPES ===\n",
            "Total: $30\n",
            "Can vote: True\n",
            "Can drive: True\n"
          ]
        }
      ],
      "source": [
        "# Different types of operators\n",
        "print(\"=== OPERATOR TYPES ===\")\n",
        "\n",
        "# Arithmetic\n",
        "price = 25\n",
        "tax = 5\n",
        "total = price + tax\n",
        "print(f\"Total: ${total}\")\n",
        "\n",
        "# Comparison\n",
        "age = 18\n",
        "can_vote = age >= 18\n",
        "print(f\"Can vote: {can_vote}\")\n",
        "\n",
        "# Logical\n",
        "has_license = True\n",
        "is_adult = age >= 18\n",
        "can_drive = has_license and is_adult\n",
        "print(f\"Can drive: {can_drive}\")"
      ]
    },
    {
      "cell_type": "markdown",
      "id": "480b3de3-b8ba-4289-b794-a779a66d8d02",
      "metadata": {
        "id": "480b3de3-b8ba-4289-b794-a779a66d8d02"
      },
      "source": [
        "### Math Operations"
      ]
    },
    {
      "cell_type": "code",
      "execution_count": null,
      "id": "86a96f9d-bb02-4ad0-a3ed-ada81ce0850f",
      "metadata": {
        "id": "86a96f9d-bb02-4ad0-a3ed-ada81ce0850f",
        "outputId": "8626e563-b70d-44d9-ee71-454d1a244f95"
      },
      "outputs": [
        {
          "name": "stdout",
          "output_type": "stream",
          "text": [
            "=== NUMBER TYPES ===\n",
            "25 students in 5 groups = 5.0 per group\n",
            "Price: $19.99, Tax: $1.60, Total: $21.59\n"
          ]
        }
      ],
      "source": [
        "# Working with different numbers\n",
        "print(\"=== NUMBER TYPES ===\")\n",
        "\n",
        "# Integers (whole numbers)\n",
        "students = 25\n",
        "groups = 5\n",
        "per_group = students / groups\n",
        "print(f\"{students} students in {groups} groups = {per_group} per group\")\n",
        "\n",
        "# Decimals (floats)\n",
        "price = 19.99\n",
        "tax_rate = 0.08\n",
        "tax = price * tax_rate\n",
        "total = price + tax\n",
        "print(f\"Price: ${price}, Tax: ${tax:.2f}, Total: ${total:.2f}\")\n"
      ]
    },
    {
      "cell_type": "markdown",
      "id": "68097f1d-a71d-4c6c-bcc5-fc89e1f4d95e",
      "metadata": {
        "id": "68097f1d-a71d-4c6c-bcc5-fc89e1f4d95e"
      },
      "source": [
        "### Comparing"
      ]
    },
    {
      "cell_type": "code",
      "execution_count": null,
      "id": "03f90c4c-62a0-48bf-9897-9bb052e590b7",
      "metadata": {
        "id": "03f90c4c-62a0-48bf-9897-9bb052e590b7",
        "outputId": "613bf10f-29a4-481c-ad96-4e4916506479"
      },
      "outputs": [
        {
          "name": "stdout",
          "output_type": "stream",
          "text": [
            "=== BASIC COMPARISONS ===\n",
            "10 == 10: True\n",
            "10 > 5: True\n",
            "5 < 10: True\n",
            "10 != 5: True\n"
          ]
        }
      ],
      "source": [
        "# Basic comparison operations\n",
        "print(\"=== BASIC COMPARISONS ===\")\n",
        "\n",
        "a = 10\n",
        "b = 5\n",
        "c = 10\n",
        "\n",
        "print(f\"{a} == {c}: {a == c}\")    # True (equal to)\n",
        "print(f\"{a} > {b}: {a > b}\")      # True (greater than)\n",
        "print(f\"{b} < {a}: {b < a}\")      # True (less than)\n",
        "print(f\"{a} != {b}: {a != b}\")    # True (not equal to)"
      ]
    },
    {
      "cell_type": "markdown",
      "id": "a23b3f56-bed9-4374-bca6-217c34190527",
      "metadata": {
        "id": "a23b3f56-bed9-4374-bca6-217c34190527"
      },
      "source": [
        "### Logic Operations"
      ]
    },
    {
      "cell_type": "code",
      "execution_count": null,
      "id": "d18aae98-1642-4920-8da7-2fda40062aa8",
      "metadata": {
        "id": "d18aae98-1642-4920-8da7-2fda40062aa8",
        "outputId": "ebd568b5-b1f3-493b-94cc-0b40c95779e3"
      },
      "outputs": [
        {
          "name": "stdout",
          "output_type": "stream",
          "text": [
            "True\n"
          ]
        }
      ],
      "source": [
        "print(True and True)"
      ]
    },
    {
      "cell_type": "code",
      "execution_count": null,
      "id": "9b21e305-a5a7-4154-b50f-c8fc62eb8656",
      "metadata": {
        "id": "9b21e305-a5a7-4154-b50f-c8fc62eb8656",
        "outputId": "87724658-9e0d-4b7f-98f2-f719424401f5"
      },
      "outputs": [
        {
          "name": "stdout",
          "output_type": "stream",
          "text": [
            "False\n"
          ]
        }
      ],
      "source": [
        "print(True and False)"
      ]
    },
    {
      "cell_type": "code",
      "execution_count": null,
      "id": "38ce261d-9ee2-4e46-9726-500c93ab8275",
      "metadata": {
        "id": "38ce261d-9ee2-4e46-9726-500c93ab8275",
        "outputId": "b9f2f6ee-5d63-4226-bd9a-fc3a5c705049"
      },
      "outputs": [
        {
          "name": "stdout",
          "output_type": "stream",
          "text": [
            "True\n"
          ]
        }
      ],
      "source": [
        "print(True or True)"
      ]
    },
    {
      "cell_type": "code",
      "execution_count": null,
      "id": "33e8d0fd-6d88-4597-a7c6-5f08858f05dd",
      "metadata": {
        "id": "33e8d0fd-6d88-4597-a7c6-5f08858f05dd",
        "outputId": "4e5f34fb-0df7-45db-f020-3cfd9f48af04"
      },
      "outputs": [
        {
          "name": "stdout",
          "output_type": "stream",
          "text": [
            "True\n"
          ]
        }
      ],
      "source": [
        "print(True or False)"
      ]
    },
    {
      "cell_type": "code",
      "execution_count": null,
      "id": "8f9ac4cc-21f7-4abc-8d9b-06541413f7a2",
      "metadata": {
        "id": "8f9ac4cc-21f7-4abc-8d9b-06541413f7a2",
        "outputId": "b174bc40-75d0-43d1-bb3c-8ac5de777e7b"
      },
      "outputs": [
        {
          "name": "stdout",
          "output_type": "stream",
          "text": [
            "False\n"
          ]
        }
      ],
      "source": [
        "print(not True)"
      ]
    },
    {
      "cell_type": "code",
      "execution_count": null,
      "id": "b43bf47b-402d-4d59-8b08-472f293ba4f6",
      "metadata": {
        "id": "b43bf47b-402d-4d59-8b08-472f293ba4f6",
        "outputId": "2586cc05-878f-43b5-d86b-c61ce5ce33ac"
      },
      "outputs": [
        {
          "name": "stdout",
          "output_type": "stream",
          "text": [
            "True\n"
          ]
        }
      ],
      "source": [
        "print(not False)"
      ]
    },
    {
      "cell_type": "code",
      "execution_count": null,
      "id": "23742482-2294-41f4-b80a-8e9f08b4e977",
      "metadata": {
        "id": "23742482-2294-41f4-b80a-8e9f08b4e977",
        "outputId": "e46e5dd6-893a-4476-b526-1a60ef4371e9"
      },
      "outputs": [
        {
          "name": "stdout",
          "output_type": "stream",
          "text": [
            "Good day for picnic: True\n",
            "Can go out: True\n",
            "Not working: True\n"
          ]
        }
      ],
      "source": [
        "# Basic logical operations\n",
        "is_sunny = True\n",
        "is_warm = True\n",
        "is_weekend = False\n",
        "\n",
        "# Using logical operators\n",
        "good_day = is_sunny and is_warm         # True (both conditions met)\n",
        "can_go_out = is_sunny or is_weekend     # True (at least one condition met)\n",
        "not_working = not is_weekend            # True (opposite of False)\n",
        "\n",
        "print(f\"Good day for picnic: {good_day}\")\n",
        "print(f\"Can go out: {can_go_out}\")\n",
        "print(f\"Not working: {not_working}\")"
      ]
    },
    {
      "cell_type": "markdown",
      "id": "1c918a6d-d04f-40e5-82a0-1670313197db",
      "metadata": {
        "id": "1c918a6d-d04f-40e5-82a0-1670313197db"
      },
      "source": [
        "### Value assignment"
      ]
    },
    {
      "cell_type": "code",
      "execution_count": null,
      "id": "8aef9a6d-0032-43d7-8459-90f14fe9737b",
      "metadata": {
        "id": "8aef9a6d-0032-43d7-8459-90f14fe9737b",
        "outputId": "b80ac228-8e54-4ee3-c93a-f833fe074405"
      },
      "outputs": [
        {
          "name": "stdout",
          "output_type": "stream",
          "text": [
            "Name: Alice\n",
            "Age: 25\n",
            "Student: True\n",
            "x=0, y=0, z=0\n",
            "x=10, y=20\n",
            "After swapping: a=10, b=5\n"
          ]
        }
      ],
      "source": [
        "# Basic assignment examples\n",
        "name = \"Alice\"\n",
        "age = 25\n",
        "is_student = True\n",
        "\n",
        "print(f\"Name: {name}\")\n",
        "print(f\"Age: {age}\")\n",
        "print(f\"Student: {is_student}\")\n",
        "\n",
        "# Multiple assignment\n",
        "x = y = z = 0\n",
        "print(f\"x={x}, y={y}, z={z}\")                     # All are 0\n",
        "\n",
        "# Tuple unpacking assignment\n",
        "coordinates = (10, 20)\n",
        "x, y = coordinates\n",
        "print(f\"x={x}, y={y}\")                            # x=10, y=20\n",
        "\n",
        "# Variable swapping (Python specialty!)\n",
        "a, b = 5, 10\n",
        "a, b = b, a  # Swap values\n",
        "print(f\"After swapping: a={a}, b={b}\")            # a=10, b=5"
      ]
    },
    {
      "cell_type": "markdown",
      "id": "e3751a08-e996-48e8-9513-2f998d83706e",
      "metadata": {
        "id": "e3751a08-e996-48e8-9513-2f998d83706e"
      },
      "source": [
        "### Operator Precedence"
      ]
    },
    {
      "cell_type": "code",
      "execution_count": null,
      "id": "e67a6f86-8025-4e96-98c8-61c34d0e33d3",
      "metadata": {
        "id": "e67a6f86-8025-4e96-98c8-61c34d0e33d3",
        "outputId": "07665d42-237a-4888-d8f6-451f89738f92"
      },
      "outputs": [
        {
          "name": "stdout",
          "output_type": "stream",
          "text": [
            "=== PARENTHESES FOR CLARITY ===\n",
            "5 + 3 * 2 > 10 or 4 < 6 = True\n",
            "((5 + 3) * 2) > 10 or (4 < 6) = True\n",
            "Loan eligible: True\n"
          ]
        }
      ],
      "source": [
        "# Using parentheses for clarity\n",
        "print(\"=== PARENTHESES FOR CLARITY ===\")\n",
        "\n",
        "# Without parentheses - relies on precedence\n",
        "result1 = 5 + 3 * 2 > 10 or 4 < 6\n",
        "print(f\"5 + 3 * 2 > 10 or 4 < 6 = {result1}\")      # True\n",
        "\n",
        "# With parentheses - makes intent clear\n",
        "result2 = ((5 + 3) * 2) > 10 or (4 < 6)\n",
        "print(f\"((5 + 3) * 2) > 10 or (4 < 6) = {result2}\") # True (different calculation!)\n",
        "\n",
        "# Complex expression made clear\n",
        "age = 25\n",
        "income = 50000\n",
        "has_job = True\n",
        "credit_score = 750\n",
        "\n",
        "# Without parentheses (works but unclear)\n",
        "eligible1 = age >= 18 and income > 30000 or has_job and credit_score > 700\n",
        "\n",
        "# With parentheses (clear intent)\n",
        "eligible2 = (age >= 18 and income > 30000) or (has_job and credit_score > 700)\n",
        "\n",
        "print(f\"Loan eligible: {eligible2}\")                # True"
      ]
    },
    {
      "cell_type": "markdown",
      "id": "5c1ccafe-59f4-4e99-9d53-a00575430295",
      "metadata": {
        "id": "5c1ccafe-59f4-4e99-9d53-a00575430295"
      },
      "source": [
        "## Exercise"
      ]
    },
    {
      "cell_type": "markdown",
      "id": "d1bf6490-a274-4852-8a17-7f2b6dddc568",
      "metadata": {
        "id": "d1bf6490-a274-4852-8a17-7f2b6dddc568"
      },
      "source": [
        "## Exercise 2.1"
      ]
    },
    {
      "cell_type": "code",
      "execution_count": null,
      "id": "979afb3c-6459-43ec-9ce3-10344e75e33e",
      "metadata": {
        "id": "979afb3c-6459-43ec-9ce3-10344e75e33e"
      },
      "outputs": [],
      "source": [
        "# Variables can change\n",
        "age = 26\n",
        "print(f\"Next year I'll be {age}\")\n",
        "\n",
        "# Variables can be used in calculations\n",
        "\n",
        "birth_year = # TODO: Your code here\n",
        "print(f\"I was born in {birth_year}\")"
      ]
    },
    {
      "cell_type": "markdown",
      "id": "437f4c5a-2860-426f-a384-06e9f7eac4a0",
      "metadata": {
        "id": "437f4c5a-2860-426f-a384-06e9f7eac4a0"
      },
      "source": [
        "## Exercise 2.2"
      ]
    },
    {
      "cell_type": "code",
      "execution_count": null,
      "id": "bf77c711-c058-4184-a5d1-d887fded5668",
      "metadata": {
        "id": "bf77c711-c058-4184-a5d1-d887fded5668",
        "outputId": "729c6ca9-8a7f-498f-cecf-cf50a5ca870e"
      },
      "outputs": [
        {
          "name": "stdout",
          "output_type": "stream",
          "text": [
            "Today's date is 1/1/1\n",
            "I'm in the 2, 2.\n"
          ]
        }
      ],
      "source": [
        "year = # TODO: Your code here\n",
        "month = # TODO: Your code here\n",
        "date = # TODO: Your code here\n",
        "building_number = # TODO: Your code here\n",
        "classroom_number = # TODO: Your code here\n",
        "\n",
        "print(f\"Today's date is {year}/{month}/{date}\")\n",
        "print(f\"I'm in the {building_number}, {classroom_number}.\")"
      ]
    },
    {
      "cell_type": "markdown",
      "id": "2052438c-b90e-426d-8d57-17a4d4a359b6",
      "metadata": {
        "id": "2052438c-b90e-426d-8d57-17a4d4a359b6"
      },
      "source": [
        "## Exercise 2.3"
      ]
    },
    {
      "cell_type": "code",
      "execution_count": null,
      "id": "4b912ba5-d819-4d27-b14a-c821f29b34cb",
      "metadata": {
        "id": "4b912ba5-d819-4d27-b14a-c821f29b34cb"
      },
      "outputs": [],
      "source": [
        "name = \"Elon Mask\"\n",
        "age = 54\n",
        "date_of_birth = \"1971.06.28\"\n",
        "is_he_rich = True\n",
        "\n",
        "# Check types of above variables\n",
        "# TODO: Your code here"
      ]
    },
    {
      "cell_type": "markdown",
      "id": "b14b16b6-1bf3-45f7-9e75-85e9a05bb25c",
      "metadata": {
        "id": "b14b16b6-1bf3-45f7-9e75-85e9a05bb25c"
      },
      "source": [
        "## Exercise 2.4"
      ]
    },
    {
      "cell_type": "code",
      "execution_count": null,
      "id": "587f67e5-c325-47f3-adbe-5695d151b5bf",
      "metadata": {
        "id": "587f67e5-c325-47f3-adbe-5695d151b5bf"
      },
      "outputs": [],
      "source": [
        "# Number Practice - Keep it simple!\n",
        "\n",
        "# Calculate a restaurant bill\n",
        "meal_cost = 25.50\n",
        "tax_rate = 0.08\n",
        "\n",
        "# Calculate tax and tip\n",
        "tax = # TODO: Your code here (meal_cost * tax_rate)\n",
        "total = # TODO: Your code here (meal_cost + tax)\n",
        "\n",
        "# Round the total to 2 decimal places\n",
        "final_total = # TODO: Your code here (use round())\n",
        "\n",
        "print(f\"Meal: ${meal_cost}\")\n",
        "print(f\"Tax: ${tax:.2f}\")\n",
        "print(f\"Total: ${final_total}\")"
      ]
    },
    {
      "cell_type": "markdown",
      "id": "ff857ecd-32b6-4380-be2e-b556974ce17d",
      "metadata": {
        "id": "ff857ecd-32b6-4380-be2e-b556974ce17d"
      },
      "source": [
        "## Exercise 2.5"
      ]
    },
    {
      "cell_type": "code",
      "execution_count": null,
      "id": "7b06f4b7-bd63-48ee-b639-d788c9d23799",
      "metadata": {
        "id": "7b06f4b7-bd63-48ee-b639-d788c9d23799"
      },
      "outputs": [],
      "source": [
        "# String Practice - Keep it simple!\n",
        "\n",
        "first_name = \"Zebang\"\n",
        "last_name = \"Li\"\n",
        "\n",
        "my_name = #TODO: Your code here (first_name + last_name)\n",
        "\n",
        "# Print results\n",
        "print(f\"My name is {my_name}\")"
      ]
    },
    {
      "cell_type": "markdown",
      "id": "66209ea0-d67f-4562-bf62-fb8ea8c99925",
      "metadata": {
        "id": "66209ea0-d67f-4562-bf62-fb8ea8c99925"
      },
      "source": [
        "## Exercise 2.6"
      ]
    },
    {
      "cell_type": "code",
      "execution_count": null,
      "id": "231d8dbf-8dec-4476-93ef-3fa02335a872",
      "metadata": {
        "id": "231d8dbf-8dec-4476-93ef-3fa02335a872"
      },
      "outputs": [],
      "source": [
        "# Boolean (True/False) data type\n",
        "\n",
        "is_sunny = #TODO: Your code here\n",
        "is_raining = #TODO: Your code here\n",
        "is_weekend = #TODO: Your code here\n",
        "\n",
        "print(f\"Sunny: {is_sunny} ({type(is_sunny)})\")\n",
        "print(f\"Raining: {is_raining} ({type(is_raining)})\")\n",
        "print(f\"Weekend: {is_weekend} ({type(is_weekend)})\")\n",
        "\n",
        "# Booleans are useful for decisions\n",
        "if is_weekend and is_sunny:\n",
        "    print(\"Perfect day for a picnic!\")\n"
      ]
    },
    {
      "cell_type": "markdown",
      "id": "44f07d5d-7883-428d-b27f-fd1cf8907833",
      "metadata": {
        "id": "44f07d5d-7883-428d-b27f-fd1cf8907833"
      },
      "source": [
        "## Exercise 2.7"
      ]
    },
    {
      "cell_type": "code",
      "execution_count": null,
      "id": "057671de-85e8-4967-b789-ae5e418720e8",
      "metadata": {
        "id": "057671de-85e8-4967-b789-ae5e418720e8"
      },
      "outputs": [],
      "source": [
        "# Type Practice - Simple and quick!\n",
        "\n",
        "# Create different types of variables\n",
        "int_number = #TODO: Your code here      (whole number (int))\n",
        "float_number = #TODO: Your code here    (number with decimal (float))\n",
        "test_string = #TODO: Your code here     (text (string))\n",
        "my_boolean = #TODO: Your code here      (True or False (boolean))\n",
        "\n",
        "# Check what types Python assigned\n",
        "print(f\"Number: {int_number} is {type(int_number)}\")\n",
        "print(f\"Decimal: {float_number} is {type(float_number)}\")\n",
        "print(f\"Text: {test_string} is {type(test_string)}\")\n",
        "print(f\"Boolean: {my_boolean} is {type(my_boolean)}\")"
      ]
    },
    {
      "cell_type": "markdown",
      "id": "d2f0656e-7bfb-42ad-93b2-80fc3a28136a",
      "metadata": {
        "id": "d2f0656e-7bfb-42ad-93b2-80fc3a28136a"
      },
      "source": [
        "## Exercise 2.8"
      ]
    },
    {
      "cell_type": "code",
      "execution_count": null,
      "id": "6ed39e9e-f1a3-4b15-801b-ebcf54e01c42",
      "metadata": {
        "id": "6ed39e9e-f1a3-4b15-801b-ebcf54e01c42"
      },
      "outputs": [],
      "source": [
        "# Tricky case - what type is this?\n",
        "mystery = \"123\""
      ]
    },
    {
      "cell_type": "markdown",
      "id": "7c24d982-8cc3-4647-8801-d6ff466a9d14",
      "metadata": {
        "id": "7c24d982-8cc3-4647-8801-d6ff466a9d14"
      },
      "source": [
        "## Exercise 2.9"
      ]
    },
    {
      "cell_type": "code",
      "execution_count": null,
      "id": "4c5e6834-9d76-4bed-a931-9206d51aaf05",
      "metadata": {
        "id": "4c5e6834-9d76-4bed-a931-9206d51aaf05"
      },
      "outputs": [],
      "source": [
        "# Practical precedence examples\n",
        "print(\"=== PRACTICAL EXAMPLES ===\")\n",
        "\n",
        "# Grade calculation with conditions\n",
        "math_score = 95\n",
        "english_score = 92\n",
        "chinese_score = 72\n",
        "\n",
        "# A: if score > 90\n",
        "# B: if 80 < score < 90\n",
        "# C: if 60 < score < 80\n",
        "# Fail: if score < 60\n",
        "\n",
        "# is your math A?\n",
        "\n",
        "# is your english A?\n",
        "\n",
        "# is your chinese A?\n",
        "\n",
        "# You get overall A if you get at least two subjects with A\n"
      ]
    }
  ],
  "metadata": {
    "kernelspec": {
      "display_name": "Python 3 (ipykernel)",
      "language": "python",
      "name": "python3"
    },
    "language_info": {
      "codemirror_mode": {
        "name": "ipython",
        "version": 3
      },
      "file_extension": ".py",
      "mimetype": "text/x-python",
      "name": "python",
      "nbconvert_exporter": "python",
      "pygments_lexer": "ipython3",
      "version": "3.13.7"
    },
    "colab": {
      "provenance": []
    }
  },
  "nbformat": 4,
  "nbformat_minor": 5
}