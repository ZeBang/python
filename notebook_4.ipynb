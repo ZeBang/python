{
  "cells": [
    {
      "cell_type": "markdown",
      "source": [
        "[![Open in Colab](https://colab.research.google.com/assets/colab-badge.svg)](https://colab.research.google.com/github/ZeBang/python/blob/main/notebook_4.ipynb)"
      ],
      "metadata": {
        "id": "LNZ2auIjJDCd"
      },
      "id": "LNZ2auIjJDCd"
    },
    {
      "cell_type": "markdown",
      "id": "496e769b",
      "metadata": {
        "id": "496e769b"
      },
      "source": [
        "\n",
        "# Decision Making - Session 4\n",
        "\n",
        "## If Statements\n",
        "\n",
        "If statements are the foundation of decision making in Python. They allow your programs to execute different code based on whether conditions are true or false. Think of if statements as asking questions in your code - \"if this condition is true, then do this action.\"\n",
        "\n",
        "Every if statement evaluates a condition and executes a block of code only when that condition is true. This simple concept enables your programs to respond intelligently to different situations and data."
      ]
    },
    {
      "cell_type": "code",
      "execution_count": 1,
      "id": "c9aae8c1",
      "metadata": {
        "id": "c9aae8c1",
        "outputId": "e1b74705-4eeb-42d3-d31c-57420a3b9672",
        "colab": {
          "base_uri": "https://localhost:8080/"
        }
      },
      "outputs": [
        {
          "output_type": "stream",
          "name": "stdout",
          "text": [
            "You are an adult!\n",
            "You can vote!\n",
            "This line always runs\n"
          ]
        }
      ],
      "source": [
        "# Basic if statement\n",
        "age = 18\n",
        "\n",
        "if age >= 18:\n",
        "    print(\"You are an adult!\")\n",
        "    print(\"You can vote!\")\n",
        "\n",
        "print(\"This line always runs\")"
      ]
    },
    {
      "cell_type": "markdown",
      "id": "1c7d430a",
      "metadata": {
        "id": "1c7d430a"
      },
      "source": [
        "### Basic If Statement Syntax\n",
        "\n",
        "The if statement follows a simple pattern: the keyword `if`, followed by a condition, then a colon, and finally an indented block of code. Python uses indentation to determine which code belongs to the if statement.\n",
        "\n",
        "**If Statement Syntax Rules**\n",
        "\n",
        "Required Components:\n",
        "\n",
        "if keyword to start the statement\n",
        "- Boolean condition that evaluates to True/False\n",
        "- Colon `:` after the condition\n",
        "- Indented code block (usually 4 spaces)\n",
        "\n",
        "Execution Logic:\n",
        "\n",
        "- Condition `True`: Execute indented code block\n",
        "- Condition `False`: Skip indented code block\n",
        "- Continue: with unindented code after the block\n",
        "- Indentation Importance: Python uses whitespace to define code blocks\n",
        "\n",
        "Best Practice: Use 4 spaces for indentation consistency"
      ]
    },
    {
      "cell_type": "markdown",
      "id": "80fc7ab7",
      "metadata": {
        "id": "80fc7ab7"
      },
      "source": [
        "The condition must be an expression that evaluates to True or False using comparison operators or truthiness rules. When the condition is true, Python executes all the indented code under the if statement. When false, Python skips that code entirely."
      ]
    },
    {
      "cell_type": "code",
      "execution_count": 2,
      "id": "1aef1847",
      "metadata": {
        "id": "1aef1847",
        "outputId": "1d44b523-5681-40e9-86e8-f9886554e29b",
        "colab": {
          "base_uri": "https://localhost:8080/"
        }
      },
      "outputs": [
        {
          "output_type": "stream",
          "name": "stdout",
          "text": [
            "It's warm outside!\n",
            "The sun is shining!\n",
            "Don't forget your umbrella if it rains!\n"
          ]
        }
      ],
      "source": [
        "# If statement with different conditions\n",
        "temperature = 75\n",
        "is_sunny = True\n",
        "has_umbrella = False\n",
        "\n",
        "if temperature > 70:\n",
        "    print(\"It's warm outside!\")\n",
        "\n",
        "if is_sunny:\n",
        "    print(\"The sun is shining!\")\n",
        "\n",
        "if not has_umbrella:\n",
        "    print(\"Don't forget your umbrella if it rains!\")\n"
      ]
    },
    {
      "cell_type": "markdown",
      "id": "d555cacc",
      "metadata": {
        "id": "d555cacc"
      },
      "source": [
        "### if-else-statements\n",
        "\n",
        "The if-else statement provides an alternative path when the condition is false. This creates a clear choice between two different actions, ensuring your program always does something meaningful.\n",
        "\n",
        "\n",
        "**If-Else Statement Benefits**\n",
        "\n",
        "Binary Decision Making:\n",
        "\n",
        "- Handles both True and False conditions\n",
        "- Ensures program always takes an action\n",
        "- Provides clear alternative paths\n",
        "- Eliminates unhandled condition scenarios\n",
        "\n",
        "Structure:\n",
        "\n",
        "- `if` block: Executes when condition is True\n",
        "- `else` block: Executes when condition is False\n",
        "- Exactly one block always executes\n",
        "- No condition needed for else clause\n",
        "\n",
        "Use Cases: Pass/fail scenarios, on/off states, yes/no decisions\n",
        "\n",
        "Guarantee: One of the two code paths will always execute\n",
        "\n",
        "The else clause executes only when the if condition is false. This pattern is perfect for binary decisions where you need to handle both possibilities."
      ]
    },
    {
      "cell_type": "code",
      "execution_count": 5,
      "id": "63dedd62",
      "metadata": {
        "id": "63dedd62",
        "outputId": "d06cd471-cf23-4471-9947-c9eb3d7c730a",
        "colab": {
          "base_uri": "https://localhost:8080/"
        }
      },
      "outputs": [
        {
          "output_type": "stream",
          "name": "stdout",
          "text": [
            "Congratulations! You passed!\n",
            "Your result: Pass\n"
          ]
        }
      ],
      "source": [
        "# If-else statement\n",
        "score = 75\n",
        "\n",
        "if score >= 60:\n",
        "    print(\"Congratulations! You passed!\")\n",
        "    result = \"Pass\"\n",
        "else:\n",
        "    print(\"Sorry, you need to study more.\")\n",
        "    result = \"Fail\"\n",
        "\n",
        "print(f\"Your result: {result}\")"
      ]
    },
    {
      "cell_type": "code",
      "source": [
        "# Another example\n",
        "weather = \"rainy\"\n",
        "if weather == \"sunny\":\n",
        "    print(\"Let's go to the beach!\")\n",
        "else:\n",
        "    print(\"Let's stay inside and read.\")"
      ],
      "metadata": {
        "colab": {
          "base_uri": "https://localhost:8080/"
        },
        "id": "vcZq6XF9JDno",
        "outputId": "a39f22c5-ae38-4815-f088-7747b0b8c425"
      },
      "id": "vcZq6XF9JDno",
      "execution_count": 6,
      "outputs": [
        {
          "output_type": "stream",
          "name": "stdout",
          "text": [
            "Let's stay inside and read.\n"
          ]
        }
      ]
    },
    {
      "cell_type": "markdown",
      "id": "b077a162",
      "metadata": {
        "id": "b077a162"
      },
      "source": [
        "### Nested If Statements\n",
        "\n",
        "You can place if statements inside other if statements to create more complex decision logic. This is called nesting and allows you to check multiple conditions in sequence.\n",
        "\n",
        "**Nested If Statement Guidelines**\n",
        "\n",
        "Nesting Characteristics:\n",
        "\n",
        "- If statements inside other if statements\n",
        "- Each level adds additional indentation\n",
        "- Inner conditions only checked if outer condition is True\n",
        "- Can create complex decision trees\n",
        "\n",
        "Best Practices:\n",
        "\n",
        "- Limit nesting depth (2-3 levels maximum)\n",
        "- Consider elif statements for multiple conditions\n",
        "- Use descriptive variable names for clarity\n",
        "- Break complex logic into functions when needed\n",
        "\n",
        "Readability: Deep nesting reduces code clarity\n",
        "\n",
        "Alternative: Consider elif chains or separate functions\n",
        "\n",
        "Nested if statements are useful when you need to check additional conditions only after the first condition is true. Each level of nesting adds another layer of decision making."
      ]
    },
    {
      "cell_type": "code",
      "execution_count": 7,
      "id": "7bf8b882",
      "metadata": {
        "id": "7bf8b882",
        "outputId": "09a26b60-b4f5-4f5e-b35d-520715a55eba",
        "colab": {
          "base_uri": "https://localhost:8080/"
        }
      },
      "outputs": [
        {
          "output_type": "stream",
          "name": "stdout",
          "text": [
            "It's a sunny day!\n",
            "Perfect weather for the beach!\n"
          ]
        }
      ],
      "source": [
        "# Nested if statements\n",
        "weather = \"sunny\"\n",
        "temperature = 80\n",
        "\n",
        "if weather == \"sunny\":\n",
        "    print(\"It's a sunny day!\")\n",
        "\n",
        "    if temperature > 75:\n",
        "        print(\"Perfect weather for the beach!\")\n",
        "    else:\n",
        "        print(\"Nice weather for a walk!\")\n",
        "else:\n",
        "    print(\"Not sunny today.\")\n",
        "\n",
        "    if temperature < 60:\n",
        "        print(\"It's quite cold too!\")"
      ]
    },
    {
      "cell_type": "markdown",
      "id": "1a4116af",
      "metadata": {
        "id": "1a4116af"
      },
      "source": [
        "### Common If Statement Patterns\n",
        "\n",
        "There are several common patterns you'll use frequently when working with if statements. Learning these patterns helps you write more effective conditional code.\n",
        "\n",
        "\n",
        "| Pattern             | Example                          | Use Case                  |\n",
        "|---------------------|----------------------------------|---------------------------|\n",
        "| Validation          | `if user_input:`                 | Check if input exists     |\n",
        "| Range Check         | `if 0 <= score <= 100:`          | Validate ranges           |\n",
        "| Type Check          | `if isinstance(x, int):`         | Verify data types         |\n",
        "| Membership          | `if \"a\" in word:`                | Check if item exists      |\n",
        "| Multiple Conditions | `if age >= 18 and has_id:`       | Complex validation        |\n",
        "\n"
      ]
    },
    {
      "cell_type": "code",
      "execution_count": 14,
      "id": "b1f7ef0b",
      "metadata": {
        "id": "b1f7ef0b",
        "outputId": "275e0333-cc98-46d3-9abd-4f74ce355af3",
        "colab": {
          "base_uri": "https://localhost:8080/"
        }
      },
      "outputs": [
        {
          "output_type": "stream",
          "name": "stdout",
          "text": [
            "=== COMMON PATTERNS ===\n",
            "Welcome, Alice!\n"
          ]
        }
      ],
      "source": [
        "# Common if statement patterns\n",
        "print(\"=== COMMON PATTERNS ===\")\n",
        "\n",
        "# Input validation\n",
        "user_name = input(\"Enter your name: \") if False else \"Alice\"  # Simulated input\n",
        "if user_name:\n",
        "    print(f\"Welcome, {user_name}!\")\n",
        "else:\n",
        "    print(\"Name is required\")"
      ]
    },
    {
      "cell_type": "code",
      "source": [
        "# Range checking\n",
        "age = 25\n",
        "if 18 <= age <= 65:\n",
        "    print(\"Working age\")"
      ],
      "metadata": {
        "colab": {
          "base_uri": "https://localhost:8080/"
        },
        "id": "4sf-3YgfJqHx",
        "outputId": "e4b5e2c1-a90c-4ef4-c3fd-b545e54639a0"
      },
      "id": "4sf-3YgfJqHx",
      "execution_count": 10,
      "outputs": [
        {
          "output_type": "stream",
          "name": "stdout",
          "text": [
            "Working age\n"
          ]
        }
      ]
    },
    {
      "cell_type": "code",
      "source": [
        "# Membership testing\n",
        "vowels = \"aeiou\"\n",
        "letter = \"a\"\n",
        "if letter in vowels:\n",
        "    print(f\"'{letter}' is a vowel\")"
      ],
      "metadata": {
        "colab": {
          "base_uri": "https://localhost:8080/"
        },
        "id": "XWImfV3uJsif",
        "outputId": "2bbeceae-9cef-4369-ac2c-56d001d085f3"
      },
      "id": "XWImfV3uJsif",
      "execution_count": 11,
      "outputs": [
        {
          "output_type": "stream",
          "name": "stdout",
          "text": [
            "'a' is a vowel\n"
          ]
        }
      ]
    },
    {
      "cell_type": "code",
      "source": [
        "# Multiple conditions with logical operators\n",
        "temperature = 72\n",
        "humidity = 40\n",
        "if temperature >= 70 and humidity <= 50:\n",
        "    print(\"Perfect weather conditions!\")"
      ],
      "metadata": {
        "colab": {
          "base_uri": "https://localhost:8080/"
        },
        "id": "5nrppE__Jt6v",
        "outputId": "74885916-7344-4254-e6b1-d2405cb1c92d"
      },
      "id": "5nrppE__Jt6v",
      "execution_count": 12,
      "outputs": [
        {
          "output_type": "stream",
          "name": "stdout",
          "text": [
            "Perfect weather conditions!\n"
          ]
        }
      ]
    },
    {
      "cell_type": "markdown",
      "id": "ade94452",
      "metadata": {
        "id": "ade94452"
      },
      "source": [
        "### Multiple Conditions\n",
        "\n",
        "When your programs need to handle more than two possibilities, multiple conditions become essential. Python's `elif` statement allows you to check several conditions in sequence, creating sophisticated decision trees that can handle complex scenarios with many different outcomes.\n",
        "\n",
        "Multiple conditions help you avoid deeply nested if statements and create cleaner, more readable code. Instead of checking conditions one inside another, you can list them in a clear, logical sequence."
      ]
    },
    {
      "cell_type": "code",
      "execution_count": 16,
      "id": "8b182f81",
      "metadata": {
        "id": "8b182f81",
        "outputId": "67a05ef3-0790-451b-969a-c510405f900b",
        "colab": {
          "base_uri": "https://localhost:8080/"
        }
      },
      "outputs": [
        {
          "output_type": "stream",
          "name": "stdout",
          "text": [
            "Good job!\n",
            "Your grade: B\n"
          ]
        }
      ],
      "source": [
        "# Multiple conditions with elif\n",
        "grade = 85\n",
        "\n",
        "if grade >= 90:\n",
        "    letter = \"A\"\n",
        "    print(\"Excellent work!\")\n",
        "elif grade >= 80:\n",
        "    letter = \"B\"\n",
        "    print(\"Good job!\")\n",
        "elif grade >= 70:\n",
        "    letter = \"C\"\n",
        "    print(\"You passed!\")\n",
        "elif grade >= 60:\n",
        "    letter = \"D\"\n",
        "    print(\"You need improvement.\")\n",
        "else:\n",
        "    letter = \"F\"\n",
        "    print(\"You failed.\")\n",
        "\n",
        "print(f\"Your grade: {letter}\")"
      ]
    },
    {
      "cell_type": "markdown",
      "id": "e9595b16",
      "metadata": {
        "id": "e9595b16"
      },
      "source": [
        "This sequential evaluation is important - once Python finds a true condition, it executes that block and skips all remaining elif and else clauses. This makes elif statements efficient and predictable."
      ]
    },
    {
      "cell_type": "code",
      "execution_count": 17,
      "id": "4fd967d9",
      "metadata": {
        "id": "4fd967d9",
        "outputId": "6bd13eb2-13e3-4c83-b9da-6e4b7cbb5875",
        "colab": {
          "base_uri": "https://localhost:8080/"
        }
      },
      "outputs": [
        {
          "output_type": "stream",
          "name": "stdout",
          "text": [
            "Good afternoon! It's 14:00\n"
          ]
        }
      ],
      "source": [
        "# Elif statement evaluation order\n",
        "time_of_day = 14  # 24-hour format\n",
        "\n",
        "if time_of_day < 6:\n",
        "    greeting = \"Good night\"\n",
        "elif time_of_day < 12:\n",
        "    greeting = \"Good morning\"\n",
        "elif time_of_day < 18:\n",
        "    greeting = \"Good afternoon\"\n",
        "else:\n",
        "    greeting = \"Good evening\"\n",
        "\n",
        "print(f\"{greeting}! It's {time_of_day}:00\")\n"
      ]
    },
    {
      "cell_type": "markdown",
      "id": "c022d951",
      "metadata": {
        "id": "c022d951"
      },
      "source": [
        "### Complex Logical Conditions\n",
        "\n",
        "You can combine multiple comparisons in a single condition using logical operators. This allows you to create sophisticated conditions that check several criteria simultaneously.\n",
        "\n",
        "**Complex Condition Guidelines**\n",
        "\n",
        "Logical Operator Combinations:\n",
        "\n",
        "- `and`: All conditions must be true\n",
        "- `or`: At least one condition must be true\n",
        "- `not`: Negates the condition\n",
        "- Parentheses: Control evaluation order\n",
        "\n",
        "Best Practices:\n",
        "\n",
        "- Use parentheses for clarity in complex expressions\n",
        "- Break very complex conditions into variables\n",
        "- Keep individual comparisons simple\n",
        "- Consider readability over brevity\n",
        "\n",
        "Maintainability: Clear conditions reduce debugging time\n",
        "\n",
        "Performance: Short-circuit evaluation improves efficiency\n",
        "\n",
        "\n",
        "Complex conditions help you express nuanced decision logic without creating deeply nested if statements. Use parentheses to make complex conditions clear and readable."
      ]
    },
    {
      "cell_type": "code",
      "execution_count": 18,
      "id": "6795beb7",
      "metadata": {
        "id": "6795beb7",
        "outputId": "67b47648-652d-4517-f851-4f4e31fbf4c4",
        "colab": {
          "base_uri": "https://localhost:8080/"
        }
      },
      "outputs": [
        {
          "output_type": "stream",
          "name": "stdout",
          "text": [
            "You can drive, but you need insurance and a car.\n"
          ]
        }
      ],
      "source": [
        "# Complex logical conditions\n",
        "age = 25\n",
        "has_license = True\n",
        "has_car = True\n",
        "has_insurance = False\n",
        "\n",
        "if age >= 18 and has_license and has_car and has_insurance:\n",
        "    print(\"You can drive legally!\")\n",
        "elif age >= 18 and has_license:\n",
        "    print(\"You can drive, but you need insurance and a car.\")\n",
        "elif age >= 18:\n",
        "    print(\"You're old enough, but you need a license.\")\n",
        "else:\n",
        "    print(\"You're too young to drive.\")"
      ]
    },
    {
      "cell_type": "code",
      "execution_count": 19,
      "id": "d2be33a4",
      "metadata": {
        "id": "d2be33a4",
        "colab": {
          "base_uri": "https://localhost:8080/"
        },
        "outputId": "23375e72-6bb5-44cc-b6b8-7fe52052dea4"
      },
      "outputs": [
        {
          "output_type": "stream",
          "name": "stdout",
          "text": [
            "Perfect weather conditions!\n"
          ]
        }
      ],
      "source": [
        "# Complex condition with parentheses\n",
        "temperature = 75\n",
        "humidity = 45\n",
        "if (temperature >= 70 and temperature <= 80) and (humidity >= 30 and humidity <= 50):\n",
        "    print(\"Perfect weather conditions!\")"
      ]
    },
    {
      "cell_type": "markdown",
      "source": [
        "### Repetition and Loops\n",
        "\n",
        "Repetition is one of the most powerful concepts in programming. Loops allow your programs to execute the same code multiple times without writing it repeatedly. Whether you're processing lists of data, asking for user input until you get a valid response, or performing calculations on large datasets, loops make your code efficient and maintainable.\n",
        "\n",
        "Without loops, you would need to write the same code over and over again for each repetition. Loops eliminate this redundancy and make your programs capable of handling tasks of any size, from processing a few items to millions of records."
      ],
      "metadata": {
        "id": "t_hDDSxgfOOS"
      },
      "id": "t_hDDSxgfOOS"
    },
    {
      "cell_type": "code",
      "execution_count": null,
      "id": "247cc8d1",
      "metadata": {
        "colab": {
          "base_uri": "https://localhost:8080/"
        },
        "id": "247cc8d1",
        "outputId": "cff4c85d-c1b8-4364-db95-7b6cfba735a3"
      },
      "outputs": [
        {
          "output_type": "stream",
          "name": "stdout",
          "text": [
            "Count: 1\n",
            "Count: 2\n",
            "Count: 3\n",
            "Count: 4\n",
            "Count: 5\n",
            "Count: 1\n",
            "Count: 2\n",
            "Count: 3\n",
            "Count: 4\n",
            "Count: 5\n"
          ]
        }
      ],
      "source": [
        "# Without loops - repetitive and limited\n",
        "print(\"Count: 1\")\n",
        "print(\"Count: 2\")\n",
        "print(\"Count: 3\")\n",
        "print(\"Count: 4\")\n",
        "print(\"Count: 5\")\n",
        "\n",
        "# With loops - efficient and flexible\n",
        "for i in range(1, 6):\n",
        "    print(f\"Count: {i}\")\n"
      ]
    },
    {
      "cell_type": "markdown",
      "source": [
        "### Types of Loops in Python\n",
        "\n",
        "Python provides several types of loops, each designed for specific scenarios and use cases.\n",
        "\n",
        "**Python Loop Types and Applications**\n",
        "\n",
        "**Loop Categories:**\n",
        "\n",
        "- While Loops: Condition-based repetition until criteria met\n",
        "- For Loops: Sequence iteration through collections\n",
        "- Nested Loops: Multi-dimensional data processing\n",
        "- Loop Control: Fine-tuned execution flow management\n",
        "\n",
        "**Selection Criteria:**\n",
        "\n",
        "- While: Unknown iteration count, condition-dependent\n",
        "- For: Known sequences, collection processing\n",
        "- Nested: Multi-level data structures, matrix operations\n",
        "- Control: Early exit, iteration skipping, completion handling\n",
        "\n",
        "**Design Philosophy:** Each loop type optimized for specific scenarios\n",
        "\n",
        "**Versatility:** Comprehensive coverage of repetition needs\n",
        "\n",
        "Each type serves different purposes and helps you solve various programming challenges efficiently."
      ],
      "metadata": {
        "id": "9-oOnNr5gVhy"
      },
      "id": "9-oOnNr5gVhy"
    },
    {
      "cell_type": "code",
      "source": [
        "# While loop - condition-based repetition\n",
        "count = 0\n",
        "while count < 5:\n",
        "    print(f\"While loop: {count}\")\n",
        "    count += 1"
      ],
      "metadata": {
        "colab": {
          "base_uri": "https://localhost:8080/"
        },
        "id": "jTiv68jShDWu",
        "outputId": "25594894-0340-4e67-a84c-71dd378490fa"
      },
      "id": "jTiv68jShDWu",
      "execution_count": null,
      "outputs": [
        {
          "output_type": "stream",
          "name": "stdout",
          "text": [
            "While loop: 0\n",
            "While loop: 1\n",
            "While loop: 2\n",
            "While loop: 3\n",
            "While loop: 4\n"
          ]
        }
      ]
    },
    {
      "cell_type": "code",
      "source": [
        "# Different types of loops\n",
        "numbers = [0, 1, 2, 3, 4]\n",
        "\n",
        "# For loop - sequence iteration\n",
        "for number in numbers:\n",
        "    print(f\"For loop: {number}\")"
      ],
      "metadata": {
        "colab": {
          "base_uri": "https://localhost:8080/"
        },
        "id": "NZ3Pgq7JhGMm",
        "outputId": "c1cff0f2-862d-44da-f856-3fe34af34ed2"
      },
      "id": "NZ3Pgq7JhGMm",
      "execution_count": null,
      "outputs": [
        {
          "output_type": "stream",
          "name": "stdout",
          "text": [
            "For loop: 0\n",
            "For loop: 1\n",
            "For loop: 2\n",
            "For loop: 3\n",
            "For loop: 4\n"
          ]
        }
      ]
    },
    {
      "cell_type": "code",
      "source": [
        "# Range-based for loop\n",
        "for i in range(5):\n",
        "    print(f\"Range loop: {i}\")"
      ],
      "metadata": {
        "colab": {
          "base_uri": "https://localhost:8080/"
        },
        "id": "8fXod9zbhGRN",
        "outputId": "31ee0b7d-9558-4f60-9854-4e239d223f88"
      },
      "id": "8fXod9zbhGRN",
      "execution_count": null,
      "outputs": [
        {
          "output_type": "stream",
          "name": "stdout",
          "text": [
            "Range loop: 0\n",
            "Range loop: 1\n",
            "Range loop: 2\n",
            "Range loop: 3\n",
            "Range loop: 4\n"
          ]
        }
      ]
    },
    {
      "cell_type": "markdown",
      "source": [
        "### Loop Control and Flow\n",
        "\n",
        "Loops provide sophisticated control mechanisms that let you modify their behavior during execution using decision-making concepts. You can exit loops early, skip iterations, or even execute code when loops complete normally.\n",
        "\n",
        "**Loop Control Mechanisms**\n",
        "\n",
        "**Control Statements:**\n",
        "\n",
        "- `break`: Immediate loop termination\n",
        "- `continue`: Skip current iteration, proceed to next\n",
        "- `else`: Execute when loop completes normally\n",
        "- `pass`**bold text**: Placeholder for empty loop bodies\n",
        "\n",
        "**Advanced Control:**\n",
        "\n",
        "- Early exit conditions for efficiency\n",
        "- Conditional iteration skipping\n",
        "- Normal completion detection\n",
        "- Exception handling within loops\n",
        "\n",
        "**Flexibility**: Precise control over loop execution flow\n",
        "\n",
        "**Optimization**: Avoid unnecessary iterations and processing\n",
        "\n",
        "These control mechanisms make loops flexible tools that can handle complex logic and edge cases gracefully."
      ],
      "metadata": {
        "id": "aXAdMSDth3H0"
      },
      "id": "aXAdMSDth3H0"
    },
    {
      "cell_type": "code",
      "source": [
        "# Loop control examples\n",
        "numbers = [1, 2, 3, 4, 5, 6, 7, 8, 9, 10]\n",
        "\n",
        "print(\"=== BREAK EXAMPLE ===\")\n",
        "# Finding first even number\n",
        "for num in numbers:\n",
        "    if num % 2 == 0:\n",
        "        print(f\"First even number: {num}\")\n",
        "        break  # Exit loop early"
      ],
      "metadata": {
        "colab": {
          "base_uri": "https://localhost:8080/"
        },
        "id": "F_MwZ_mgiR7K",
        "outputId": "7314c3d1-772c-4131-e86a-ccd62b4868ad"
      },
      "id": "F_MwZ_mgiR7K",
      "execution_count": null,
      "outputs": [
        {
          "output_type": "stream",
          "name": "stdout",
          "text": [
            "=== BREAK EXAMPLE ===\n",
            "First even number: 2\n"
          ]
        }
      ]
    },
    {
      "cell_type": "code",
      "source": [
        "print(\"\\n=== CONTINUE EXAMPLE ===\")\n",
        "# Processing only odd numbers\n",
        "print(\"Odd numbers:\")\n",
        "for num in numbers:\n",
        "    if num % 2 == 0:\n",
        "        continue  # Skip even numbers\n",
        "    print(num)"
      ],
      "metadata": {
        "colab": {
          "base_uri": "https://localhost:8080/"
        },
        "id": "qQA98D0viXY-",
        "outputId": "3626a610-33a8-4cd5-ec87-3200924b499b"
      },
      "id": "qQA98D0viXY-",
      "execution_count": null,
      "outputs": [
        {
          "output_type": "stream",
          "name": "stdout",
          "text": [
            "\n",
            "=== CONTINUE EXAMPLE ===\n",
            "Odd numbers:\n",
            "1\n",
            "3\n",
            "5\n",
            "7\n",
            "9\n"
          ]
        }
      ]
    },
    {
      "cell_type": "code",
      "source": [
        "print(\"\\n=== ELSE EXAMPLE ===\")\n",
        "# Using else with for loop\n",
        "target = 15\n",
        "for num in numbers:\n",
        "    if num == target:\n",
        "        print(f\"Found {target}!\")\n",
        "        break\n",
        "else:\n",
        "    print(f\"{target} not found in list\")\n"
      ],
      "metadata": {
        "colab": {
          "base_uri": "https://localhost:8080/"
        },
        "id": "pxVIFqS7iZ4K",
        "outputId": "d6e670aa-42e1-4725-93a8-d64bcfcf9d85"
      },
      "id": "pxVIFqS7iZ4K",
      "execution_count": null,
      "outputs": [
        {
          "output_type": "stream",
          "name": "stdout",
          "text": [
            "\n",
            "=== ELSE EXAMPLE ===\n",
            "15 not found in list\n"
          ]
        }
      ]
    },
    {
      "cell_type": "markdown",
      "source": [],
      "metadata": {
        "id": "Rds6zwhyugE1"
      },
      "id": "Rds6zwhyugE1"
    },
    {
      "cell_type": "markdown",
      "source": [
        "### Function Basics\n",
        "\n",
        "Functions are the building blocks of organized, reusable code in Python. They allow you to group related statements together, eliminate repetition, and create modular programs that are easier to understand, test, and maintain.\n",
        "\n",
        "Function creation in Python uses the `def` keyword followed by the function name and parentheses. The colon starts the function body, which should be indented consistently.\n"
      ],
      "metadata": {
        "id": "TTH725xmDQ6P"
      },
      "id": "TTH725xmDQ6P"
    },
    {
      "cell_type": "code",
      "source": [
        "# Basic function definition and usage\n",
        "def greet_user(name):\n",
        "    \"\"\"Say hello to a user\"\"\"\n",
        "    return f\"Hello, {name}! Welcome to Python!\"\n",
        "\n",
        "# Call the function\n",
        "message = greet_user(\"Alice\")\n",
        "print(message)\n",
        "\n",
        "# Call it multiple times\n",
        "print(greet_user(\"Bob\"))\n",
        "print(greet_user(\"Charlie\"))\n"
      ],
      "metadata": {
        "colab": {
          "base_uri": "https://localhost:8080/"
        },
        "id": "lbNTAb17Dgnf",
        "outputId": "aa71d912-af7c-4905-fdfb-eff1e97bf9b9"
      },
      "id": "lbNTAb17Dgnf",
      "execution_count": null,
      "outputs": [
        {
          "output_type": "stream",
          "name": "stdout",
          "text": [
            "Hello, Alice! Welcome to Python!\n",
            "Hello, Bob! Welcome to Python!\n",
            "Hello, Charlie! Welcome to Python!\n"
          ]
        }
      ]
    },
    {
      "cell_type": "markdown",
      "source": [
        "**Function Definition Rules**\n",
        "\n",
        "**Naming**: Use descriptive names with lowercase and underscores (snake_case).\n",
        "\n",
        "**Parameters**: Define inputs the function needs inside parentheses.\n",
        "\n",
        "**Docstring**: Add a brief description of what the function does (optional but recommended).\n",
        "\n",
        "**Return**: Use return to send a value back to the caller.\n",
        "\n",
        "**Indentation**: Function body must be consistently indented (usually 4 spaces)."
      ],
      "metadata": {
        "id": "UWeuuVGVDjq_"
      },
      "id": "UWeuuVGVDjq_"
    },
    {
      "cell_type": "markdown",
      "source": [
        "### Function Components\n",
        "\n",
        "Understanding the anatomy of functions helps you write better, more maintainable code. Each part serves a specific purpose in making your functions clear and useful.\n",
        "\n",
        "**Function Name and Parameters**\n",
        "\n",
        "Choosing descriptive names and clear parameters makes your functions self-documenting and easier to use."
      ],
      "metadata": {
        "id": "INMf7XVsDxQg"
      },
      "id": "INMf7XVsDxQg"
    },
    {
      "cell_type": "code",
      "source": [
        "def convert_temperature(celsius):\n",
        "    \"\"\"Convert Celsius to Fahrenheit\"\"\"\n",
        "    fahrenheit = (celsius * 9/5) + 32\n",
        "    return fahrenheit\n",
        "\n",
        "def format_currency(amount):\n",
        "    \"\"\"Format number as currency string\"\"\"\n",
        "    return f\"${amount:,.2f}\"\n",
        "\n",
        "# Test the functions\n",
        "temp_f = convert_temperature(25)\n",
        "price = format_currency(1234.56)\n",
        "\n",
        "print(f\"25°C = {temp_f}°F\")\n",
        "print(f\"Price: {price}\")\n"
      ],
      "metadata": {
        "colab": {
          "base_uri": "https://localhost:8080/"
        },
        "id": "CaYiBtGlDrmi",
        "outputId": "328d2003-c71c-4f04-aa58-0ca807bd1b1a"
      },
      "id": "CaYiBtGlDrmi",
      "execution_count": null,
      "outputs": [
        {
          "output_type": "stream",
          "name": "stdout",
          "text": [
            "25°C = 77.0°F\n",
            "Price: $1,234.56\n"
          ]
        }
      ]
    },
    {
      "cell_type": "markdown",
      "source": [
        "**Return Statements**\n",
        "\n",
        "Return statements send values back to the function caller and immediately exit the function."
      ],
      "metadata": {
        "id": "e212eN86EBx6"
      },
      "id": "e212eN86EBx6"
    },
    {
      "cell_type": "code",
      "source": [
        "def get_grade(score):\n",
        "    \"\"\"Convert numeric score to letter grade\"\"\"\n",
        "    if score >= 90:\n",
        "        return \"A\"\n",
        "    elif score >= 80:\n",
        "        return \"B\"\n",
        "    elif score >= 70:\n",
        "        return \"C\"\n",
        "    else:\n",
        "        return \"F\"\n",
        "\n",
        "def is_even(number):\n",
        "    \"\"\"Check if a number is even\"\"\"\n",
        "    return number % 2 == 0\n",
        "\n",
        "# Test different return types\n",
        "grade = get_grade(85)\n",
        "even_check = is_even(42)\n",
        "\n",
        "print(f\"Grade: {grade}\")\n",
        "print(f\"42 is even: {even_check}\")\n"
      ],
      "metadata": {
        "colab": {
          "base_uri": "https://localhost:8080/"
        },
        "id": "DZKCDEUWD8Tx",
        "outputId": "213256e8-f0f0-49d2-f2e1-90034141a6e0"
      },
      "id": "DZKCDEUWD8Tx",
      "execution_count": null,
      "outputs": [
        {
          "output_type": "stream",
          "name": "stdout",
          "text": [
            "Grade: B\n",
            "42 is even: True\n"
          ]
        }
      ]
    },
    {
      "cell_type": "markdown",
      "source": [
        "**Function Call Process**\n",
        "\n",
        "Understanding how Python executes functions helps you debug issues and write more effective code. The execution flow involves parameter binding, code execution, and value return."
      ],
      "metadata": {
        "id": "g6UW3FgsEKFZ"
      },
      "id": "g6UW3FgsEKFZ"
    },
    {
      "cell_type": "code",
      "source": [
        "def process_order(item, quantity, price):\n",
        "    \"\"\"Calculate order total with tax\"\"\"\n",
        "    subtotal = quantity * price\n",
        "    tax = subtotal * 0.08\n",
        "    total = subtotal + tax\n",
        "\n",
        "    print(f\"Processing order for {quantity} {item}(s)\")\n",
        "    print(f\"Subtotal: ${subtotal:.2f}\")\n",
        "    print(f\"Tax: ${tax:.2f}\")\n",
        "\n",
        "    return total\n",
        "\n",
        "# Function call - arguments passed to parameters\n",
        "final_total = process_order(\"laptop\", 2, 999.99)\n",
        "print(f\"Final total: ${final_total:.2f}\")\n"
      ],
      "metadata": {
        "colab": {
          "base_uri": "https://localhost:8080/"
        },
        "id": "ie5u_jOUEN9K",
        "outputId": "a4996dc7-1078-4ead-93f2-fc4b8e9cdca2"
      },
      "id": "ie5u_jOUEN9K",
      "execution_count": null,
      "outputs": [
        {
          "output_type": "stream",
          "name": "stdout",
          "text": [
            "Processing order for 2 laptop(s)\n",
            "Subtotal: $1999.98\n",
            "Tax: $160.00\n",
            "Final total: $2159.98\n"
          ]
        }
      ]
    },
    {
      "cell_type": "markdown",
      "source": [
        "## Exercises"
      ],
      "metadata": {
        "id": "4b2cFCyPaRwy"
      },
      "id": "4b2cFCyPaRwy"
    },
    {
      "cell_type": "markdown",
      "id": "57527ef6-5c0a-4136-9336-148683cca090",
      "metadata": {
        "id": "57527ef6-5c0a-4136-9336-148683cca090"
      },
      "source": [
        "### Exercise 4.1 Even or Odd\n",
        "\n",
        "**Description:**\n",
        "\n",
        "Write a program that takes an integer input from the user and prints whether the number is even or odd.\n",
        "\n",
        "**Hint:**\n",
        "\n",
        "Use the modulus operator `%`. For example,\n",
        "\n",
        "3 % 2 = 1\n",
        "\n",
        "4 % 2 = 0"
      ]
    },
    {
      "cell_type": "code",
      "execution_count": null,
      "id": "1ce0da08-f7b6-4486-859e-a5bce216a967",
      "metadata": {
        "colab": {
          "base_uri": "https://localhost:8080/"
        },
        "id": "1ce0da08-f7b6-4486-859e-a5bce216a967",
        "outputId": "eac88f72-76e6-49b5-f2eb-48bf2dc6c50b"
      },
      "outputs": [
        {
          "name": "stdout",
          "output_type": "stream",
          "text": [
            "Enter an integer: 1\n"
          ]
        }
      ],
      "source": [
        "# Task: Read an integer and print \"even\" if it is divisible by 2, otherwise \"odd\".\n",
        "\n",
        "n = int(input(\"Enter an integer: \"))\n",
        "\n",
        "# TODO: If n is divisible by 2, print \"even\", else print \"odd\"\n"
      ]
    },
    {
      "cell_type": "markdown",
      "id": "a118f1c8-d0e1-4860-8aaa-7a1bd010e386",
      "metadata": {
        "id": "a118f1c8-d0e1-4860-8aaa-7a1bd010e386"
      },
      "source": [
        "### Exercise 4.2 Grade Checker\n",
        "\n",
        "**Description:**\n",
        "\n",
        "Write a program that asks the user for a test score (0–100). Then:\n",
        "\n",
        "Print \"A\" if score ≥ 90\n",
        "\n",
        "Print \"B\" if score ≥ 80\n",
        "\n",
        "Print \"C\" if score ≥ 70\n",
        "\n",
        "Print \"D\" if score ≥ 60\n",
        "\n",
        "Otherwise, print \"F\"\n",
        "\n",
        "**Hint:**\n",
        "\n",
        "Use if, elif, else."
      ]
    },
    {
      "cell_type": "code",
      "execution_count": null,
      "id": "ef27572f-9c0a-42dc-b379-7cfa367490ff",
      "metadata": {
        "colab": {
          "base_uri": "https://localhost:8080/"
        },
        "id": "ef27572f-9c0a-42dc-b379-7cfa367490ff",
        "outputId": "840f3854-75fb-46ba-9e62-ac0439875b37"
      },
      "outputs": [
        {
          "name": "stdout",
          "output_type": "stream",
          "text": [
            "Enter score (0-100): 10\n"
          ]
        }
      ],
      "source": [
        "# Task: Read a score (0–100) and print grade A/B/C/D/F\n",
        "score = int(input(\"Enter score (0-100): \"))\n",
        "\n",
        "# TODO:\n",
        "#   >= 90: A\n",
        "#   >= 80: B\n",
        "#   >= 70: C\n",
        "#   >= 60: D\n",
        "#   else: F\n",
        "# Use if / elif / else"
      ]
    },
    {
      "cell_type": "markdown",
      "id": "a687bfe6-63f4-4b27-90ab-03e8014c32cf",
      "metadata": {
        "id": "a687bfe6-63f4-4b27-90ab-03e8014c32cf"
      },
      "source": [
        "### Exercise 4.3 Leap Year Detector\n",
        "\n",
        "**Description:**\n",
        "\n",
        "Write a program that asks for a year and prints whether it is a leap year (闰年) or not.\n",
        "Rules:\n",
        "\n",
        "- A year is a leap year if divisible by 4,\n",
        "\n",
        "- but not divisible by 100,\n",
        "\n",
        "- unless it is also divisible by 400.\n",
        "\n",
        "**Examples:**\n",
        "```{python}\n",
        "# Example 1\n",
        "Input: 2004\n",
        "\n",
        "Output: yes\n",
        "\n",
        "Explain:\n",
        "2004 % 4 == 0, 2004 % 100 != 0, 2004 % 400 != 0\n",
        "```\n",
        "\n",
        "```{python}\n",
        "# Example 2\n",
        "Input: 2000\n",
        "\n",
        "Output: no\n",
        "\n",
        "Explain:\n",
        "2000 % 4 == 0, 2000 % 100 == 0, 2000 % 400 == 0\n",
        "```\n",
        "\n",
        "\n",
        "**Hint:**\n",
        "\n",
        "divisible by 4: (year % 4 == 0)\n",
        "\n",
        "not divisible by 100: (year % 100 != 0)\n",
        "\n",
        "divisible by 400: (year % 400 == 0)\n",
        "\n",
        "Use nested ifs and and/or.\n"
      ]
    },
    {
      "cell_type": "code",
      "execution_count": null,
      "id": "2cab4919-c107-45c6-915a-3ca3eae3d122",
      "metadata": {
        "colab": {
          "base_uri": "https://localhost:8080/"
        },
        "id": "2cab4919-c107-45c6-915a-3ca3eae3d122",
        "outputId": "1645bbc4-b0c7-4572-9485-3a84e2b0099d"
      },
      "outputs": [
        {
          "name": "stdout",
          "output_type": "stream",
          "text": [
            "Enter a year: 1000\n"
          ]
        }
      ],
      "source": [
        "# Task: Read a year, print \"leap\" or \"not leap\"\n",
        "year = int(input(\"Enter a year: \"))\n",
        "\n",
        "# TODO: Implement the leap year rules using nested if OR logical operators\n"
      ]
    },
    {
      "cell_type": "markdown",
      "id": "d4d8d710-5bec-4630-9c2e-a8aa0b835e87",
      "metadata": {
        "id": "d4d8d710-5bec-4630-9c2e-a8aa0b835e87"
      },
      "source": [
        "### Exercise 4.4 Movie Ticket Price Calculator\n",
        "\n",
        "**Description:**\n",
        "\n",
        "Ask the user for their age and whether they are a student (yes/no).\n",
        "\n",
        "Ticket prices:\n",
        "\n",
        "Children (< 12): $5\n",
        "\n",
        "Teenagers (12–17): $7\n",
        "\n",
        "Adults (18+): \\$10, but if they are students, only \\$8.\n",
        "\n",
        "Seniors (65+): $6\n",
        "\n",
        "Print the correct price.\n",
        "\n",
        "**Examples**:\n",
        "```{python}\n",
        "# Example 1\n",
        "Input:\n",
        "15\n",
        "no\n",
        "\n",
        "Output:\n",
        "7\n",
        "\n",
        "Explain:\n",
        "He is Teenagers, so $7\n",
        "```\n",
        "\n",
        "```{python}\n",
        "# Example 2\n",
        "Input:\n",
        "66\n",
        "no\n",
        "\n",
        "Output:\n",
        "6\n",
        "\n",
        "Explain:\n",
        "He is Senior, so $6\n",
        "```\n",
        "\n",
        "```{python}\n",
        "# Example 3\n",
        "Input:\n",
        "20\n",
        "yes\n",
        "\n",
        "Output:\n",
        "8\n",
        "\n",
        "Explain:\n",
        "He is adult, and he is student, so $8\n",
        "```\n",
        "\n",
        "\n",
        "**Hint:**\n",
        "\n",
        "Use nested `if` and combine conditions with `and` `or`."
      ]
    },
    {
      "cell_type": "code",
      "source": [
        "# Task: Ask age and student status, then calculate price\n",
        "age = int(input(\"Enter age: \"))\n",
        "is_student = input(\"Student? (yes/no): \").strip().lower() == \"yes\"\n",
        "\n",
        "price = None\n",
        "\n",
        "# TODO:\n",
        "# 1) Use if / elif / else to check age group\n",
        "\n",
        "# 2) For adults (18–64), nest another if to check if student\n",
        "\n",
        "# 3) Store result in price and print it"
      ],
      "metadata": {
        "colab": {
          "base_uri": "https://localhost:8080/"
        },
        "id": "2smJNiqXOM6o",
        "outputId": "88616c40-d434-4747-8395-ca13ddd5bba8"
      },
      "id": "2smJNiqXOM6o",
      "execution_count": 32,
      "outputs": [
        {
          "name": "stdout",
          "output_type": "stream",
          "text": [
            "Enter age: 15\n",
            "Student? (yes/no): no\n"
          ]
        }
      ]
    },
    {
      "cell_type": "markdown",
      "id": "9a86b170-2837-43c4-bf1c-4c6e87b27b14",
      "metadata": {
        "id": "9a86b170-2837-43c4-bf1c-4c6e87b27b14"
      },
      "source": [
        "### Exercise 4.5 Rock-Paper-Scissors (One Round) (剪刀石头布)\n",
        "\n",
        "**Description:**\n",
        "\n",
        "Ask the user to choose \"rock\" (石头) ✊️, \"paper\" (布) 🖐, or \"scissors\" (剪刀) ✌.\n",
        "\n",
        "Then the computer chooses one randomly.\n",
        "\n",
        "Print who wins.\n",
        "\n",
        "**Hint:**\n",
        "\n",
        "Use multiple `if-elif` with `and` conditions."
      ]
    },
    {
      "cell_type": "code",
      "execution_count": 30,
      "id": "c7963d37-f977-4b2e-9be3-39a5deaeff77",
      "metadata": {
        "colab": {
          "base_uri": "https://localhost:8080/"
        },
        "id": "c7963d37-f977-4b2e-9be3-39a5deaeff77",
        "outputId": "8daab057-fcc2-4f78-b8b3-df23e52a2c18"
      },
      "outputs": [
        {
          "output_type": "stream",
          "name": "stdout",
          "text": [
            "Computer: paper 🖐\n"
          ]
        }
      ],
      "source": [
        "# Task: User chooses \"rock\"/\"paper\"/\"scissors\", computer randomly chooses, decide who wins\n",
        "import random\n",
        "\n",
        "\n",
        "computer = random.choice([\"rock ✊️\", \"paper 🖐\", \"scissors ✌\"])\n",
        "print(\"Computer:\", computer)\n",
        "\n",
        "# TODO:\n",
        "# 1) Ask user to choose\n",
        "# user = input(\"Choose rock/paper/scissors: \").strip().lower()\n",
        "\n",
        "# 2) If same with computer, print \"tie\" (平手)\n",
        "\n",
        "# 3) If user wins (rock>scissors, scissors>paper, paper>rock), print \"!!! you win !!!\"\n",
        "\n",
        "# 4) Else, print \"computer wins\""
      ]
    },
    {
      "cell_type": "markdown",
      "source": [
        "### Exercise 4.6 Print Numbers from 1 to N\n",
        "\n",
        "**Description:**\n",
        "\n",
        "Write a program that asks the user for a positive integer N and prints all numbers from 1 to N.\n",
        "\n",
        "**Examples**:\n",
        "\n",
        "```{python}\n",
        "# Example 1\n",
        "Input:\n",
        "1\n",
        "\n",
        "Output:\n",
        "1\n",
        "```\n",
        "\n",
        "```{python}\n",
        "# Example 1\n",
        "Input:\n",
        "5\n",
        "\n",
        "Output:\n",
        "1, 2, 3, 4, 5\n",
        "```\n",
        "\n",
        "**Hint:**\n",
        "\n",
        "Use a for loop with `range()`.\n",
        "\n",
        "`range(1, N+1)` gives numbers from 1 to N."
      ],
      "metadata": {
        "id": "wQ7w-hE7ksQz"
      },
      "id": "wQ7w-hE7ksQz"
    },
    {
      "cell_type": "code",
      "source": [
        "# Task: Print numbers from 1 to N\n",
        "\n",
        "N = int(input(\"Enter a positive integer: \"))\n",
        "\n",
        "# TODO:\n",
        "# 1) Use a for loop with range(1, N+1)\n",
        "# 2) Print each number"
      ],
      "metadata": {
        "id": "WAQIoD0qk6fM"
      },
      "id": "WAQIoD0qk6fM",
      "execution_count": null,
      "outputs": []
    },
    {
      "cell_type": "markdown",
      "source": [
        "### Exercise 4.7 Sum of Even Numbers\n",
        "\n",
        "**Description:**\n",
        "\n",
        "Write a program that asks for a positive integer N and calculates the sum of all even numbers from 1 to N.\n",
        "\n",
        "**Examples:**\n",
        "\n",
        "```{python}\n",
        "# Example 1\n",
        "Input:\n",
        "2\n",
        "\n",
        "Output:\n",
        "4\n",
        "\n",
        "Explain:\n",
        "N = 2\n",
        "from 1 to N it is [1,2]\n",
        "sum of all even number = 2\n",
        "```\n",
        "\n",
        "```{python}\n",
        "# Example 2\n",
        "Input:\n",
        "4\n",
        "\n",
        "Output:\n",
        "6\n",
        "\n",
        "Explain:\n",
        "N = 4\n",
        "from 1 to N it is [1,2,3,4]\n",
        "sum of all even number = 2 + 4 = 6\n",
        "```\n",
        "\n",
        "**Hint:**\n",
        "\n",
        "Use a for loop.\n",
        "\n",
        "Check if a number is even with (`num % 2 == 0`)."
      ],
      "metadata": {
        "id": "UplOkmYflk0C"
      },
      "id": "UplOkmYflk0C"
    },
    {
      "cell_type": "code",
      "source": [
        "# Task: Calculate sum of even numbers up to N\n",
        "\n",
        "N = int(input(\"Enter a positive integer: \"))\n",
        "total = 0\n",
        "\n",
        "# TODO:\n",
        "# 1) Loop through numbers from 1 to N\n",
        "# 2) If the number is even, add to total\n",
        "# 3) After loop, print the total\n"
      ],
      "metadata": {
        "id": "o5-BJQmgluep"
      },
      "id": "o5-BJQmgluep",
      "execution_count": null,
      "outputs": []
    },
    {
      "cell_type": "code",
      "source": [],
      "metadata": {
        "id": "sa5uCs6bnS4P"
      },
      "id": "sa5uCs6bnS4P",
      "execution_count": null,
      "outputs": []
    },
    {
      "cell_type": "markdown",
      "source": [
        "### Exercise 4.8 Number Guessing Game\n",
        "\n",
        "**Description:**\n",
        "\n",
        "The program randomly picks a number between 1 and 20.\n",
        "\n",
        "The user keeps guessing until they find the number.\n",
        "\n",
        "The program should give hints (\"Too low!\" / \"Too high!\") after each wrong guess.\n",
        "\n",
        "**Hint:**\n",
        "\n",
        "Use while loop until user guesses correctly.\n",
        "\n",
        "Use `random.randint(1, 20)`."
      ],
      "metadata": {
        "id": "BEpgn0tonTOH"
      },
      "id": "BEpgn0tonTOH"
    },
    {
      "cell_type": "code",
      "source": [
        "import random\n",
        "\n",
        "# Task: Number guessing game\n",
        "secret = random.randint(1, 20)\n",
        "guess = None\n",
        "\n",
        "print(\"The program randomly picks a number between 1 and 20.\")\n",
        "print(\"Please guess what number it is.\")\n",
        "\n",
        "# TODO:\n",
        "# 1) While guess != secret:\n",
        "#    - Ask user for input\n",
        "#       - guess = int(input(\"your guess number: \"))\n",
        "#    - Compare guess with secret\n",
        "#    - Print \"Too low!\", \"Too high!\", or \"Correct !!!\"\n"
      ],
      "metadata": {
        "colab": {
          "base_uri": "https://localhost:8080/"
        },
        "id": "-u3yZA88nYaR",
        "outputId": "1fbd8255-50dd-4556-d2dc-64622e6f0104"
      },
      "id": "-u3yZA88nYaR",
      "execution_count": null,
      "outputs": [
        {
          "output_type": "stream",
          "name": "stdout",
          "text": [
            "The program randomly picks a number between 1 and 20.\n",
            "Please guess what number it is.\n",
            "your guess number: 10\n",
            "Too low\n",
            "your guess number: 15\n",
            "Too low\n",
            "your guess number: 17\n",
            "Too low\n",
            "your guess number: 18\n",
            "Too low\n",
            "your guess number: 19\n",
            "Too low\n",
            "your guess number: 20\n",
            "Correct ~ !!! ^_^\n"
          ]
        }
      ]
    },
    {
      "cell_type": "markdown",
      "source": [
        "### Exercise 4.9 Dice Roller Gambling\n",
        "\n",
        "**Description:**\n",
        "\n",
        "Suppose you are playing a dice guess game. (a dice has numbers 1,2,3,4,5,6)\n",
        "\n",
        "Each time the computer will roll a dice.\n",
        "\n",
        "You guess it is small (1,2,3) or big (4,5,6).\n",
        "\n",
        "- If you are correct → your money doubles.\n",
        "\n",
        "- If you are wrong → you lose all money and game over.\n",
        "\n",
        "1. Suppose you start with $100.\n",
        "\n",
        "2. You are allowed to play at max 10 rounds.\n",
        "\n",
        "Please finish `TODO` part to play this game.\n",
        "\n",
        "\n",
        "**Hint:**\n",
        "\n",
        "Use `random.randint(1, 6)`.\n",
        "\n",
        "Use a for loop."
      ],
      "metadata": {
        "id": "qbqmhgJupx47"
      },
      "id": "qbqmhgJupx47"
    },
    {
      "cell_type": "code",
      "source": [
        "import random\n",
        "\n",
        "# Task: Dice gambling game\n",
        "\n",
        "money = 100  # This is the money you start with\n",
        "\n",
        "# TODO:\n",
        "# 1) while money > 0:\n",
        "#    - ask guess = input(\"Guess small or big? \").strip().lower()\n",
        "#    - roll = random.randint(1,6)\n",
        "#    - print(\"Dice shows:\", roll)\n",
        "#    - if guess is correct:\n",
        "#         double money, print \"You win! Money =\", money\n",
        "#      else:\n",
        "#         money = 0, print \"You lose! Game over\"\n",
        "# 2) After loop, print \"Thanks for playing!\"\n"
      ],
      "metadata": {
        "id": "7Daul59Do3di"
      },
      "id": "7Daul59Do3di",
      "execution_count": null,
      "outputs": []
    },
    {
      "cell_type": "markdown",
      "source": [
        "### Exercise 4.10 Rock–Paper–Scissors Game\n",
        "\n",
        "**Description:**\n",
        "\n",
        "Play Rock–Paper–Scissors with the computer.\n",
        "\n",
        "Each round, the computer randomly chooses rock, paper, or scissors.\n",
        "\n",
        "- If you win → your score increases by 1.\n",
        "\n",
        "- If you lose → the game ends.\n",
        "\n",
        "**Hint:**\n",
        "\n",
        "Winning logic: rock > scissors, scissors > paper, paper > rock\n",
        "\n",
        "Use `random.choice()` to generate the computer’s move.\n",
        "\n",
        "Use a `while` loop to keep playing until the player loses."
      ],
      "metadata": {
        "id": "lbj5tA1EtaUq"
      },
      "id": "lbj5tA1EtaUq"
    },
    {
      "cell_type": "code",
      "source": [
        "import random\n",
        "\n",
        "# Task: Rock-Paper-Scissors until you lose\n",
        "\n",
        "score = 0\n",
        "\n",
        "# TODO:\n",
        "# 1) while True:\n",
        "#    - ask user = input(\"Choose rock/paper/scissors: \").strip().lower()\n",
        "#    - computer = random.choice([\"rock\", \"paper\", \"scissors\"])\n",
        "#    - print(\"Computer chose:\", computer)\n",
        "#    - Decide winner:\n",
        "#         if tie: print(\"It's a tie\")\n",
        "#         if user wins: score += 1, print(\"You win! Score =\", score)\n",
        "#         if user loses: print(\"You lose! Game over\"); break\n"
      ],
      "metadata": {
        "id": "Tjbtp0kPtlo6"
      },
      "id": "Tjbtp0kPtlo6",
      "execution_count": null,
      "outputs": []
    },
    {
      "cell_type": "markdown",
      "source": [
        "### Exercise 4.11 Dice Roller Function\n",
        "\n",
        "**Description:**\n",
        "\n",
        "Create a function `roll_dice()` that simulates rolling a dice and returns a random number between 1 and 6.\n",
        "\n",
        "The user can call it multiple times to play.\n",
        "\n",
        "**Examples:**\n",
        "```{python}\n",
        "Input: 3\n",
        "\n",
        "Output: 1, 4, 6\n",
        "\n",
        "Explain: roll dice 3 times\n",
        "```\n",
        "\n",
        "**Hint:**\n",
        "\n",
        "Use `random.randint(1,6)` inside the function.\n",
        "\n",
        "Return the result so it can be printed or stored.\n"
      ],
      "metadata": {
        "id": "u9x7QBguFJer"
      },
      "id": "u9x7QBguFJer"
    },
    {
      "cell_type": "code",
      "source": [
        "import random\n",
        "\n",
        "# Task: Define a dice rolling function\n",
        "\n",
        "# TODO:\n",
        "# 1) Define function roll_dice() that returns random.randint(1,6)\n",
        "# 2) Ask user how many times to roll\n",
        "# 3) Loop that many times, call roll_dice(), and print results\n"
      ],
      "metadata": {
        "id": "FqNnOiaPFUCl"
      },
      "id": "FqNnOiaPFUCl",
      "execution_count": null,
      "outputs": []
    },
    {
      "cell_type": "markdown",
      "source": [
        "### Exercise 4.12 Student Grades Analysis\n",
        "\n",
        "**Description:**\n",
        "\n",
        "You are given a list of student grades:\n",
        "```{python}\n",
        "grades = [85, 92, 76, 61, 58, 90, 73, 88, 95, 67]\n",
        "```\n",
        "\n",
        "Write functions to analyze this data:\n",
        "\n",
        "`average_grade(grades)` → returns the class average.\n",
        "\n",
        "`highest_grade(grades)` → returns the highest grade.\n",
        "\n",
        "`lowest_grade(grades)` → returns the lowest grade.\n",
        "\n",
        "`count_passed(grades)` → returns how many students passed (>= 60).\n",
        "\n",
        "`grades_above_average(grades)` → returns all grades above the average.\n",
        "\n",
        "**Hint:**\n",
        "\n",
        "Use `sum(list)/len(list)` for average.\n",
        "\n",
        "Use `max(list)` and `min(list)` for highest and lowest.\n",
        "\n",
        "Use a loop to count passes and collect above-average grades."
      ],
      "metadata": {
        "id": "uQz9qKPFGnwX"
      },
      "id": "uQz9qKPFGnwX"
    },
    {
      "cell_type": "code",
      "source": [
        "# Task: Analyze student grades with lists and functions\n",
        "\n",
        "grades = [85, 92, 76, 61, 58, 90, 73, 88, 95, 67]\n",
        "\n",
        "# TODO:\n",
        "# 1) Define average_grade(grades) -> return average\n",
        "# 2) Define highest_grade(grades) -> return max value\n",
        "# 3) Define lowest_grade(grades) -> return min value\n",
        "# 4) Define count_passed(grades) -> return number >= 60\n",
        "# 5) Define grades_above_average(grades) -> return list of values > average\n",
        "# 6) Call functions and print results\n"
      ],
      "metadata": {
        "id": "e3fA9qohGnAw"
      },
      "id": "e3fA9qohGnAw",
      "execution_count": null,
      "outputs": []
    }
  ],
  "metadata": {
    "kernelspec": {
      "display_name": ".venv",
      "language": "python",
      "name": ".venv"
    },
    "language_info": {
      "codemirror_mode": {
        "name": "ipython",
        "version": 3
      },
      "file_extension": ".py",
      "mimetype": "text/x-python",
      "name": "python",
      "nbconvert_exporter": "python",
      "pygments_lexer": "ipython3",
      "version": "3.13.7"
    },
    "colab": {
      "provenance": [],
      "toc_visible": true
    }
  },
  "nbformat": 4,
  "nbformat_minor": 5
}
